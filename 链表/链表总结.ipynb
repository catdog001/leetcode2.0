{
 "cells": [
  {
   "cell_type": "markdown",
   "source": [
    "# 编程技巧\n",
    "## 模板\n",
    "1. 保存下个节点  \n",
    "2. 改变当前节点  \n",
    "3. 把保存的下个节点赋给当前pointer\n",
    "\n",
    "## brute force  \n",
    "遍历到list/set里，进行操作，再遍历重构\n",
    "\n",
    "## optimized method"
   ],
   "metadata": {
    "collapsed": false
   }
  },
  {
   "cell_type": "markdown",
   "source": [
    "# 题目分类\n",
    "## 链表划分：\n",
    "### 划分成大块：86. Partition List （小值块-大值块）\n",
    "### 划分成小块：725. Split Linked List in Parts\n",
    "## 链表排序：\n",
    "    基本排序法的应用\n",
    "        插入法 O(n2)：147. Insertion Sort List\n",
    "        堆/快速/归并法 O(nlgn): 148. Sort List\n",
    "    特色排序：\n",
    "        首末插花 1-5-2-4-3：143. Reorder List\n",
    "        前奇后偶 1-3-5-2-4：328. Odd Even Linked List\n",
    "        前后块对调 4-5-1-2-3, k=2: 61. Rotate List\n",
    "    转置：\n",
    "        全转置 5-4-3-2-1 ：206. Reverse Linked List\n",
    "        部分转置 m=2 n=3 1-3-2-4-5：92. Reverse Linked List II\n",
    "        连续转置k个：25. Reverse Nodes in k-Group\n",
    "            特殊情况 k=2 2-1-4-3-5: 24. Swap Nodes in Pairs"
   ],
   "metadata": {
    "collapsed": false
   }
  }
 ],
 "metadata": {
  "kernelspec": {
   "display_name": "Python 3",
   "language": "python",
   "name": "python3"
  },
  "language_info": {
   "codemirror_mode": {
    "name": "ipython",
    "version": 2
   },
   "file_extension": ".py",
   "mimetype": "text/x-python",
   "name": "python",
   "nbconvert_exporter": "python",
   "pygments_lexer": "ipython2",
   "version": "2.7.6"
  },
  "pycharm": {
   "stem_cell": {
    "cell_type": "raw",
    "source": [],
    "metadata": {
     "collapsed": false
    }
   }
  }
 },
 "nbformat": 4,
 "nbformat_minor": 0
}