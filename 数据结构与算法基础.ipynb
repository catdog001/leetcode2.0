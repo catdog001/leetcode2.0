{
 "cells": [
  {
   "cell_type": "markdown",
   "source": [
    "# 数据结构基础  \n",
    "## 1.数组 Array/list  \n",
    "### 1.1.定义 definition\n",
    "* 基于顺序索引（常见的是基于0的索引）存储数据元素。 Stores data elements based on an sequential, most commonly 0 based, index.\n",
    "* 基于集合论的元组（元组 + 可变的集合 -> 可变的元组）。Based on tuples from set theory.\n",
    "* 最古老，最常用的数据结构之一。They are on e of the oldest, most commonly used data structures.\n",
    "\n",
    "### 1.2. 要点 what you need to know:\n",
    "* 适合：索引；不适合：搜索，插入，删除。Optimal for indexing; bad at searching, inserting, and deleting(except at the end).\n",
    "* 最基本结构：线性数组或一维数组。Linear arrays, or one dimensional arrays, are the most basic.\n",
    "    * 规模大小：静态的，故以静态大小声明。Are static in size, meaning that they are declared with a fixed size.\n",
    "* Dynamic arrays are like one dimensional arrays, but have reserved space for additional elements.\n",
    "    * if a dynamic array is full, it copies its contents to a larger array."
   ],
   "metadata": {
    "collapsed": false
   }
  }
 ],
 "metadata": {
  "kernelspec": {
   "display_name": "Python 3",
   "language": "python",
   "name": "python3"
  },
  "language_info": {
   "codemirror_mode": {
    "name": "ipython",
    "version": 2
   },
   "file_extension": ".py",
   "mimetype": "text/x-python",
   "name": "python",
   "nbconvert_exporter": "python",
   "pygments_lexer": "ipython2",
   "version": "2.7.6"
  },
  "pycharm": {
   "stem_cell": {
    "cell_type": "raw",
    "source": [],
    "metadata": {
     "collapsed": false
    }
   }
  }
 },
 "nbformat": 4,
 "nbformat_minor": 0
}