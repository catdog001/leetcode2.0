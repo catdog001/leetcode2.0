{
 "cells": [
  {
   "cell_type": "markdown",
   "source": [
    "# Python数据结构基础  \n",
    "## 1.List 列表  \n",
    "### 1.1.Definition 定义 \n",
    "* Stores data elements based on an sequential, most commonly 0 based, index. 基于顺序索引（常见的是基于0的索引）存储数据元素。\n",
    "* Based on tuples from set theory. 基于集合论的元组（元组 + 可变的集合 -> 可变的元组）。\n",
    "* They are one of the oldest, most commonly used data structures. 最古老，最常用的数据结构之一。\n",
    "\n",
    "### 1.2. what you need to know: 记忆点 \n",
    "* Optimal for indexing; Bad at searching, inserting, and deleting(except at the end). 适合 -> 索引；不适合 -> 搜索，插入，删除。\n",
    "* Linear data structures, are the most basic. 最基本结构：线性数组.\n",
    "    * Stack 栈 \n",
    "        * Last-In-First-Out (LIFO) concept 后进先出\n",
    "        * append() / pop() 添加/删除末尾\n",
    "        * can be made form linklist 也可用链表构成\n",
    "    * Queue 队列 First-In-First-Out (FIFO) principle 先进先出\n",
    "        * Lists are not efficient to implement a queue 列表不能有效的执行队列\n",
    "            * 故使用 from collections import deque\n",
    "            * d = deque(iterable) (\"deck\")，If iterable is not specified, the new deque is empty.\n",
    "            * append(x) / appendleft(x) / pop() / popleft() / extend(iterable) / extendleft(iterable) O(1) 双向append or pop, O(1)\n",
    "        * can be made form linklist 也可用链表构成\n",
    "* Non-linear data structures.非线性数据结构\n",
    "    * Graphs 图 [[1,2], [3, 4]]\n",
    "    * Trees  树 中序遍历 [1,[2,4,5],3]\n",
    "\n",
    "### 1.3. Time complexity (linear structure)\n",
    "* Indexing: O(1)\n",
    "* Search: O(N)\n",
    "* Optimized search: O(logN)\n",
    "* Insertion: O(N) (l[a:b] = ...) \n"
   ],
   "metadata": {
    "collapsed": false
   }
  }
 ],
 "metadata": {
  "kernelspec": {
   "display_name": "Python 3",
   "language": "python",
   "name": "python3"
  },
  "language_info": {
   "codemirror_mode": {
    "name": "ipython",
    "version": 2
   },
   "file_extension": ".py",
   "mimetype": "text/x-python",
   "name": "python",
   "nbconvert_exporter": "python",
   "pygments_lexer": "ipython2",
   "version": "2.7.6"
  },
  "pycharm": {
   "stem_cell": {
    "cell_type": "raw",
    "source": [],
    "metadata": {
     "collapsed": false
    }
   }
  }
 },
 "nbformat": 4,
 "nbformat_minor": 0
}