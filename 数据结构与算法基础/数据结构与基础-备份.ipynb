{
 "cells": [
  {
   "cell_type": "markdown",
   "metadata": {},
   "source": [
    "# 二分法"
   ]
  },
  {
   "cell_type": "markdown",
   "metadata": {},
   "source": [
    "## 题目类型"
   ]
  },
  {
   "cell_type": "markdown",
   "metadata": {},
   "source": [
    "### 类型1：有明确的target (模板1)\n",
    "* 归类定义：\n",
    "    * 要求找一个单个的Target值，\n",
    "        * 找到：返回Target值的下标或者Bool函数\n",
    "        * 没找到：\n",
    "            * r,l分别是target的左右两边的数的序号\n",
    "            * l是target插入时应该的序号\n",
    "            * r是小于target的最大的那个数的序号\n",
    "    * 可能是部分有序，即边界的选定模糊化\n",
    "        * 即某一段到某一段有序，某一段到某一段有序\n",
    "        * 我们要做的是在mid分段后，判断l-mid-r中哪一段是有序的，然后再套公式\n",
    "\n",
    "* 注意点\n",
    "    * 当target在nums范围之外时\n",
    "        * r (target < nums[0]) 会小于0\n",
    "        * l(target>nums[-1]) 会大于len(nums) - 1\n",
    "        * 故此时索引nums[l]或nums[r]会报错,故需要提前判断处理一下"
   ]
  },
  {
   "cell_type": "markdown",
   "metadata": {},
   "source": [
    "### 类型2：没有明确的target (模板1)\n",
    "* 归类定义：\n",
    "    * target有多个存在；target需要计算得出；求不存在时的index\n",
    "    * 通过具体的比较查找，即比较nums[mid]和target\n",
    "* 题目类型\n",
    "    * 比Target大的最小值\n",
    "    * 比Target小的最大值\n",
    "    * target的第一个值，最后一个值\n",
    "    * 不满足要求的最后一个值\n",
    "* 题目表述情况\n",
    "    * 问题要求的是比题目要求大或者小的某个数，故设这个数为i，设想问题答案在**i**的左边/右边，那么就把设想的值i当作target，去判定l = mid + 1 / r = mid - 1\n",
    "    * case1:target一个数，在nums里不一定存在， 求该插入的位置\n",
    "        * 不明确：target的位置可能不存在，在nums中\n",
    "        * 解决方案\n",
    "            * **模板1求target，while退出返回的l值即为所求**\n",
    "            * 理解：\n",
    "                * 返回l,r\n",
    "                * arr[r] < target （即i） < arr[l]\n",
    "                * l即为应该插入的点\n",
    "    * case2:target一个数，在nums里一序列存在，求target最后一个值的序号\n",
    "        * 不明确：target的位置有多个，在nums中\n",
    "        * 解决方案\n",
    "            * 理解：根据题意，找到target的最后一个值= target后一个值（不明确）的arr[r]\n",
    "            * 步骤1：假设target的后一个值为i（该i值不存在），求该i值的r值\n",
    "                * 建立了与case 1的关联\n",
    "            * 步骤2：根据case1，求i的位置l和r\n",
    "                * if nums[mid] == target -> 因为求的是i的位置，target < l, 故l = mid + 1\n",
    "    * case3：target一个数，在nums里一序列存在，求target的第一个和最后一个值的序号\n",
    "        * 不明确：target的位置有多个，在nums中\n",
    "        * 解决方案\n",
    "            * 理解\n",
    "                * 找到target的第一个值 = target前一个值（不明确）的arr[l]\n",
    "                * 找到target的最后一个值 = case2\n",
    "            * 步骤1：假设target的前一个值为j（该j值不存在），求该j值的l值\n",
    "                * 建立了与case 1的关联\n",
    "            * 步骤2：根据case 1求j的位置l和r\n",
    "                * if nums[mid] == target -> 因为求的是j的位置，j < target,故r = mid - 1\n",
    "    \n",
    "* 解题分类\n",
    "    * 返回l的情况\n",
    "    * 返回r的情况\n",
    "    * 返回l和r的情况"
   ]
  },
  {
   "cell_type": "markdown",
   "metadata": {},
   "source": [
    "### 类型3：没有明确的target且可越界（模板2）\n",
    "* 情况归类\n",
    "    * 没有明确\n",
    "        * 未给出target\n",
    "        * 模糊的比较法，比较arr[mid]与arr[mid+1],比较arr[l]与arr[mid+1]等,即答案可能在边上\n",
    "    * 可越界\n",
    "        * 通过整体趋势（ascending or descending等）查找\n",
    "        * 在缩小边界之后，target可能还在边界上\n",
    "            * 对于前两种题目类型，比较之后，例如：nums[mid] < target,mid不是target的值，故缩小范围到 l = mid + 1\n",
    "            * 对于本类题目，target < arr[mid]比较之后，由于是趋势比较，故mid位置的值依旧可能是我们要求的值，故缩小范围改为 l = mid\n",
    "* 题目表述情况\n",
    "    * case 1: 找peak值\n",
    "        * 不明确：目标值不明确，应该是在以mid分界的上升区间的右侧，或下降区间的左侧\n",
    "        * 解决方案\n",
    "            * **模板2，根据目标所在位置划分二分区间**\n",
    "            * 理解\n",
    "                * 返回l,r\n",
    "                * l + 1 = r\n",
    "                * 所求目标一定在nums[l],nums[r]里，再根据根据题目要求进行判断"
   ]
  },
  {
   "cell_type": "code",
   "execution_count": null,
   "metadata": {},
   "outputs": [],
   "source": []
  }
 ],
 "metadata": {
  "kernelspec": {
   "display_name": "Python 3",
   "language": "python",
   "name": "python3"
  },
  "language_info": {
   "codemirror_mode": {
    "name": "ipython",
    "version": 3
   },
   "file_extension": ".py",
   "mimetype": "text/x-python",
   "name": "python",
   "nbconvert_exporter": "python",
   "pygments_lexer": "ipython3",
   "version": "3.7.5"
  },
  "toc": {
   "base_numbering": 1,
   "nav_menu": {},
   "number_sections": true,
   "sideBar": true,
   "skip_h1_title": false,
   "title_cell": "Table of Contents",
   "title_sidebar": "Contents",
   "toc_cell": false,
   "toc_position": {},
   "toc_section_display": true,
   "toc_window_display": false
  }
 },
 "nbformat": 4,
 "nbformat_minor": 2
}
