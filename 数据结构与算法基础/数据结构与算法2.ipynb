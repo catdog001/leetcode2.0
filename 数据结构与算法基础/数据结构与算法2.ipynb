{
 "cells": [
  {
   "cell_type": "markdown",
   "metadata": {},
   "source": [
    "# 图"
   ]
  },
  {
   "cell_type": "markdown",
   "metadata": {},
   "source": [
    "## 图的方法"
   ]
  },
  {
   "cell_type": "markdown",
   "metadata": {},
   "source": [
    "### 并查集"
   ]
  },
  {
   "cell_type": "markdown",
   "metadata": {},
   "source": [
    "#### 定义\n",
    "* 并查集是树形的数据结构，保持着用于处理一些不相交集合Disjoint Sets的合并及查询问题。有一个联合-查找算法Union-find Algorithm定义了两个操作用于此数据结构\n",
    "* Find:确定元素属于哪一个子集。它可以被用来确定两个元素是否属于同一个子集\n",
    "* Union:将两个子集合并成同一个集合"
   ]
  },
  {
   "cell_type": "markdown",
   "metadata": {},
   "source": [
    "#### 功能\n",
    "* 判断无向图是否有环\n",
    "    * 方法：是否root1 = root2\n",
    "        * 理解：所有的边pair应该是不重复的，即循环一次，联通一个新点，若两个点都已经与root联通过了，则说明新pair构成这两个点的第三条边，则构成了环\n",
    "* 求无向图的 component number\n",
    "    * 方法：记录groupTag[root2/1] = root1/2次数i，即减少i个single component, 故现独立的部分是 n - i 个\n",
    "    * 案例：岛屿问题（如果节点不与其他节点联通，则会孤立成一个岛屿）"
   ]
  },
  {
   "cell_type": "markdown",
   "metadata": {},
   "source": [
    "#### 模板\n",
    "* 有两种Union Find set优化方法\n",
    "    * Path Compression  - 速度较慢\n",
    "    * Union by rank - 本模板的方法"
   ]
  },
  {
   "cell_type": "code",
   "execution_count": 5,
   "metadata": {},
   "outputs": [
    {
     "name": "stdout",
     "output_type": "stream",
     "text": [
      "[0, 0, 0, 0, 3, 3]\n"
     ]
    }
   ],
   "source": [
    "# Path Compression 模板\n",
    "class Graph:\n",
    "    def unionFind(self, n, pairs):  # \n",
    "        if not pairs or pairs == [[]]:\n",
    "            return -1\n",
    "        \n",
    "        groupTag = [i for i in range(n)]\n",
    "        rank = [1] * n\n",
    "        \n",
    "        def find(index):  # return tag the i node belongs to\n",
    "            if groupTag[index] == index:\n",
    "                return index\n",
    "            else:\n",
    "                return find(groupTag[index])\n",
    "        \n",
    "        def union(i, j):  # union i, j in graphTag\n",
    "            root1 = find(i)\n",
    "            root2 = find(j)\n",
    "            if root1 != root2:\n",
    "                if rank[root1] >= rank[root2]:\n",
    "                    rank[root1] += rank[root2]\n",
    "                    groupTag[root2] = root1\n",
    "                else:\n",
    "                    rank[root2] += rank[root1]\n",
    "                    groupTag[root1] = root2\n",
    "        \n",
    "        for i, j in pairs:\n",
    "            union(i, j)\n",
    "\n",
    "        return groupTag\n",
    "    \n",
    "x = Graph()\n",
    "print(x.unionFind(6, [[0,1], [1,2], [3,4], [5,3], [1,3]]))"
   ]
  },
  {
   "cell_type": "markdown",
   "metadata": {},
   "source": [
    "#### 时间空间复杂度\n",
    "* 时间复杂度\n",
    "    * O(m), m is the number of pairs (union operation), because we use the path compression method, single union operation is O(log(m)). with ranking it =  O(a(m)), where a is the inverse Ackerman function, which grows very slowly.So O(a(m)) = O(1).\n",
    "* 空间复杂度\n",
    "    * O(n), n is number of nodes"
   ]
  },
  {
   "cell_type": "markdown",
   "metadata": {},
   "source": [
    "# 二分搜索 Binary Search"
   ]
  },
  {
   "cell_type": "markdown",
   "metadata": {},
   "source": [
    "## 定义\n",
    "* 前提条件：已经**排序**好的序列\n",
    "* 方法：首先与序列中间的元素进行比较, 如果小于这个元素, 就在当前序列的前半部分继续查找, 如果大于这个元素, 就在当前序列的后半部分继续查找,直到找到相同的元素, 或者所查找的序列范围为空为止."
   ]
  },
  {
   "cell_type": "markdown",
   "metadata": {},
   "source": [
    "## 作用\n",
    "* 面试中如果需要优化O(n)的时间复杂度，一般只能是O(logn)的二分法"
   ]
  },
  {
   "cell_type": "markdown",
   "metadata": {},
   "source": [
    "## 一维模板"
   ]
  },
  {
   "cell_type": "code",
   "execution_count": 2,
   "metadata": {},
   "outputs": [],
   "source": [
    "# 模板1\n",
    "# 有一个Edge的情况就是，L最大可以等于len(array)，R最小可能为-1\n",
    "def binarySearch(arr, target):    \n",
    "    l, r = 0, len(arr) - 1\n",
    "    while l <= r: # l和r互换位置相邻时，返回\n",
    "        mid = l + (r - l) //2  # 是L，不是1；mid对于偶数，是靠左的，即[1,2]中，mid为1\n",
    "        if target == arr[mid]:\n",
    "            return mid\n",
    "        elif target < arr[mid]:\n",
    "            r = mid - 1\n",
    "        elif target > arr[mid]:\n",
    "            l = mid + 1\n",
    "    return -1\n",
    "\n",
    "# 极个别情况下的模板\n",
    "# 针对的是第一个模板的短板：当要access数组边界的数，如果边界的数在运行中出现更改，可能越界。??\n",
    "# 虽然这种情况也可以用Edge Case来写，但太过麻烦。这点我们后面具体说来。\n",
    "def binarySearch(arr, target):\n",
    "    l, r = 0, len(arr) - 1\n",
    "    while l + 1 < r:  # r要比l大2，即中间可以隔一个数，[0,2]不返回；l和r相邻时，返回\n",
    "        mid = l + (r - l) //2\n",
    "        if target == arr[mid]:  # 不仅mid为结果值\n",
    "            l = mid\n",
    "        elif target < arr[mid]:\n",
    "            r = mid\n",
    "        elif target > arr[mid]:\n",
    "            l = mid\n",
    "    \n",
    "    if arr[l] == target:\n",
    "        return l\n",
    "    if arr[r] == target:\n",
    "        return r\n",
    "    return -1\n",
    "     "
   ]
  },
  {
   "cell_type": "markdown",
   "metadata": {},
   "source": [
    "## 二维矩阵模板"
   ]
  },
  {
   "cell_type": "code",
   "execution_count": 4,
   "metadata": {},
   "outputs": [],
   "source": [
    "# 模板1\n",
    "# 二维矩阵的数是从前往后，从上往下，且i行尾< i+1行头的\n",
    "# 当作一维array进行二分搜索\n",
    "def searchMatrix(matrix, target):\n",
    "    row = len(matrix)\n",
    "    columns = len(matrix[0])\n",
    "    \n",
    "    l, r = 0, row * column - 1\n",
    "    while l <= r:\n",
    "        mid = l + (r - l) // 2\n",
    "        midVal = matrix[mid // column][mid % column]  #行，列\n",
    "        if target == midVal:\n",
    "            return True\n",
    "        if target < midVal:\n",
    "            r = mid - 1\n",
    "        else:\n",
    "            l = mid + 1\n",
    "    return False"
   ]
  },
  {
   "cell_type": "code",
   "execution_count": null,
   "metadata": {},
   "outputs": [],
   "source": [
    "# 模板2\n",
    "# 二维矩阵的数是从前往后，从上往下，且每行都是独立增长的\n",
    "# 进行对角线搜索 diagonal search： 从左上到右下遍历i，然后对i的行和列进行二分搜索\n",
    "class Matrix\n",
    "    def searchMatrix(self, matrix, target):\n",
    "        # corner case\n",
    "\n",
    "        for i in range(min(len(matrix), len(matrix[0]))):\n",
    "            r = self.binarySearch(i, matrix, target, 1)  # 1 represent search the row\n",
    "            c = self.binarySearch(i, matrix, target, 0)\n",
    "            if r or c:\n",
    "                return True\n",
    "        return False\n",
    "    \n",
    "    def binarySearch(self, i, matrix, target, tag):  # return True if having target\n",
    "        m = len(matrix)\n",
    "        n = len(matrix[0])\n",
    "        \n",
    "        \n",
    "        l = i\n",
    "        if tag == 1:\n",
    "            r = n - 1  # 别忘记 - 1\n",
    "        else:\n",
    "            r = m - 1\n",
    "        \n",
    "        \n",
    "        while l <= r:\n",
    "            mid  = l + (r - l) // 2\n",
    "            if tag == 1:\n",
    "                midVal = matrix[i][mid]\n",
    "            else:\n",
    "                midVal = matrix[mid][i]\n",
    "            if midVal == target:\n",
    "                return True\n",
    "            elif midVal < target:\n",
    "                l = mid + 1\n",
    "            else:\n",
    "                r = mid - 1\n",
    "        return False"
   ]
  },
  {
   "cell_type": "markdown",
   "metadata": {},
   "source": [
    "## 做题步骤\n",
    "* 简化问题并判断是否可以用bs\n",
    "    * 标准：用sorted或部分sorted序列里，找到满足要求T的一个数i, i是output\n",
    "* 判断类型\n",
    "    * 给出T，或通过其他方式给出判别，找到T -> 类型1/2\n",
    "        * 找到：返回Target值的下标或者Bool函数\n",
    "        * 没找到：\n",
    "            * r,l分别是target的左右两边的数的序号\n",
    "            * l是target插入时应该的序号\n",
    "            * r是小于target的最大的那个数的序号\n",
    "    * 未给出T，找出具有特点的值 -> 类型3\n",
    "* 易错点：\n",
    "    * 当target在nums范围之外时\n",
    "        * r (target < nums[0]) 会小于0\n",
    "        * l(target>nums[-1]) 会大于len(nums) - 1\n",
    "        * 故此时索引nums[l]或nums[r]会报错,故需要提前判断处理一下\n",
    "    * 判断条件要想清楚再写"
   ]
  },
  {
   "cell_type": "markdown",
   "metadata": {},
   "source": [
    "## 题目汇总"
   ]
  },
  {
   "cell_type": "markdown",
   "metadata": {},
   "source": [
    "* Method: binary search + 本题使用的思想\n",
    "    1. corner case\n",
    "    2. binary search\n",
    "        a.step1\n",
    "        b.step2\n",
    "        c....\n",
    "* 旋转的排序数列\n",
    "    * 结构特点：两个上升序列并列\n",
    "    * 核心：在sorted的部分进行二分查找\n",
    "    * 无重复寻找T  33. Search in Rotated Sorted Array.py \n",
    "        * 左右哪一段sorted，判断target是否在该sorted段中,缩小l/r\n",
    "    * 有重复寻找T  81. Search in Rotated Sorted Array II.py \n",
    "        * 左右哪一段sorted及改段是否头尾数相同，若sorted，如无重复情况；若头尾相同，l += 1,继续寻找sorted段\n",
    "        * time: worst O(N),出现[1,1,1...]情况 \n",
    "    * 无重复找最小值 **(类型3)**  153. Find Minimum in Rotated Sorted Array.py\n",
    "        * 按照趋势找最小值，左半段是否有序都无法缩小范围，故用右半段缩小范围，并且目标值可能就在边界上\n",
    "* 求峰值  **(类型3)**\n",
    "    * 结构特点：上升序列+下降序列\n",
    "    * 核心：答案在nums[i]>nums[i+1]处\n",
    "    * 单峰值找峰值  852. Peak Index in a Mountain Array.py\n",
    "        * 判断nums[i]>nums[i+1]，移动l/r, 返回nums[l],nums[r]最大的序号\n",
    "    * 多峰值找峰值  162. Find Peak Element.py\n",
    "        * 与上题完全相同\n",
    "* 二维矩阵\n",
    "    * 单调递增矩阵找T  74. Search a 2D Matrix.py\n",
    "        * 二维矩阵模板1，当作行来处理\n",
    "    * 每行递增，每列递增矩阵找T  240. Search a 2D Matrix II.py\n",
    "        * 二维矩阵模板2，对角线遍历，二分搜索\n",
    "        * space search reduction tO(m + n)\n",
    "* 平方与根\n",
    "    * 判断T是否是完美平方数  367. Valid Perfect Square.py\n",
    "        * r从half + 1开始\n",
    "    * 求数T的平方根，若不为整数，取整数部分  69. Sqrt(x).py\n",
    "        * 法1：r从half + 1开始，若根不存在，返回r\n",
    "        * 法2：return int(x**(0.5)) \n",
    "* 求T的index\n",
    "    * 求不重复T的index\n",
    "        * 求T的index，若不存在，返回该插入的index  35. Search Insert Position.py\n",
    "            * 存在返回mid，不存在返回l\n",
    "        * 求一个无限大的arr中，求T的index，若不存在返回-1  447 Search in a Big Sorted Array （LintCode）.py\n",
    "            * 先倍增到比T大的数x，再在[0,x-1]中找T\n",
    "    * 求重复T的index\n",
    "        * 求重复数的尾index，若无返回-1  458. Last Position of Target (Lintcode).py\n",
    "            * 返回r, 后if nums[r] = T,则返回r,否则返回-1\n",
    "        * 求重复数的首尾index，若无返回-1  34. Find First and Last Position of Element in Sorted Array.py\n",
    "            * 方法1：判断T是否超范围 + 两个不同的find函数的返回r,l，判断nums[r/l] == T\n",
    "            * 方法2：两个不同的find函数的返回r,l\n",
    "                * 对head，先判断l是否超len(nums) - 1(T大于all nums的情况)，再判断nums[r/l] == T(target在nums存在)，-1(不存在，及target大于nums的情况)\n",
    "                * 对end同理\n",
    "* 求T附近值\n",
    "    * 求离T最近的值\n",
    "        * 求T，若T不存在，求最近且最小的  拉面题\n",
    "            * 判断T是否超范围 + 类型1 + 若不存在，比较r和l谁离T近\n",
    "        * 求T index，若T不存在，求最近的index\n",
    "            * 存在返回index，不存在比较r和l进行返回\n",
    "    * 求离T最近的K个值的index\n",
    "        * 改变r为len(arr) - k - 1;\n",
    "        * 把x看成mid和mid + k的中点，要使得左半边x->arr[mid]比右半边arr[mid+k]->x更小，故进行比较\n",
    "        * 若arr[mid] + arr[mid + k] < 2x 说明arr[mid]区域在x的左边，要前进左边界，故l = mi + 1\n",
    "        * 在相等时，继续缩小右边界;最后返回找到的l值，得到arr[l:l + k]\n",
    "        * Time complexity: O(log(N-K)) binary search + O(K) for res slice\n",
    "    * 求比T大的最小值,若无，则返回letter初值  744. Find Smallest Letter Greater Than Target.py\n",
    "        * 若l在范围内，返回l；否则返回letters初值  \n",
    "* 求arr中和是target的两个数的序号  167. Two Sum II - Input array is sorted.py\n",
    "    * 遍历arr中的i，在[i+1:]中对差值（T-nums[i]）进行二分搜索\n",
    "        * time：O(log(n-1) + log(n-2)+...) = log((n-1)!) < nlogn\n",
    "* 猜数是高还是低\n",
    "    * 由API[mid]的返回值决定边界的范围\n",
    "    * 易错点：API的返回的是计算机值与我值比较的大小关系\n",
    "* 求哪个开始坏了，假设一定有坏的，isBadVersion(mid)作为判断条件  278. First Bad Version.py\n",
    "    * 返回l\n",
    "* 每层递增1，求几次可以到达n  441. Arranging Coins.py\n",
    "    * 设i次后，(1+i)\\*i/2(T)到达或超过n\n",
    "    * 存在返回i，不存在返回r (若不存在，则找到答案是假设是2.5，那么r = 2,l =3,故返回2)"
   ]
  },
  {
   "cell_type": "markdown",
   "metadata": {},
   "source": [
    "# 二叉搜索树 Binary Search Tree BST "
   ]
  },
  {
   "cell_type": "markdown",
   "metadata": {},
   "source": [
    "## 定义及性质\n",
    "* 使用可比较键来指定孩子的方向。Uses comparable keys to assign which direction a child is. \n",
    "* 左子节点的键小于其父节点 Left child has a key smaller than its parent node.\n",
    "* 右子项的键大于其父节点 Right child has a key greater than its parent node.\n",
    "* 不能有重复的节点 There can be no duplicate node.\n",
    "* 任意节点的左右子树也分别为二叉搜索树"
   ]
  },
  {
   "cell_type": "markdown",
   "metadata": {},
   "source": [
    "## 作用\n",
    "* 插入、删除、查找较快的容器，平均时间复杂度为O(log n)"
   ]
  },
  {
   "cell_type": "markdown",
   "metadata": {},
   "source": [
    "## 常用操作"
   ]
  },
  {
   "cell_type": "markdown",
   "metadata": {},
   "source": [
    "### 插入\n",
    "* 当向树中插入一个新的节点时，该节点将总是作为叶子节点\n",
    "* 最困难的地方就是如何找到该节点的父节点。"
   ]
  },
  {
   "cell_type": "markdown",
   "metadata": {},
   "source": [
    "### 查找\n",
    "* 通过二叉搜索树查找节点，理想情况下我们需要检查的节点数可以减半。\n",
    "* 但是二叉搜索树十分依赖于树中节点的拓扑结构，也就是节点间的布局关系。\n",
    "    * 若布局良好，则是O(log(n))\n",
    "    * 若是skewed tree，node分布在一条直线上，查找时间为 O(n) worst case"
   ]
  },
  {
   "cell_type": "markdown",
   "metadata": {},
   "source": [
    "### 删除\n",
    "* 第一步：定位要删除的节点，可以使用前面的查找算法\n",
    "* 第二步：选择合适的节点代替删除节点的位置，有三种情况需要考虑\n",
    "    * case1: 被删除节点 没有左孩子\n",
    "        * 用 右孩子 代替\n",
    "    * case2：被删除节点 没右孩子\n",
    "        * 用 左孩子 代替\n",
    "        * 原因：被删除节点的左孩子要么都大于，要么都小于被删除节点的父节点的值，故符合二叉搜索树的性质（子节点小于或大于父节点值）\n",
    "    * case3: 被删除节点 左右孩子都有\n",
    "        * 方法1：用被删除节点的前驱节点（即比被删除节点大一位的节点） 代替\n",
    "        * 方法2：用被删除节点的后继节点 代替\n",
    "* 注意：\n",
    "    * a = TreeNode(1), b = a, 此时b获得了a的地址\n",
    "        * 若a的值val/next发生了改变，b改变\n",
    "        * 若a的地址发生了改变(a = TreeNode(5)), b依旧是原来a的地址\n",
    "* 时间空间复杂度\n",
    "    * 时间复杂度\n",
    "        * O(H), H is height of tree, equal to logN in the case of the balanced tree\n",
    "    * 空间复杂度\n",
    "        * O(H), keep the recursion stack"
   ]
  },
  {
   "cell_type": "code",
   "execution_count": 4,
   "metadata": {},
   "outputs": [],
   "source": [
    "# 删除模板\n",
    "class TreeNode:\n",
    "    def __init__(self, x):\n",
    "        self.val = x\n",
    "        self.left = None\n",
    "        self.right = None\n",
    "\n",
    "class Tree:\n",
    "    def deleteNode(self, root: TreeNode, key: int) -> TreeNode:\n",
    "        if not root:  # corner case\n",
    "            return None\n",
    "        \n",
    "        if key < root.val:\n",
    "            root.left = self.deleteNode(root.left, key)\n",
    "        elif key == root.val:\n",
    "            if root.left is None and root.right is None:\n",
    "                root = None\n",
    "            elif root.left is None:\n",
    "                root = root.right\n",
    "            elif root.right is None:\n",
    "                root = root.left\n",
    "            else:  # root has left and right\n",
    "                predecessor = self.findPre(root)  # use predecessor to replace root\n",
    "                root.val = predecessor\n",
    "                root.left = self.deleteNode(root.left, predecessor)\n",
    "        elif root.val < key:\n",
    "            root.right = self.deleteNode(root.right, key)\n",
    "        return root\n",
    "    \n",
    "    def findPre(self, root):  # return value of root's predecessor\n",
    "        root = root.left\n",
    "        while root.right:\n",
    "            root = root.right\n",
    "        return root.val"
   ]
  },
  {
   "cell_type": "markdown",
   "metadata": {},
   "source": []
  },
  {
   "cell_type": "markdown",
   "metadata": {},
   "source": [
    "## 算法总结\n",
    "* 确定唯一一个二叉搜索树的要求\n",
    "    * 方案1：postorder list\n",
    "    * 方案2：preorder list\n",
    "* 确定多个可能性的二叉搜索树的要求\n",
    "    * 方案1： inorder list = ascending order node value list = sorted(postorder) = sorted(preorder)"
   ]
  },
  {
   "cell_type": "markdown",
   "metadata": {},
   "source": [
    "## 题目类型"
   ]
  },
  {
   "cell_type": "code",
   "execution_count": 3,
   "metadata": {},
   "outputs": [
    {
     "name": "stdout",
     "output_type": "stream",
     "text": [
      "1\n"
     ]
    }
   ],
   "source": [
    "def a(i, j):\n",
    "    return i or j\n",
    "print(a(1, None))"
   ]
  },
  {
   "cell_type": "code",
   "execution_count": null,
   "metadata": {},
   "outputs": [],
   "source": []
  }
 ],
 "metadata": {
  "kernelspec": {
   "display_name": "Python 3",
   "language": "python",
   "name": "python3"
  },
  "language_info": {
   "codemirror_mode": {
    "name": "ipython",
    "version": 3
   },
   "file_extension": ".py",
   "mimetype": "text/x-python",
   "name": "python",
   "nbconvert_exporter": "python",
   "pygments_lexer": "ipython3",
   "version": "3.7.5"
  },
  "toc": {
   "base_numbering": 1,
   "nav_menu": {},
   "number_sections": true,
   "sideBar": true,
   "skip_h1_title": false,
   "title_cell": "Table of Contents",
   "title_sidebar": "Contents",
   "toc_cell": false,
   "toc_position": {},
   "toc_section_display": true,
   "toc_window_display": true
  }
 },
 "nbformat": 4,
 "nbformat_minor": 2
}
