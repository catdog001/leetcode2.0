{
 "cells": [
  {
   "cell_type": "markdown",
   "metadata": {},
   "source": [
    "# 链表实现stack  \n",
    "Stack can be made form linklist, by having the head be the only place for insertion and removal.  \n",
    "栈可以由链表实现，链表后进先出，进出在同一位置  "
   ]
  },
  {
   "cell_type": "code",
   "execution_count": null,
   "metadata": {
    "pycharm": {
     "name": "#%%\n"
    }
   },
   "outputs": [],
   "source": [
    "'''\n",
    "易错点：\n",
    "    操作时，首先要对对head是否None进行判断\n",
    "    stack要一开始init，内容是head，即获取这个结构的切入点\n",
    "'''\n",
    "class Node:\n",
    "    # Class to create node of linked list\n",
    "    # constructor initializes node automatically\n",
    "    def __init__(self, val):\n",
    "        self.val = val\n",
    "        self.next = None\n",
    "\n",
    "class Stack:\n",
    "    # head is default NUll\n",
    "    def __init__(self):\n",
    "        self.head = None\n",
    "     \n",
    "    # Method to add data to stack\n",
    "    # adds to start of the stack\n",
    "    def append(self, data):\n",
    "        if self.head is None:\n",
    "            self.head = Node(data)\n",
    "        else:\n",
    "            new_node = Node(data)\n",
    "            new_node.next = self.head\n",
    "            self.head = new_node\n",
    "    \n",
    "    # Remove element that is current head\n",
    "    def pop(self):\n",
    "        if self.head is None:\n",
    "            return None\n",
    "        else:\n",
    "            # Remove the head node and use next node as head node\n",
    "            next_node = self.head.next\n",
    "            poped_node = self.head\n",
    "            poped_node.next = None\n",
    "            self.head = next_node\n",
    "            return poped_node\n",
    "    \n",
    "    # Return the head node data\n",
    "    def peek(self):\n",
    "        if self.head is None:\n",
    "            return None\n",
    "        else:\n",
    "            return self.head.val"
   ]
  },
  {
   "cell_type": "markdown",
   "metadata": {},
   "source": [
    "\n",
    "#链表实现队列  \n",
    "The queue can be made with a linked list that only removes from head and adds to tail.  \n",
    "We maintain two pointers, front and rear. The front points the first item of queue and rear points to last item.\n",
    "队列可以由链表构成，从链表头部删除，从链表尾部添加  \n",
    "(考虑到对于链表的next特性来说，point在尾部并在删除该point指向的node较困难，故头部删除)  \n",
    "维持两个指针，头指针指向第一个元素，尾指针指向最后一个元素"
   ]
  },
  {
   "cell_type": "code",
   "execution_count": null,
   "metadata": {
    "pycharm": {
     "name": "#%%\n"
    }
   },
   "outputs": [],
   "source": [
    "'''\n",
    "易错点：\n",
    "    操作时，首先要对对head是否None进行判断\n",
    "    queue要一开始init，内容是front和rear，即获取这个结构的切入点\n",
    "    当queue不存在时，要同时对self.front和self.rear进行赋值\n",
    "'''\n",
    "class Node:\n",
    "    # Class to create node of linked list\n",
    "    # constructor initializes node automatically\n",
    "    def __init__(self, val):\n",
    "        self.val = val\n",
    "        self.next = None\n",
    "\n",
    "class Queue:\n",
    "    # head is default NUll\n",
    "    def __init__(self):\n",
    "        self.front = self.rear = None\n",
    "    \n",
    "    def isempty(self):\n",
    "        if self.front is None:\n",
    "            return True\n",
    "        else:\n",
    "            return False\n",
    "    \n",
    "    # Method to add data to Queue\n",
    "    # adds to rear of the Queue\n",
    "    def enQueue(self, val):\n",
    "        if self.rear is None:\n",
    "            self.front = self.rear = Node(val)\n",
    "        else:\n",
    "            self.rear.next = Node(val)\n",
    "            self.rear = self.rear.next\n",
    "    \n",
    "    # Method to remove data to Queue\n",
    "    # remove the front node of the Queue\n",
    "    def deQueue(self):\n",
    "        if self.isempty():\n",
    "            return None\n",
    "        else:\n",
    "            next_node = self.front.next\n",
    "            pop_node = self.front\n",
    "            pop_node.next = None\n",
    "            if next_node is None:\n",
    "                self.rear = None\n",
    "            else:\n",
    "                self.front = next_node\n",
    "            return pop_node\n",
    "                \n",
    "            \n",
    "        \n"
   ]
  }
 ],
 "metadata": {
  "kernelspec": {
   "display_name": "Python 3",
   "language": "python",
   "name": "python3"
  },
  "language_info": {
   "codemirror_mode": {
    "name": "ipython",
    "version": 3
   },
   "file_extension": ".py",
   "mimetype": "text/x-python",
   "name": "python",
   "nbconvert_exporter": "python",
   "pygments_lexer": "ipython3",
   "version": "3.7.5"
  },
  "pycharm": {
   "stem_cell": {
    "cell_type": "raw",
    "metadata": {
     "collapsed": false
    },
    "source": []
   }
  },
  "toc": {
   "base_numbering": 1,
   "nav_menu": {},
   "number_sections": true,
   "sideBar": true,
   "skip_h1_title": false,
   "title_cell": "Table of Contents",
   "title_sidebar": "Contents",
   "toc_cell": false,
   "toc_position": {},
   "toc_section_display": true,
   "toc_window_display": false
  }
 },
 "nbformat": 4,
 "nbformat_minor": 1
}
