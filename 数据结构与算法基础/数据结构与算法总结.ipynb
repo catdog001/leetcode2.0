{
 "cells": [
  {
   "cell_type": "markdown",
   "metadata": {},
   "source": [
    "# 时间复杂度与空间复杂度\n",
    "* 空间复杂度\n",
    "    * 只记录计算过程中调用的临时变量空间，不计入输入输出的空间\n",
    "    * 在递归中，调用了多少次，就有多少空间被使用"
   ]
  },
  {
   "cell_type": "markdown",
   "metadata": {},
   "source": [
    "# Python基础"
   ]
  },
  {
   "cell_type": "markdown",
   "metadata": {},
   "source": [
    "* 多种数据同时迭代 zip\n",
    "    * for (x, y), val in **zip**(paires, values)\n",
    "    * [m + n for m, n in zip('ABC', 'XYZ')] -> ['AX', 'BY', 'CZ']\n",
    "* 迭代字符串\n",
    "    * for s in string\n",
    "* 全排列\n",
    "    * [x + y for x in A for y in B]\n",
    "    * [m + n for m in 'ABC' for n in 'XYZ'] -> ['AX', 'AY', 'AZ', 'BX', 'BY', 'BZ', 'CX', 'CY', 'CZ']\n",
    "* 生成器 generator\n",
    "    * 定义：在循环中，不断按照某种算法计算出后面的元素 - 即生成元素的东西\n",
    "    * 创建\n",
    "        * 方法1：把列表生成式的[]改为()\n",
    "        * 方法2：在函数中加入yield\n",
    "    * 输出方法：\n",
    "        * 方法1：next() 挨个元素输出\n",
    "            * **next(generator)** 运行一次，输出一个元素\n",
    "        * 方法2：for循环 输出 - 更常见\n",
    "            * for n in g:\n",
    "        * 既是可迭代对象，也是迭代器\n",
    "* 可迭代对象Iterable 和 迭代器 Iterator\n",
    "    * 可迭代对象Iterable\n",
    "        * 定义：（可以迭代的东西，被for迭代）直接作用于for循环的对象统称为可迭代对象\n",
    "        * 创建 （保持东西的原样）\n",
    "            * 集合数据类型，如list、tuple、dict、set、str等\n",
    "            * generator 生成器\n",
    "    * 迭代器\n",
    "        * 定义：（可以主动产生迭代的东西，用next产生）可以被next()函数调用并不断返回下一个值的对象\n",
    "        * 创建（让可迭代对象产生东西）\n",
    "            * 转换list/dict/str等iterable对象\n",
    "                * iter()函数\n",
    "                * e.g. iter('abc')\n",
    "            * generator 生成器\n",
    "                * e.g. (x for x in range(10))"
   ]
  },
  {
   "cell_type": "markdown",
   "metadata": {},
   "source": [
    "# 常用内建模块\n",
    "## datatime\n",
    "* from datetime import datetime\n",
    "* 当前时间\n",
    "    * datetime.now()\n",
    "* str转化为datetime\n",
    "    * cday = datetime.strptime('2015-6-1 18:19:59', '%Y-%m-%d %H:%M:%S')\n",
    "    * aday = datetime.strptime('18 19', '%H %M')\n",
    "* datatime 转化为 str\n",
    "    * string = datetime.strftime('%a, %b %d %H:%M')\n",
    "* datetime加减\n",
    "    * (datetime1 - datetime2).days 用天表示结果\n",
    "        * 0 <= microseconds < 1000000\n",
    "        * 0 <= seconds < 3600\\*24 (一天的秒数)\n",
    "        * -999999999 <= days <= 999999999\n",
    "    * datetime_new = datetime + timedelta(days=2, hours=12)\n",
    "* timestamp 无关时区的值"
   ]
  },
  {
   "cell_type": "code",
   "execution_count": null,
   "metadata": {},
   "outputs": [],
   "source": []
  }
 ],
 "metadata": {
  "kernelspec": {
   "display_name": "Python 3",
   "language": "python",
   "name": "python3"
  },
  "language_info": {
   "codemirror_mode": {
    "name": "ipython",
    "version": 3
   },
   "file_extension": ".py",
   "mimetype": "text/x-python",
   "name": "python",
   "nbconvert_exporter": "python",
   "pygments_lexer": "ipython3",
   "version": "3.7.5"
  },
  "toc": {
   "base_numbering": 1,
   "nav_menu": {},
   "number_sections": true,
   "sideBar": true,
   "skip_h1_title": false,
   "title_cell": "Table of Contents",
   "title_sidebar": "Contents",
   "toc_cell": false,
   "toc_position": {},
   "toc_section_display": true,
   "toc_window_display": false
  }
 },
 "nbformat": 4,
 "nbformat_minor": 2
}
