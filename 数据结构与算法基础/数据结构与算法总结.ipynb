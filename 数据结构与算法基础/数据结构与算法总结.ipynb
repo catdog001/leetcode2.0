{
 "cells": [
  {
   "cell_type": "markdown",
   "metadata": {},
   "source": [
    "# 时间复杂度与空间复杂度\n",
    "* 空间复杂度\n",
    "    * 在递归中，调用了多少次，就有多少空间被使用"
   ]
  },
  {
   "cell_type": "markdown",
   "metadata": {},
   "source": [
    "# Python基础"
   ]
  },
  {
   "cell_type": "markdown",
   "metadata": {},
   "source": [
    "* 多种数据同时迭代 zip\n",
    "    * for (x, y), val in **zip**(paires, values)\n",
    "    * [m + n for m, n in zip('ABC', 'XYZ')] -> ['AX', 'BY', 'CZ']\n",
    "* 迭代字符串\n",
    "    * for s in string\n",
    "* 全排列\n",
    "    * [x + y for x in A for y in B]\n",
    "    * [m + n for m in 'ABC' for n in 'XYZ'] -> ['AX', 'AY', 'AZ', 'BX', 'BY', 'BZ', 'CX', 'CY', 'CZ']\n",
    "* 生成器 generator\n",
    "    "
   ]
  },
  {
   "cell_type": "code",
   "execution_count": 3,
   "metadata": {},
   "outputs": [
    {
     "name": "stdout",
     "output_type": "stream",
     "text": [
      "ax\n",
      "ay\n",
      "az\n",
      "bx\n",
      "by\n",
      "bz\n",
      "cx\n",
      "cy\n",
      "cz\n"
     ]
    }
   ],
   "source": []
  },
  {
   "cell_type": "code",
   "execution_count": null,
   "metadata": {},
   "outputs": [],
   "source": []
  }
 ],
 "metadata": {
  "kernelspec": {
   "display_name": "Python 3",
   "language": "python",
   "name": "python3"
  },
  "language_info": {
   "codemirror_mode": {
    "name": "ipython",
    "version": 3
   },
   "file_extension": ".py",
   "mimetype": "text/x-python",
   "name": "python",
   "nbconvert_exporter": "python",
   "pygments_lexer": "ipython3",
   "version": "3.7.5"
  },
  "toc": {
   "base_numbering": 1,
   "nav_menu": {},
   "number_sections": true,
   "sideBar": true,
   "skip_h1_title": false,
   "title_cell": "Table of Contents",
   "title_sidebar": "Contents",
   "toc_cell": false,
   "toc_position": {},
   "toc_section_display": true,
   "toc_window_display": false
  }
 },
 "nbformat": 4,
 "nbformat_minor": 2
}
