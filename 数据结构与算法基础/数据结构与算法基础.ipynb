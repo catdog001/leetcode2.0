{
 "cells": [
  {
   "cell_type": "markdown",
   "source": [
    "# Python数据结构基础  "
   ],
   "metadata": {
    "collapsed": false
   }
  },
  {
   "cell_type": "markdown",
   "source": [
    "\n",
    "## List 列表  \n",
    "### Definition 定义 \n",
    "* Stores data elements based on an sequential, most commonly 0 based, index. 基于顺序索引（常见的是基于0的索引）存储数据元素。\n",
    "* Based on tuples from set theory. 基于集合论的元组（元组 + 可变的集合 -> 可变的元组）。\n",
    "* They are one of the oldest, most commonly used data structures. 最古老，最常用的数据结构之一。\n",
    "\n",
    "### what you need to know: 记忆点 \n",
    "* Optimal for indexing; Bad at searching, inserting, and deleting(except at the end). 适合 -> 索引；不适合 -> 搜索，插入，删除。\n",
    "* Linear data structures, are the most basic. 最基本结构：线性数组.\n",
    "    * Stack 栈 \n",
    "        * Last-In-First-Out (LIFO) concept 后进先出\n",
    "        * append() / pop() 添加/删除末尾\n",
    "        * can be made form linklist, by having the head be the only place for insertion and removal. 可用链表构成,插入：建立新节点，连接到头节点；移除：移除头节点，返回下一个\n",
    "            * 参见 <链表实现stack和Queue>\n",
    "    * Queue 队列 First-In-First-Out (FIFO) principle 先进先出\n",
    "        * Lists are not efficient to implement a queue 列表不能有效的执行队列\n",
    "            * 故调用容器-双端队列deque(double-end-queue) \n",
    "            * from collections import deque d = deque(iterable) (\"deck\")，If iterable is not specified, the new deque is empty.\n",
    "            * append(x) / appendleft(x) / pop() / popleft() / extend(iterable) / extendleft(iterable) O(1) 双向append or pop, O(1)\n",
    "        * can be made form doubly linklist that only removes from head and adds to tail 也可用链表构成, 从头部移除，从尾部添加\n",
    "            * 参见 <链表实现stack和Queue>\n",
    "* Non-linear data structures.非线性数据结构\n",
    "    * Graphs 图 [[1,2], [3, 4]]\n",
    "    * Trees  树 中序遍历 [1,[2,4,5],3]\n",
    "\n",
    "### Time complexity (linear structure)\n",
    "* Indexing: O(1)\n",
    "* Search: O(N)\n",
    "* Optimized search: O(logN)\n",
    "* Insertion: O(N) (l[a:b] = ...) "
   ],
   "metadata": {
    "collapsed": false,
    "pycharm": {
     "name": "#%% md\n"
    }
   }
  },
  {
   "cell_type": "markdown",
   "source": [
    "\n",
    "## Linked list\n",
    "### Definition:\n",
    "* Stores data with nodes that point to other nodes. 用节点储存数据并指向其他节点\n",
    "    * Nodes, at its most basic it has one datum and one reference (another node) 在最基础的情况下，节点拥有一个数据和一个参考（其他节点）\n",
    "    * A linked list chains nodes together by pointing one node's reference to another. 节点通过指向另一个节点从而使链表连接在一起\n",
    "### what you need to know: 记忆点 \n",
    "    * Designed to optimize insertion and deletion, slow at indexing and searching.\n",
    "    * Doubly linked list has nodes that also references the previous node.\n",
    "    * Circularly linked list is simple linked list whose tail, the last node, references the head, the first node.\n",
    "     "
   ],
   "metadata": {
    "collapsed": false
   }
  }
 ],
 "metadata": {
  "kernelspec": {
   "display_name": "Python 3",
   "language": "python",
   "name": "python3"
  },
  "language_info": {
   "codemirror_mode": {
    "name": "ipython",
    "version": 2
   },
   "file_extension": ".py",
   "mimetype": "text/x-python",
   "name": "python",
   "nbconvert_exporter": "python",
   "pygments_lexer": "ipython2",
   "version": "2.7.6"
  },
  "pycharm": {
   "stem_cell": {
    "cell_type": "raw",
    "source": [],
    "metadata": {
     "collapsed": false
    }
   }
  }
 },
 "nbformat": 4,
 "nbformat_minor": 0
}