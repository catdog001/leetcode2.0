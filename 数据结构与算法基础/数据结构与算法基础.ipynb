{
 "cells": [
  {
   "cell_type": "markdown",
   "source": [
    "# Python数据结构基础  "
   ],
   "metadata": {
    "collapsed": false
   }
  },
  {
   "cell_type": "markdown",
   "source": [
    "\n",
    "## List \n",
    "### Definition \n",
    "* Stores data elements based on an sequential, most commonly 0 based, index. \n",
    "* Based on tuples from set theory. （元组 + 可变的集合 -> 可变的元组）。\n",
    "* They are one of the oldest, most commonly used data structures. \n",
    "\n",
    "### Key:\n",
    "* Advantages: indexing  \n",
    "* Disadvantages: inserting(except append), and deleting(except pop).\n",
    "* Linear data structures, are the most basic. 最基本结构：线性数组.\n",
    "    * Stack 栈 \n",
    "    * Queue 队列 \n",
    "* Non-linear data structures.非线性数据结构\n",
    "    * Graphs 图 [[1,2], [3, 4]]\n",
    "    * Trees  树 中序遍历 [1,[2,4,5],3]\n",
    "\n",
    "### Time complexity (linear structure) (增删改查排）\n",
    "* Append： O(1)\n",
    "* Insertion: O(N) (l[a:b] = ...) \n",
    "* Pop：O(1)\n",
    "* Delete: O(N) depends on i; O(N) in worst case\n",
    "* Indexing: O(1)\n",
    "* Search: traversal list O(N)\n",
    "* Sort: O(NlogN)\n"
   ],
   "metadata": {
    "collapsed": false,
    "pycharm": {
     "name": "#%% md\n"
    }
   }
  },
  {
   "cell_type": "markdown",
   "source": [
    "\n",
    "## Linked list\n",
    "### Definition:\n",
    "* Stores data with nodes that point to other nodes. 用节点储存数据并指向其他节点\n",
    "    * 节点的描述：Nodes, at its most basic it has one datum and one reference (another node) 在最基础的情况下，节点拥有一个数据和一个参考（其他节点）\n",
    "    * 链表的描述：A linked list chains nodes together by pointing one node's reference to another. 节点通过指向另一个节点从而使链表连接在一起\n",
    "\n",
    "### Key: \n",
    "* Advantage: Add and deletion \n",
    "* Disadvantage: indexing and searching. \n",
    "* Doubly linked list has nodes that also references the previous node. 双向链表有两个参考，一个是之前的node，一个是之后的node\n",
    "* Circularly linked list is simple linked list whose tail, the last node, references the head, the first node. 成环链表是由简单的链表首末相连组成\n",
    "* 可以实现栈和队列\n",
    "\n",
    "### Time Complexity:(增删改查排）\n",
    "* Add node: O(1)\n",
    "* Deletion: O(1)\n",
    "* indexing: O(N)\n",
    "* Search: traversal linklist O(N)\n",
    "* Sort: O(NlogN)"
   ],
   "metadata": {
    "collapsed": false,
    "pycharm": {
     "name": "#%% md\n"
    }
   }
  },
  {
   "cell_type": "markdown",
   "source": [
    "## Stack and Queue\n",
    "* Stack 栈 \n",
    "    * Last-In-First-Out (LIFO) concept \n",
    "    * append() / pop() \n",
    "    * can be made from **list**\n",
    "    * can be made from **linklist**, by having the head be the only place for insertion and removal. 可用链表构成,插入：建立新节点，连接到头节点；移除：移除头节点，返回下一个\n",
    "        * 参见 <链表实现stack和Queue>\n",
    "* Queue 队列 \n",
    "    * First-In-First-Out (FIFO) principle \n",
    "    * Lists are not efficient to implement a queue 列表不能有效的执行队列\n",
    "        * 故调用容器-双端队列deque(double-end-queue) \n",
    "        * from collections import deque d = deque(iterable) (\"deck\")，If iterable is not specified, the new deque is empty.\n",
    "        * append(x) / appendleft(x) / pop() / popleft() / extend(iterable) / extendleft(iterable) O(1) 双向append or pop, O(1)\n",
    "    * can be made from **linklist** that only removes from head and adds to tail 也可用链表构成, 从头部移除，从尾部添加\n",
    "        * 参见 <链表实现stack和Queue>\n",
    "        "
   ],
   "metadata": {
    "collapsed": false
   }
  },
  {
   "cell_type": "markdown",
   "source": [
    "## Hash Table/Map (dictionary)\n",
    "### Definition\n",
    "* 结构：Stores data with **key value pairs**.\n",
    "* 功能：Hash function accept a key and return an output unique only to that specific key\n",
    "    * This is known as hashing, which is the concept that an input and an output have **a one-to-one correspondence** to map information.\n",
    "    * Hash function has **a unique address** in memory for that data.\n",
    "\n",
    "### Key \n",
    "* Advantages: insertion, deletion, and searching\n",
    "* Hash collisions(哈希冲突) are when a hash function returns the **same output** for **two distinct inputs**.\n",
    "    * All hash function have its problem\n",
    "    * This is often accommodated(解决) for **having the hash table being very large**\n",
    "* Hashes are important for **dictionary** and **database indexing**.\n",
    "\n",
    "### Time complexity (增删改查排）\n",
    "* Store：O(1) d[k] = v\n",
    "* Pop: O(1) **d.pop(k)** 删除key对应的pair，并返回value\n",
    "* Pop item: O(1) **d.popitem()** 删除并返回最后一个pair\n",
    "* Delete: O(1) del d[k]\n",
    "* Search: O(1) d[k]"
   ],
   "metadata": {
    "collapsed": false,
    "pycharm": {
     "name": "#%% md\n"
    }
   }
  },
  {
   "cell_type": "markdown",
   "source": [
    "\n",
    "# Efficient Sorting Basic 高效排序基础\n",
    "* 基本应用：排序类题目\n",
    "    * 核心步骤：比较（每个元素）\n",
    "* 扩展应用：合并类题目（比较过程中，每个元素都遍历到了，故可以实现合并）"
   ],
   "metadata": {
    "collapsed": false
   }
  },
  {
   "cell_type": "markdown",
   "source": [
    "\n",
    "## Merge sort 合并排序法\n",
    "### Definition\n",
    "A comparison based sorting algorithm，流程如下  \n",
    "  * Divide entire dataset into groups of at most two\n",
    "  * Compares each number one at a time, moving the smallest number to left of the pair.\n",
    "  * Once all pairs sorted it, then compares left most elements of the two leftmost pairs to create sorted group of four with the smallest numbers on the left and the largest ones on the right.\n",
    "  * This process is repeated until there in only one set.\n",
    "  \n",
    "### Key\n",
    "* This is one of most basic sorting algorithm.\n",
    "* Know that it divides all the data into small possible sets then compares them.\n",
    "\n",
    "### Complexity\n",
    "* Time\n",
    "    * Relation: T(n) = 2T(n/2) + O(n)\n",
    "    * Best Case Sort: O(NlogN)\n",
    "    * Average Case Sort: O(NlogN)\n",
    "    * Worst Case Sort: O(NlogN)\n",
    "    * Prove the NlogN\n",
    "        * Recurrence Tree method:\n",
    "            T(n) = 2T(n/2) + O(n) = 2^2T(n/2^2) + 2O(n/2) + O(n) = 2^2T(n/2^2) + 2O(n) = 2^mT(n/2^m) + mO(n);\n",
    "            又因为n/2^m = 1时，m= log(2)n. 故 T(n) = nT(1) + log(2)n * O(n) = n + nlog(2)n = nlog2(n) = nlogn\n",
    "        * Master method\n",
    "            T(n) = 2T(n/2) + O(n)，故为nlogn\n",
    "         \n",
    "* Space\n",
    "    * O(N)"
   ],
   "metadata": {
    "collapsed": false
   }
  },
  {
   "cell_type": "code",
   "execution_count": null,
   "outputs": [],
   "source": [
    "# Merge Sort temple/basic code\n",
    "# edge case: list is None / only one element \n",
    "class SortList:\n",
    "    # Merge sort\n",
    "    def mergeSort(self, arr):\n",
    "        if len(arr) == 0 or len(arr) == 1:\n",
    "            return\n",
    "        \n",
    "        \n",
    "        if len(arr) >= 2:\n",
    "            # 普通划分\n",
    "            mid = len(arr) // 2  # find the mid of the array\n",
    "            L = arr[:mid]  # divide the array elements\n",
    "            R = arr[mid:]  # into 2 haves\n",
    "            \n",
    "            # 递归划分\n",
    "            self.mergeSort(L)  # Sorting the first half\n",
    "            self.mergeSort(R)  # Sorting the second half\n",
    "\n",
    "            # 合并\n",
    "            i = j = k = 0\n",
    "            while i < len(L) and j < len(R):  # copy data to temp arrays L and R\n",
    "                if L[i] < R[j]:\n",
    "                    arr[k] = L[i]\n",
    "                    i += 1\n",
    "                else:\n",
    "                    arr[k] = R[j]\n",
    "                    j += 1\n",
    "                k += 1\n",
    "\n",
    "            while i < len(L):  # process left data in L part\n",
    "                arr[k] = L[i]\n",
    "                k += 1\n",
    "                i += 1\n",
    "\n",
    "            while j < len(R):  # process right data in R part\n",
    "                arr[k] = R[j]\n",
    "                k += 1\n",
    "                j += 1\n",
    "\n",
    "        return arr\n",
    "            \n",
    "x = SortList() \n",
    "x.mergeSort([2,1,0])"
   ],
   "metadata": {
    "collapsed": false,
    "pycharm": {
     "name": "#%%\n"
    }
   }
  },
  {
   "cell_type": "markdown",
   "source": [
    "### 基本结构\n",
    "1. 输入：容器 - 含有数个元素\n",
    "* 输出：原容器 - 元素已经排序的\n",
    "* 要求：合并方式排序元素 \n",
    "\n",
    "### idea\n",
    "Merge Sort method\n",
    "\n",
    "### 思路\n",
    "* 把容器元素分拆成小单位，再依次比较、排列、合并 \n",
    "* 在本体上修改\n",
    "\n",
    "### 思路核心\n",
    "* 从底层到顶层，两两合并\n",
    "\n",
    "### Basic Method\n",
    "如图 Merge-Sort.png  \n",
    "1. divide lists into groups of at most two\n",
    "* sort every groups by moving smallest to left \n",
    "* sort left most elements of the two leftmost pairs to create sorted group of four\n",
    "* process is repeated until there in only one pair\n",
    "\n",
    "### 基本方法（特征点）\n",
    "1. 划分：普通划分把arr划分成两个部分,之后递归划分把部分划分到最小的单位（划分成对 - ‘分开’）\n",
    "* 递归比较：依次比较两个部分的元素 （比较）\n",
    "* 递归排列：从小到大依次重新排列这两部分元素在arr中的顺序 （重新排列） 或者 从小到大依次重新排列这两部分元素，并合并成新部分 （合并到一起（‘合并’））\n",
    "* 直到只有一对数\n",
    "\n",
    "### 应用\n",
    "* 解决方案：  \n",
    "    * 明确 基本结构与要求\n",
    "        * 输入\n",
    "        * 输出\n",
    "        * 要求\n",
    "    * 明确 题目类型\n",
    "    * 确定 idea （解题算法）\n",
    "    * 思考 不同之处\n",
    "    * 修改 Method\n",
    "    \n",
    "#### 1. 排序链表\n",
    "* 为什么用merge sort？ \n",
    "    * 要求排序\n",
    "    * 相对于快排，合并排序不需要太多的对链表节点的访问(access)。\n",
    "    （链表储存不是连续分块储存的(continuous block of memory)，不利于节点访问，与list相反）\n",
    "* 时间/空间复杂度\n",
    "    * O(NlogN) / O(1)\n",
    "* 例题：148. Sort List (linked list).py\n",
    "#### 2. 计算转置数的数量 Inversion Count Problem\n",
    "#### 3. 外置排序 External Sorting\n",
    "#### 4. 合并链表题 \n",
    "* 为什么用merge sort？\n",
    "    * 要求合并，即排序的扩展 \n",
    "* 23\\. Merge k Sorted Lists.py - MergeSort method\n",
    "    * 基本结构与要求:\n",
    "        * 输入：含有数个元素为link list的head的容器\n",
    "        * 要求：合并并排序所有link list\n",
    "        * 输出：合并后的link list的head\n",
    "    * 明确题目类型： 大合并+小排序类\n",
    "    * idea: Merge Sort\n",
    "    * 不同之处：\n",
    "        * 合并：链表形式合并，生成新部分链表\n",
    "        * 输出：新生成的链表头，而不是原容器\n",
    "    * Method:\n",
    "        * divide lists into groups of at most two\n",
    "        * merge and sort linklist in every groups into one linklist\n",
    "        * merge and sort every two new linklist to create new linklist\n",
    "        * process is repeated until there in only one linklist"
   ],
   "metadata": {
    "collapsed": false,
    "pycharm": {
     "name": "#%% md\n"
    }
   }
  },
  {
   "cell_type": "markdown",
   "source": [
    "## Quick sort 快速排序\n",
    "### Definition\n",
    "* A comparision based sorting algorithm （与merge sort相同）\n",
    "    * Divides entire dataset in half by selecting the middle element and putting all smaller elements to the left of the element and larger ones to the right.\n",
    "    * It repeats this process on the left side until it is comparing only two elements at which point the left side is sorted.\n",
    "    * When the left side is finished sorting, it performs the same operation on the right side.  \n",
    "* Computer architecture favors the quick-sort process.\n",
    "### Key\n",
    "* While it has the same Big O as (or worse in the same cases) many other sorting algorithm, it is often faster in practice than many other sorting algorithms, such as merge sort. 虽然有相同或者更坏的时间复杂度，但是实际中，它要更快，比如比归并快\n",
    "* Know that it halves the data set by the average continuously until all the information is sorted.\n",
    "### Time complexity\n",
    "* Best case: O(NlogN)\n",
    "* Average case: O(NlogN)\n",
    "* Worst case: O(N2)"
   ],
   "metadata": {
    "collapsed": false,
    "pycharm": {
     "name": "#%% md\n"
    }
   }
  },
  {
   "cell_type": "markdown",
   "source": [
    "\n",
    "## Bubble sort 气泡排序\n",
    "### Definition\n",
    "### Key\n",
    "### Time complexity\n",
    "\n",
    "\n"
   ],
   "metadata": {
    "collapsed": false,
    "pycharm": {
     "name": "#%% md\n"
    }
   }
  }
 ],
 "metadata": {
  "kernelspec": {
   "display_name": "Python 3",
   "language": "python",
   "name": "python3"
  },
  "language_info": {
   "codemirror_mode": {
    "name": "ipython",
    "version": 2
   },
   "file_extension": ".py",
   "mimetype": "text/x-python",
   "name": "python",
   "nbconvert_exporter": "python",
   "pygments_lexer": "ipython2",
   "version": "2.7.6"
  },
  "pycharm": {
   "stem_cell": {
    "cell_type": "raw",
    "source": [],
    "metadata": {
     "collapsed": false
    }
   }
  }
 },
 "nbformat": 4,
 "nbformat_minor": 0
}