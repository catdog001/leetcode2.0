{
 "cells": [
  {
   "cell_type": "markdown",
   "source": [
    "# Python数据结构基础  "
   ],
   "metadata": {
    "collapsed": false
   }
  },
  {
   "cell_type": "markdown",
   "source": [
    "\n",
    "## List \n",
    "### Definition \n",
    "* Stores data elements based on an sequential, most commonly 0 based, index. \n",
    "* Based on tuples from set theory. （元组 + 可变的集合 -> 可变的元组）。\n",
    "* They are one of the oldest, most commonly used data structures. \n",
    "\n",
    "### Key:\n",
    "* Advantages: indexing  \n",
    "* Disadvantages: inserting(except append), and deleting(except pop).\n",
    "* Linear data structures, are the most basic. 最基本结构：线性数组.\n",
    "    * Stack 栈 \n",
    "    * Queue 队列 First-In-First-Out (FIFO) principle 先进先出\n",
    "* Non-linear data structures.非线性数据结构\n",
    "    * Graphs 图 [[1,2], [3, 4]]\n",
    "    * Trees  树 中序遍历 [1,[2,4,5],3]\n",
    "\n",
    "### Time complexity (linear structure) (增删改查排）\n",
    "* Append： O(1)\n",
    "* Insertion: O(N) (l[a:b] = ...) \n",
    "* Pop：O(1)\n",
    "* Delete: O(N) depends on i; O(N) in worst case\n",
    "* Indexing: O(1)\n",
    "* Search: traversal list O(N)\n",
    "* Sort: O(NlogN)\n"
   ],
   "metadata": {
    "collapsed": false,
    "pycharm": {
     "name": "#%% md\n"
    }
   }
  },
  {
   "cell_type": "markdown",
   "source": [
    "\n",
    "## Linked list\n",
    "### Definition:\n",
    "* Stores data with nodes that point to other nodes. 用节点储存数据并指向其他节点\n",
    "    * Nodes, at its most basic it has one datum and one reference (another node) 在最基础的情况下，节点拥有一个数据和一个参考（其他节点）\n",
    "    * A linked list chains nodes together by pointing one node's reference to another. 节点通过指向另一个节点从而使链表连接在一起\n",
    "\n",
    "### Key: \n",
    "* Advantage: Add and deletion \n",
    "* Disadvantage: indexing and searching. \n",
    "* Doubly linked list has nodes that also references the previous node. 双向链表有两个参考，一个是之前的node，一个是之后的node\n",
    "* Circularly linked list is simple linked list whose tail, the last node, references the head, the first node. 成环链表是由简单的链表首末相连组成\n",
    "* 可以实现栈和队列\n",
    "\n",
    "### Time Complexity:(增删改查排）\n",
    "* Add node: O(1)\n",
    "* Deletion: O(1)\n",
    "* indexing: O(N)\n",
    "* Search: traversal linklist O(N)\n",
    "* Sort: O(NlogN)"
   ],
   "metadata": {
    "collapsed": false,
    "pycharm": {
     "name": "#%% md\n"
    }
   }
  },
  {
   "cell_type": "markdown",
   "source": [
    "## Stack and Queue\n",
    "* Stack 栈 \n",
    "    * Last-In-First-Out (LIFO) concept 后进先出\n",
    "    * append() / pop() 添加/删除末尾\n",
    "    * can be made from **list**\n",
    "    * can be made from **linklist**, by having the head be the only place for insertion and removal. 可用链表构成,插入：建立新节点，连接到头节点；移除：移除头节点，返回下一个\n",
    "        * 参见 <链表实现stack和Queue>\n",
    "* Queue 队列 First-In-First-Out (FIFO) principle 先进先出\n",
    "    * Lists are not efficient to implement a queue 列表不能有效的执行队列\n",
    "        * 故调用容器-双端队列deque(double-end-queue) \n",
    "        * from collections import deque d = deque(iterable) (\"deck\")，If iterable is not specified, the new deque is empty.\n",
    "        * append(x) / appendleft(x) / pop() / popleft() / extend(iterable) / extendleft(iterable) O(1) 双向append or pop, O(1)\n",
    "    * can be made from **linklist** that only removes from head and adds to tail 也可用链表构成, 从头部移除，从尾部添加\n",
    "        * 参见 <链表实现stack和Queue>\n",
    "        "
   ],
   "metadata": {
    "collapsed": false
   }
  },
  {
   "cell_type": "markdown",
   "source": [
    "## Hash Table/Map (dictionary)\n",
    "### Definition\n",
    "* Stores data with key value pairs.\n",
    "* Hash function accept a key and return an output unique only to that specific key\n",
    "    * This is known as hashing, which is the concept that an input and an output have a one-to-one correspondence to map information.\n",
    "    * Hash function has a unique address in memory for that data.\n",
    "\n",
    "### Key \n",
    "* Advantages: insertion, deletion, and searching\n",
    "* Hash collisions(哈希冲突) are when a hash function returns the **same output** for **two distinct inputs**.\n",
    "    * All hash function have its problem\n",
    "    * This is often accommodated(解决) for **having the hash table being very large**\n",
    "* Hashes are important for **dictionary** and **database indexing**.\n",
    "\n",
    "### Time complexity (增删查）\n",
    "* Store：O(1) d[k] = v\n",
    "* Pop: O(1) d.pop(k) 删除key对应的pair，并返回value\n",
    "* Pop item: O(1) d.popitem() 删除并返回最后一个pair\n",
    "* Delete: O(1) del d[k]\n",
    "* Search: O(1) d[k]"
   ],
   "metadata": {
    "collapsed": false,
    "pycharm": {
     "name": "#%% md\n"
    }
   }
  },
  {
   "cell_type": "markdown",
   "source": [
    "\n",
    "# Efficient Sorting Basic 高效分类基础"
   ],
   "metadata": {
    "collapsed": false
   }
  },
  {
   "cell_type": "markdown",
   "source": [
    "\n",
    "## Merge sort 合并排序\n",
    "### Definition\n",
    "### Key\n",
    "### Time complexity"
   ],
   "metadata": {
    "collapsed": false
   }
  },
  {
   "cell_type": "markdown",
   "source": [
    "\n",
    "## Quick sort 快速排序\n",
    "### Definition\n",
    "### Key\n",
    "### Time complexity"
   ],
   "metadata": {
    "collapsed": false
   }
  },
  {
   "cell_type": "markdown",
   "source": [
    "\n",
    "## Bubble sort 气泡排序\n",
    "### Definition\n",
    "### Key\n",
    "### Time complexity"
   ],
   "metadata": {
    "collapsed": false
   }
  }
 ],
 "metadata": {
  "kernelspec": {
   "display_name": "Python 3",
   "language": "python",
   "name": "python3"
  },
  "language_info": {
   "codemirror_mode": {
    "name": "ipython",
    "version": 2
   },
   "file_extension": ".py",
   "mimetype": "text/x-python",
   "name": "python",
   "nbconvert_exporter": "python",
   "pygments_lexer": "ipython2",
   "version": "2.7.6"
  },
  "pycharm": {
   "stem_cell": {
    "cell_type": "raw",
    "source": [],
    "metadata": {
     "collapsed": false
    }
   }
  }
 },
 "nbformat": 4,
 "nbformat_minor": 0
}