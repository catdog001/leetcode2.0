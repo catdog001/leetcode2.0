{
 "cells": [
  {
   "cell_type": "markdown",
   "metadata": {},
   "source": [
    "# 数据结构基础  "
   ]
  },
  {
   "cell_type": "markdown",
   "metadata": {
    "pycharm": {
     "name": "#%% md\n"
    }
   },
   "source": [
    "\n",
    "## List \n",
    "### 定义\n",
    "* Stores data elements based on an sequential, most commonly 0 based, index. \n",
    "* Based on tuples from set theory. （元组 + 可变的集合 -> 可变的元组）。\n",
    "* They are one of the oldest, most commonly used data structures. \n",
    "\n",
    "### 重点\n",
    "* Advantages: indexing  \n",
    "* Disadvantages: inserting(except append), and deleting(except pop).\n",
    "* Linear data structures, are the most basic. 最基本结构：线性数组.\n",
    "    * Stack 栈 \n",
    "    * Queue 队列 \n",
    "* Non-linear data structures.非线性数据结构\n",
    "    * Graphs 图 [[1,2], [3, 4]]\n",
    "    * Trees  树 中序遍历 [1,[2,4,5],3]\n",
    "\n",
    "### 增删改查排及时间复杂度\n",
    "* Append： O(1)\n",
    "* Insertion: O(N) (l[a:b] = ...) \n",
    "* Pop：O(1)\n",
    "* Delete: O(N) depends on i; O(N) in worst case\n",
    "* Indexing: O(1)\n",
    "* Search: traversal list O(N)\n",
    "* Sort: O(NlogN)\n"
   ]
  },
  {
   "cell_type": "markdown",
   "metadata": {
    "pycharm": {
     "name": "#%% md\n"
    }
   },
   "source": [
    "\n",
    "## Linked list\n",
    "### 定义\n",
    "* Stores data with nodes that point to other nodes. 用节点储存数据并指向其他节点\n",
    "    * 节点的描述：Nodes, at its most basic it has one datum and one reference (another node) 在最基础的情况下，节点拥有一个数据和一个参考（其他节点）\n",
    "    * 链表的描述：A linked list chains nodes together by pointing one node's reference to another. 节点通过指向另一个节点从而使链表连接在一起\n",
    "\n",
    "### 重点 \n",
    "* Advantage: Add and deletion \n",
    "* Disadvantage: indexing and searching. \n",
    "* Doubly linked list has nodes that also references the previous node. 双向链表有两个参考，一个是之前的node，一个是之后的node\n",
    "* Circularly linked list is simple linked list whose tail, the last node, references the head, the first node. 成环链表是由简单的链表首末相连组成\n",
    "* 可以实现栈和队列\n",
    "\n",
    "### 增删改查排及时间复杂度\n",
    "* Add node: O(1)\n",
    "* Deletion: O(1)\n",
    "* indexing: O(N)\n",
    "* Search: traversal linklist O(N)\n",
    "* Sort: O(NlogN)"
   ]
  },
  {
   "cell_type": "markdown",
   "metadata": {},
   "source": [
    "## Stack, Queue and Heap queue(priority queue)"
   ]
  },
  {
   "cell_type": "markdown",
   "metadata": {},
   "source": [
    "### Stack 栈 \n",
    "* Last-In-First-Out (LIFO) concept \n",
    "* append() / pop() \n",
    "* can be made from **list**\n",
    "* can be made from **linklist**, by having the head be the only place for insertion and removal. 可用链表构成,插入：建立新节点，连接到头节点；移除：移除头节点，返回下一个\n",
    "    * 参见 <链表实现stack和Queue>"
   ]
  },
  {
   "cell_type": "markdown",
   "metadata": {},
   "source": [
    "### Queue 队列 \n",
    "* First-In-First-Out (FIFO) principle \n",
    "* Lists are not efficient to implement a queue 列表不能有效的执行队列\n",
    "    * 故调用容器-双端队列deque(double-end-queue) \n",
    "    * from collections import deque d = deque(iterable) (\"deck\")，If iterable is not specified, the new deque is empty.\n",
    "    * append(x) / appendleft(x) / pop() / popleft() / extend(iterable) / extendleft(iterable) O(1) 双向append or pop, O(1)\n",
    "* can be made from **linklist** that only removes from head and adds to tail 也可用链表构成, 从头部移除，从尾部添加\n",
    "    * 参见 <链表实现stack和Queue>\n",
    "\n",
    "### Heap queue 堆 \n",
    "* 最小值在堆顶   "
   ]
  },
  {
   "cell_type": "markdown",
   "metadata": {},
   "source": [
    "### 基本函数"
   ]
  },
  {
   "cell_type": "code",
   "execution_count": 1,
   "metadata": {
    "ExecuteTime": {
     "end_time": "2019-12-26T06:10:12.886000Z",
     "start_time": "2019-12-26T06:10:12.874000Z"
    },
    "pycharm": {
     "name": "#%%\n"
    }
   },
   "outputs": [
    {
     "name": "stdout",
     "output_type": "stream",
     "text": [
      "extend:  [1, 2, 3, [4], 4]\n"
     ]
    }
   ],
   "source": [
    "# stack（list）\n",
    "A= [1,2,3]\n",
    "A.append([4])  # [1, 2, 3, [4]]\n",
    "A.extend([4])  # [1, 2, 3, [4], 4]\n",
    "print('extend: ', A)\n",
    "A.insert(1,4)  # 在i处插入value [1, 4, 2, 3, [4], 4]\n",
    "A.remove(1)  # 除去值为i的数 [4, 2, 3, [4], 4]\n",
    "x = A.pop(3)  # 除去第i个数 [4, 2, 3, 4]\n",
    "x = A.index(4)  # 0 返回符合的第一个序号 x = 0\n",
    "A.reverse()  # 转置\n",
    "A.sort(reverse = True)  # 排序 + 转置 [5, 3, 1]\n",
    "from copy import copy, deepcopy\n",
    "a = copy(A)  # 浅复制\n",
    "a = deepcopy(A)  # 深复制"
   ]
  },
  {
   "cell_type": "code",
   "execution_count": 2,
   "metadata": {
    "ExecuteTime": {
     "end_time": "2019-12-26T06:10:12.906000Z",
     "start_time": "2019-12-26T06:10:12.887000Z"
    }
   },
   "outputs": [
    {
     "name": "stdout",
     "output_type": "stream",
     "text": [
      "deque([3, 4, 4, 'c', 'e', 4, 4, 3])\n",
      "deque([3, 3, 4, 4, 'c', 'e', 4, 4])\n"
     ]
    }
   ],
   "source": [
    "# Queue (deque) 队列\n",
    "from collections import deque\n",
    "B = 'desk'  # iterable\n",
    "d = deque(B) # 转化B为队列d\n",
    "d = deque()  # 建立新队列d\n",
    "d.append('c')\n",
    "d.appendleft('e')  # 'edeskc'\n",
    "d.extend(a)\n",
    "d.extendleft(a)  # 扩展最左边\n",
    "x = d.pop() # 注意！没有i参数（list有i参数）\n",
    "d.popleft() #删除最左边的，即先“进”的，无(i)\n",
    "d.reverse() # 转置\n",
    "print(d)\n",
    "d.rotate(1) # 向右循环移动 n 步。 如果 n 是负数，就向左循环。e.g把倒数第1个调换到前面\n",
    "print(d)"
   ]
  },
  {
   "cell_type": "code",
   "execution_count": 3,
   "metadata": {
    "ExecuteTime": {
     "end_time": "2019-12-26T06:10:12.926000Z",
     "start_time": "2019-12-26T06:10:12.907000Z"
    }
   },
   "outputs": [
    {
     "data": {
      "text/plain": [
       "[3, 4]"
      ]
     },
     "execution_count": 3,
     "metadata": {},
     "output_type": "execute_result"
    }
   ],
   "source": [
    "# Heap queue 堆\n",
    "from heapq import heapify, heappop, heappush, heappushpop, heapreplace, nlargest, nsmallest\n",
    "# 创建一个堆，可以使用list来初始化为 []\n",
    "C = []  # 建立新heapq\n",
    "# 创建一个堆或者可以通过一个函数 heapify() ，来把一个list转换成堆\n",
    "C = [2, 3, 4]\n",
    "heapify(C)  # 转化C为堆，原地，线性时间内\n",
    "heappush(C, 2)  # 添加2,注意！只能添加值！不能添加list等数据结构，下面的删除也是这样!\n",
    "x = heappop(C)\n",
    "heappushpop(C, 2)  # 先添加，再删除顶端的\n",
    "heapreplace(C, 5)  # 先删除顶端的，再添加\n",
    "nlargest(2, C)  # nlargest(n, iterable, key=None) 返回前n个符合k条件的最大值（e.g. k = lambda x: x[0]）  = sorted(iterable, key=key, reverse=True)[:n]\n",
    "nsmallest(2, C)  # nsmallest(n, iterable, key=None) 返回前n个最小值 = sorted(iterable, key=key, reverse= False)[:n]"
   ]
  },
  {
   "cell_type": "markdown",
   "metadata": {},
   "source": [
    "### 经典应用"
   ]
  },
  {
   "cell_type": "code",
   "execution_count": null,
   "metadata": {},
   "outputs": [],
   "source": []
  },
  {
   "cell_type": "markdown",
   "metadata": {
    "pycharm": {
     "name": "#%% md\n"
    }
   },
   "source": [
    "## Hash Table 及 string"
   ]
  },
  {
   "cell_type": "markdown",
   "metadata": {},
   "source": [
    "### 定义\n",
    "* 结构：Stores data with **key value pairs**.\n",
    "* 功能：Hash function accept a key and return an output unique only to that specific key\n",
    "    * This is known as hashing, which is the concept that an input and an output have **a one-to-one correspondence** to map information.\n",
    "    * Hash function has **a unique address** in memory for that data."
   ]
  },
  {
   "cell_type": "markdown",
   "metadata": {},
   "source": [
    "### 重点\n",
    "* 优势: 插入，删除，搜索 insertion, deletion, and searching\n",
    "* Hash collisions(哈希冲突) are when a hash function returns the **same output** for **two distinct inputs**.\n",
    "    * All hash function have its problem\n",
    "    * This is often accommodated(解决) for **having the hash table being very large**\n",
    "* Hashes are important for **dictionary** and **database indexing**."
   ]
  },
  {
   "cell_type": "markdown",
   "metadata": {},
   "source": [
    "### 增删改查排及空间复杂度\n",
    "* Store：O(1) d[k] = v\n",
    "* Pop: O(1) **d.pop(k)** 删除key对应的pair，并返回value\n",
    "* Pop item: O(1) **d.popitem()** 删除并返回最后一个pair\n",
    "* Delete: O(1) del d[k]\n",
    "* Search: O(1) d[k]"
   ]
  },
  {
   "cell_type": "markdown",
   "metadata": {},
   "source": [
    "### 应用"
   ]
  },
  {
   "cell_type": "markdown",
   "metadata": {},
   "source": [
    "#### 总结\n",
    "* string相关概念\n",
    "    * subsequence 可以不连续且有序的子序列 / substring 连续但有序的子序列 / the length of the longest palindromes that can be built with those letters 可以不连续，可以无序的子序列"
   ]
  },
  {
   "cell_type": "markdown",
   "metadata": {},
   "source": [
    "## Binary Tree"
   ]
  },
  {
   "cell_type": "markdown",
   "metadata": {},
   "source": [
    "### 定义\n",
    "a tree like data structure where every node has at most two children\n",
    "    * There is one left and right child node"
   ]
  },
  {
   "cell_type": "markdown",
   "metadata": {},
   "source": [
    "### 重点\n",
    "* Designed to optimize searching and sorting\n",
    "* A **degenerate tree** is an unbalanced tree, which if entirely one-sided is essentially a linked list. 简并树是母节点只有一个子节点的树，如果完全单侧，则就是链表\n",
    "* They are comparably simple to implement than other data structure.\n",
    "* Used to make **binary search tree**\n",
    "    * A binary tree that uses comparable keys to assign which direction a child is. 使用可比较键来指定孩子的方向的二叉树。\n",
    "    * Left child has a key smaller than its parent node.\n",
    "    * Right child has a key greater than its parent node.\n",
    "    * There can be no duplicate node.\n",
    "    * Because of the above it is more likely to be used as a data stucture than a binary tree."
   ]
  },
  {
   "cell_type": "markdown",
   "metadata": {},
   "source": [
    "### 增删改查排及空间复杂度\n",
    "* Insertion: O(logN)\n",
    "* Indexing: O(logN)\n",
    "* Search: O(logN)"
   ]
  },
  {
   "cell_type": "markdown",
   "metadata": {},
   "source": [
    "# 搜索基础 Search Basics"
   ]
  },
  {
   "cell_type": "markdown",
   "metadata": {},
   "source": [
    "## 宽度优先搜索 Breadth First Search"
   ]
  },
  {
   "cell_type": "markdown",
   "metadata": {},
   "source": [
    "### 定义\n",
    "An algorithm that search a tree (or graph) by searching levels of the tree firs, starting at the root.\n",
    "\n",
    "### 重点\n",
    "* Optimal for searching a tree that is **wider than it is deep**.\n",
    "* Uses a **queque** to store information about the tree while it traverses a tree.\n",
    "    * Because it uses a queue it is more memory intensive than depth first serarch.\n",
    "    * The queue uses more memory because it needs to stores pointers.\n",
    "    \n",
    "### 复杂度\n",
    "* Search: O(V + E) under the graph is represented by the adjacency list structure\n",
    "* Each edege is labeled twice. E is number of edges 边的数量\n",
    "* Each vertex is labeled twice. V is number of vertices 顶点的数量"
   ]
  },
  {
   "cell_type": "markdown",
   "metadata": {},
   "source": [
    "## 深度优先搜索 Depth First Search"
   ]
  },
  {
   "cell_type": "markdown",
   "metadata": {},
   "source": [
    "### 定义\n",
    "* An algorithm that searches a tree (or graph) by searching depth of the tree first, starting at the root.\n",
    "    * It traverses left down a tree until it cannot go futher.\n",
    "    * Once it reaches the end of a branch, it traverses back up trying the right child of nodes on that branch, and if possible left from the right children.\n",
    "    * When finished examing a branch, it moves to the node right of the root then tries to go left on all its children until it reaches the bottom.\n",
    "    * The right most node is evaluated last(the node that is right of all its ancestors)"
   ]
  },
  {
   "cell_type": "markdown",
   "metadata": {},
   "source": [
    "### 重点\n",
    "* Optimal for searching a tree that is deeper than it is wide\n",
    "* Uses a stack to push nodes onto:\n",
    "    * Becase a stack is LIFO, it does not need to keep track of the nodes pointers and is thereforce less memory intensive than breath than BFS.\n",
    "    * Once it can't go further left it begins evaluating the stack.一旦无法继续前进，它将开始评估堆栈。"
   ]
  },
  {
   "cell_type": "markdown",
   "metadata": {},
   "source": [
    "### 复杂度\n",
    "* Search:  O(V + E) under the graph is represented by the adjacency list structure\n",
    "* Each edege is labeled twice. E is number of edges 边的数量\n",
    "* Each vertex is labeled twice. V is number of vertices 顶点的数量"
   ]
  },
  {
   "cell_type": "markdown",
   "metadata": {},
   "source": [
    "### BFS vs DFS\n",
    "* The simple answer to this question is that it depends on the size and shape of the tree.\n",
    "    * For wide, shallow tree use BFS 宽而浅\n",
    "    * For deep, narrow tree use DFS. 深而窄"
   ]
  },
  {
   "cell_type": "markdown",
   "metadata": {},
   "source": [
    "### Nuances 细微差别:\n",
    "* Because BFS uses queue to store information about the node and its children, it could use more memory than is available on your computer.\n",
    "* If using a DFS on a tree that is very deep, you might go unnecessarily deep in the search. 如果在非常深的树上使用DFS，则可能会不必要地深入搜索。\n",
    "* BFS tends to be a **looping algorithm**.\n",
    "* DFS tends to be a **recursive algorithm**."
   ]
  },
  {
   "cell_type": "markdown",
   "metadata": {},
   "source": [
    "\n",
    "# 高效排序基础 Efficient Sorting Basic\n",
    "* 基本应用：排序类题目\n",
    "    * 核心步骤：比较（每个元素）\n",
    "* 扩展应用：合并类题目（比较过程中，每个元素都遍历到了，故可以实现合并）"
   ]
  },
  {
   "cell_type": "markdown",
   "metadata": {},
   "source": [
    "##  Merge sort 合并排序法"
   ]
  },
  {
   "cell_type": "markdown",
   "metadata": {},
   "source": [
    "### 定义 \n",
    "A comparison based sorting algorithm，流程如下  \n",
    "  * Divide entire dataset into groups of at most two\n",
    "  * Compares each number one at a time, moving the smallest number to left of the pair.\n",
    "  * Once all pairs sorted it, then compares left most elements of the two leftmost pairs to create sorted group of four with the smallest numbers on the left and the largest ones on the right.\n",
    "  * This process is repeated until there in only one set.\n",
    "  * 如图 Merge-Sort.png "
   ]
  },
  {
   "cell_type": "markdown",
   "metadata": {},
   "source": [
    "### 重点\n",
    "* This is one of most basic sorting algorithm.\n",
    "* Know that it divides all the data into small possible sets then compares them."
   ]
  },
  {
   "cell_type": "markdown",
   "metadata": {},
   "source": [
    "### 复杂度\n",
    "* Time\n",
    "    * Relation: T(n) = 2T(n/2) + O(n)\n",
    "    * Best Case Sort: O(NlogN)\n",
    "    * Average Case Sort: O(NlogN)\n",
    "    * Worst Case Sort: O(NlogN)\n",
    "    * Prove the NlogN\n",
    "        * Recurrence Tree method:\n",
    "            T(n) = 2T(n/2) + O(n) = 2^2T(n/2^2) + 2O(n/2) + O(n) = 2^2T(n/2^2) + 2O(n) = 2^mT(n/2^m) + mO(n);\n",
    "            又因为n/2^m = 1时，m= log(2)n. 故 T(n) = nT(1) + log(2)n * O(n) = n + nlog(2)n = nlog2(n) = nlogn\n",
    "        * Master method\n",
    "            T(n) = 2T(n/2) + O(n)，故为nlogn \n",
    "* Space\n",
    "    * O(N)\n",
    "* 发挥性能的应用范围\n",
    "    * data is huge\n",
    "    * data is stored in external storage \n",
    "    * 链表\n",
    "* 稳定性\n",
    "    * 稳定\n",
    "\n",
    "* 原地性 In-place\n",
    "    * 原地算法定义：（in-place algorithm）基本上不需要 额外辅助的数据结构,然而,允许少量额外的辅助变量来转换数据的算法。当算法运行时，输入的数据通常会被要输出的部分覆盖掉\n",
    "    * 非原地算法：每次merged list，即新产生的arr，都不是原有的arr了，而是小规模的排序数组，故用到了额外辅助的数据结构，不属于原地算法\n"
   ]
  },
  {
   "cell_type": "markdown",
   "metadata": {},
   "source": [
    "### 方法核心\n",
    "* 把容器元素分拆成小单位，再依次比较、排列、合并 \n"
   ]
  },
  {
   "cell_type": "markdown",
   "metadata": {},
   "source": [
    "### 代码模板"
   ]
  },
  {
   "cell_type": "code",
   "execution_count": 4,
   "metadata": {
    "ExecuteTime": {
     "end_time": "2019-12-26T06:10:12.948000Z",
     "start_time": "2019-12-26T06:10:12.929000Z"
    },
    "pycharm": {
     "name": "#%%\n"
    }
   },
   "outputs": [
    {
     "data": {
      "text/plain": [
       "[1, 2, 3, 4, 5, 6, 7, 8, 9]"
      ]
     },
     "execution_count": 4,
     "metadata": {},
     "output_type": "execute_result"
    }
   ],
   "source": [
    "'''\n",
    "Merge Sort temple/basic code\n",
    "edge case: list is None / only one element \n",
    "过程 :\n",
    "    MergeSort(arr[], l,  r)\n",
    "    If r > l\n",
    "    1. Find the middle point to divide the array into two halves:   \n",
    "         middle m = (l+r)/2\n",
    "    2. Call mergeSort for first half:   \n",
    "         Call mergeSort(arr, l, m)\n",
    "    3. Call mergeSort for second half:\n",
    "         Call mergeSort(arr, m+1, r)\n",
    "    4. Merge the two halves sorted in step 2 and 3:\n",
    "         Call merge(arr, l, m, r)\n",
    "'''\n",
    "\n",
    "class SortList:\n",
    "    # Merge sort\n",
    "    def mergeSort(self, arr):\n",
    "        if len(arr) == 0 or len(arr) == 1:\n",
    "            return\n",
    "        \n",
    "        \n",
    "        if len(arr) >= 2:\n",
    "            # 普通划分\n",
    "            mid = len(arr) // 2  # find the mid of the array\n",
    "            L = arr[:mid]  # divide the array elements\n",
    "            R = arr[mid:]  # into 2 haves\n",
    "            \n",
    "            # 递归划分\n",
    "            self.mergeSort(L)  # Sorting the first half\n",
    "            self.mergeSort(R)  # Sorting the second half\n",
    "\n",
    "            # 合并， input: 两个已排序的list，L，R.过程：对L，R进行合并排序。output：合并完成后的一个list\n",
    "            i = j = k = 0\n",
    "            while i < len(L) and j < len(R):  # copy data to temp arrays L and R\n",
    "                if L[i] < R[j]:\n",
    "                    arr[k] = L[i]\n",
    "                    i += 1\n",
    "                else:\n",
    "                    arr[k] = R[j]\n",
    "                    j += 1\n",
    "                k += 1\n",
    "\n",
    "#             while i < len(L):  # process left data in L part\n",
    "#                 arr[k] = L[i]\n",
    "#                 k += 1\n",
    "#                 i += 1\n",
    "            if i < len(L):\n",
    "                arr[k:] = L[i:]\n",
    "            \n",
    "#             while j < len(R):  # process right data in R part\n",
    "#                 arr[k] = R[j]\n",
    "#                 k += 1\n",
    "#                 j += 1\n",
    "            if j < len(R):\n",
    "                arr[k:] = R[j:]\n",
    "\n",
    "        return arr\n",
    "            \n",
    "x = SortList() \n",
    "x.mergeSort([9,8,7,4, 5, 6, 3, 2, 1])"
   ]
  },
  {
   "cell_type": "markdown",
   "metadata": {},
   "source": [
    "  \n",
    "##  Bottom-up Merge sort  自下而上排序法\n",
    "\n",
    "### 定义\n",
    "A comparison based sorting algorithm，\n",
    "  * first merges pairs of adjacent lists of 1 element\n",
    "  * Then merge pairs of adjacent lists of 2 elements\n",
    "  * And next merge pairs of adjacent lists of 4 elements\n",
    "  * And so on. Until the whole list is merged.  \n",
    "\n",
    "\n",
    "### 复杂度及属性\n",
    "* Time\n",
    "    * Relation: T(n) = 2T(n/2) + O(n)\n",
    "    * Best Case Sort: O(NlogN)\n",
    "    * Average Case Sort: O(NlogN)\n",
    "    * Worst Case Sort: O(NlogN)\n",
    "    * Prove the NlogN\n",
    "        * Recurrence Tree method:\n",
    "            T(n) = 2T(n/2) + O(n) = 2^2T(n/2^2) + 2O(n/2) + O(n) = 2^2T(n/2^2) + 2O(n) = 2^mT(n/2^m) + mO(n);\n",
    "            又因为n/2^m = 1时，m= log(2)n. 故 T(n) = nT(1) + log(2)n * O(n) = n + nlog(2)n = nlog2(n) = nlogn\n",
    "        * Master theorem\n",
    "            T(n) = 2T(n/2) + O(n)，故为nlogn \n",
    "* Space\n",
    "    * O(1) # 随是否新建存储结构而变化\n",
    "* 稳定性\n",
    "    * 稳定\n",
    "* 原地性\n",
    "    * 原地"
   ]
  },
  {
   "cell_type": "markdown",
   "metadata": {},
   "source": [
    "### 代码模板"
   ]
  },
  {
   "cell_type": "code",
   "execution_count": 5,
   "metadata": {
    "ExecuteTime": {
     "end_time": "2019-12-26T06:10:12.961000Z",
     "start_time": "2019-12-26T06:10:12.949000Z"
    },
    "pycharm": {
     "name": "#%%\n"
    }
   },
   "outputs": [
    {
     "data": {
      "text/plain": [
       "[0, 1, 2]"
      ]
     },
     "execution_count": 5,
     "metadata": {},
     "output_type": "execute_result"
    }
   ],
   "source": [
    "# Bottom-up Merge Sort temple/basic code\n",
    "# edge case: list is None / only one element \n",
    "# 易错点：别忘记while interval < length，subsort求的是段，23.Merge k Sorted list求的是点\n",
    "class SortList:\n",
    "    def mergeSort(self, arr):  # Merge sort by bottom-up merge sort\n",
    "        if len(arr) == 0 or len(arr) == 1:  # edge case\n",
    "            return arr\n",
    "\n",
    "        length = len(arr)\n",
    "        interval = 1\n",
    "        while interval < length:\n",
    "            for i in range(0, length, 2 * interval):  # bottom-up merge sort\n",
    "                arr[i: i + 2 * interval] = self.subsort(arr[i: i + interval], arr[i + interval: i + interval * 2])\n",
    "            interval = interval * 2\n",
    "        return arr\n",
    "\n",
    "    def subsort(self, list1, list2):  # sort two sorted list\n",
    "        if not list1:\n",
    "            return list2\n",
    "        if not list2:\n",
    "            return list1\n",
    "\n",
    "        new_list = []\n",
    "        left_len = len(list1)\n",
    "        right_len = len(list2)\n",
    "        i, j = 0, 0\n",
    "        while i < left_len and j < right_len:\n",
    "            if list1[i] < list2[j]:\n",
    "                new_list.append(list1[i])\n",
    "                i += 1\n",
    "            else:\n",
    "                new_list.append(list2[j])\n",
    "                j += 1\n",
    "\n",
    "        if i != left_len:\n",
    "            new_list.extend(list1[i:left_len])\n",
    "        if j != right_len:\n",
    "            new_list.extend(list2[j:right_len])\n",
    "        return new_list\n",
    "\n",
    "x = SortList() \n",
    "x.mergeSort([2,1,0])"
   ]
  },
  {
   "cell_type": "markdown",
   "metadata": {},
   "source": [
    "### 应用（合并排序及自上而下排序）"
   ]
  },
  {
   "cell_type": "markdown",
   "metadata": {},
   "source": [
    "#### 总结\n",
    "* 链表的排序，包括常数空间，非常数空间\n",
    "* 需要两两比较的题目。e.g.求转置数数量\n",
    "* 合并类型题目。e.g.合并k链表/列表\n",
    "* 外置排序"
   ]
  },
  {
   "cell_type": "markdown",
   "metadata": {
    "pycharm": {
     "name": "#%% md\n"
    }
   },
   "source": [
    "#### 解决方案模板\n",
    "* 明确 基本结构与要求\n",
    "    * 输入 含有数个元素容器\n",
    "    * 输出 格式！！\n",
    "        * 原容器输出,即原容器保持维度不变的输出 e.g.list sort  -> 递归时直接 self.sort(L)\n",
    "        * 新参数输出,即新参数，或者原容器维度改变的输出 e.g. sort linklist, sort list[list] -> 递归时 sub_l = self.sort(L)\n",
    "    * 要求 合并方式排序元素等\n",
    "* 明确 题目类型\n",
    "* 确定 idea （解题算法）\n",
    "* 思考 不同之处\n",
    "* 修改 Method\n",
    "    \n",
    "#### 排序链表，且不要求space complexity - merge sort\n",
    "* 为什么用方法？ \n",
    "    * 要求排序\n",
    "    * 相对于快排，合并排序不需要太多的对链表节点的访问(access)。\n",
    "    （链表储存不是连续分块储存的(continuous block of memory)，不利于节点访问，与list相反）\n",
    "* 时间/空间复杂度\n",
    "    * O(NlogN) / O(N)\n",
    "* 例题： 148. Sort List (linked list).py\n",
    "    * 递归；递归部分返回头节点；每段的完整切割（要next=None）；先确定R头，再确定L尾\n",
    "    \n",
    "#### 排序链表，且using constant space complexity. - bottom-up merge sort\n",
    "* 为什么用这个方法？ \n",
    "    * using constant space complexity.\n",
    "* 时间/空间复杂度\n",
    "    * O(NlogN) / O(1)\n",
    "* 例题： 148. Sort List (linked list).py\n",
    "    * while interval < length + while head1 迭代；\n",
    "    * dummy,fake-tail的使用；\n",
    "    * 独立split函数，input->head,interval ; output -> next head\n",
    "    * 独立merge函数, input->head1,head2; output -> new head, new tail\n",
    "\n",
    "#### 计算转置数的数量 Inversion Count Problem\n",
    "* 为什么用方法？ \n",
    "    * 利用 inv_count = inv_count + (len(L) - i) 的性质\n",
    "* 时间/空间复杂度\n",
    "    * O(NlogN) / O(N)\n",
    "* 例题： \n",
    "    * 775\\. Global and Local Inversions.py\n",
    "    * 例题：Count Inversions in an array.py\n",
    "    \n",
    "#### 合并 K 个排序数组 Merge k sorted arrays\n",
    "\n",
    "#### 3-way Merge Sort\n",
    "\n",
    "#### 外置排序 External Sorting\n",
    "\n",
    "#### 合并链表题 \n",
    "* 为什么用merge sort？\n",
    "    * 要求合并，即排序的扩展 \n",
    "* 23\\. Merge k Sorted Lists.py - MergeSort method\n",
    "    * 基本结构与要求:\n",
    "        * 输入：含有数个元素为link list的head的容器\n",
    "        * 要求：合并并排序所有link list\n",
    "        * 输出：合并后的link list的head\n",
    "    * 明确题目类型： 大合并+小排序类\n",
    "    * idea: Merge Sort\n",
    "    * 不同之处：\n",
    "        * 合并：链表形式合并，生成新部分链表\n",
    "        * 输出：新生成的链表头，而不是原容器\n",
    "    * Method:\n",
    "        * divide lists into groups of at most two\n",
    "        * merge and sort linklist in every groups into one linklist\n",
    "        * merge and sort every two new linklist to create new linklist\n",
    "        * process is repeated until there in only one linklist\n",
    "        \n"
   ]
  },
  {
   "cell_type": "markdown",
   "metadata": {
    "pycharm": {
     "name": "#%% md\n"
    }
   },
   "source": [
    "## Quick sort 快速排序"
   ]
  },
  {
   "cell_type": "markdown",
   "metadata": {},
   "source": [
    "### 定义\n",
    "* A comparision based sorting algorithm （与merge sort相同）\n",
    "    * Divides entire dataset in half by selecting the middle element and putting all smaller elements to the left of the element and larger ones to the right.\n",
    "    * It repeats this process on the left side until it is comparing only two elements at which point the left side is sorted.\n",
    "    * When the left side is finished sorting, it performs the same operation on the right side.  \n",
    "* Computer architecture favors the quick-sort process."
   ]
  },
  {
   "cell_type": "markdown",
   "metadata": {},
   "source": [
    "### 重点\n",
    "* While it has the same Big O as (or worse in the same cases) many other sorting algorithm, it is often faster in practice than many other sorting algorithms, such as merge sort. 虽然有相同或者更坏的时间复杂度，但是实际中，它要更快，比如比归并快\n",
    "* Know that it halves the data set by the average continuously until all the information is sorted."
   ]
  },
  {
   "cell_type": "markdown",
   "metadata": {},
   "source": [
    "### 复杂度及属性\n",
    "* Time\n",
    "    * Best case: O(NlogN)\n",
    "        * when the partition process always picks the middle element as pivot.\n",
    "        * equal to T(n) = 2T(n/2) + O(n), can be proved by the Master theorem.\n",
    "    * Average case: O(NlogN)\n",
    "        * when partition puts O(n/9) elements in one set and O(9n/10) elements in other set.\n",
    "        *  T(n) = T(n/9) + T(9n/10) + O(n)\n",
    "    * Worst case: O(N2)\n",
    "        *  when the partition process always picks greatest or smallest element as pivot\n",
    "        * equal to T(n) = T(n-1) + O(n)\n",
    "    * Relation: T(n) = T(k) + T(n - k - 1) + O(n)\n",
    "        * T(k), T(n - k - 1) are for recursion calls\n",
    "        * O(n) is for partition process\n",
    "        * k is the number of elements which are smaller than pivot\n",
    "* Space\n",
    "    * O(N)\n",
    "* 发挥性能的应用范围\n",
    "    * most architechtures in most real-world data\n",
    "    * 数组\n",
    "    * implemented in different ways by changing the choice of pivot, so that the worst case rarely occurs for a given type of data.\n",
    "* 稳定性\n",
    "    * 不稳定\n",
    "    * 可以加入索引作为比较参数的之一，即既比较值大小，也比较索引，来实现稳定。\n",
    "* 原地性 In-place\n",
    "    * 属于原地算法 （直接修改输入数据而不是将输入数据复制一份处理之后再覆盖回去）\n",
    "    * 即不考虑递归的情况下，使用的空间为O(1)\n",
    "* 尾递归\n",
    "    * 为尾递归"
   ]
  },
  {
   "cell_type": "markdown",
   "metadata": {},
   "source": [
    "### 方法核心\n",
    "* 把容器元素比较、排列，再进一步在小部分里比较、排列"
   ]
  },
  {
   "cell_type": "markdown",
   "metadata": {},
   "source": [
    "### 代码模板"
   ]
  },
  {
   "cell_type": "code",
   "execution_count": 6,
   "metadata": {
    "ExecuteTime": {
     "end_time": "2019-12-26T06:10:12.972000Z",
     "start_time": "2019-12-26T06:10:12.962000Z"
    }
   },
   "outputs": [
    {
     "name": "stdout",
     "output_type": "stream",
     "text": [
      "[0, 0, 1, 1, 2, 5]\n"
     ]
    }
   ],
   "source": [
    "# 讨论if i < j 和 i += 1 的作用:\n",
    "# 仅不满足x < arr[j]时：\n",
    "#     if一定成立 - 有无都正常\n",
    "#     要寻找比x大的数，而i += 1存在时，直接跳过arr[i],这个等于arr[j]，且明显小于x的数\n",
    "#     而i += 1不存在时，重复 i += 1,再进行之后流程\n",
    "#     故有无 i+= 1都正常\n",
    "# 仅不满足i<j时，即i=j了，ij重合:\n",
    "#     if 存在， i += 1存在\n",
    "#         arr[i] = arr[j] 和 i+=1 都不运行，整个程序运行结束，x赋给arr[i]\n",
    "#     if 存在， i += 1不存在\n",
    "#         arr[i] = arr[j] 不运行，整个程序运行结束，x赋给arr[i]\n",
    "#     if 不存在，i += 1存在\n",
    "#         arr[j]赋给arr[i],i = j，即arr[i]不变，i + 1，\n",
    "#         而下面的又进行了arr[j]赋给arr[i]，整个程序结束，x赋给arr[i+1]\n",
    "#         出错\n",
    "#     if 不存在，i += 1不存在\n",
    "#          arr[j]赋给arr[i],i = j，即arr[i]不变， 整个程序结束，x赋给arr[i]\n",
    "# \n",
    "# \n",
    "# 故正确的是：\n",
    "# if 存在，i += 1存在\n",
    "# if 存在，i += 1不存在\n",
    "# if 不存在，i += 1不存在\n",
    "\n",
    "'''\n",
    "QuickSort 代码模板\n",
    "思路：挖坑填数,从大规模到小规模排序，参见 https://blog.csdn.net/morewindows/article/details/6684558\n",
    "方法：\n",
    "    取一个数作为基准数\n",
    "    划分区间过程，把数列中大于基准数的数放到左区间，把数列中小于基准数的数放在右区间\n",
    "    再对左右区间重复第二步，直到左右区间只有一个数\n",
    "    \n",
    "    choose one value of nums as the pivot\n",
    "    put all smaller elem to the left of the pivot and larger ones to the right\n",
    "    repeat this process on the left and right side until left/right side one has one value \n",
    "\n",
    "易错点：\n",
    "    由于nums有重复数值，故使用pivot < nums[j]，nums[i] <= pivot，其中使用“=”来覆盖所有大小关系，如没有重复数值，=可以去掉\n",
    "    R = nums[i + 1: r + 1], 因为跳过i，故从i+1开始，而不是i开始\n",
    "    nums[l:i] = self.quicksort(L)，因为输入的L和输出都是相当于一个与nums无关的值，故要把返回值与nums联系起来\n",
    "'''\n",
    "class Sort:\n",
    "    def quicksort(self, nums):\n",
    "        if len(nums) == 0 or len(nums) == 1:\n",
    "            return nums\n",
    "\n",
    "        l = 0\n",
    "        r = len(nums) - 1\n",
    "\n",
    "        i = l\n",
    "        j = r\n",
    "        pivot = nums[i]\n",
    "        while i < j:\n",
    "            while i < j and pivot <= nums[j]:\n",
    "                j -= 1\n",
    "            nums[i] = nums[j]\n",
    "            while i < j and nums[i] < pivot:\n",
    "                i += 1\n",
    "            nums[j] = nums[i]\n",
    "        nums[i] = pivot\n",
    "        L = nums[l:i]\n",
    "        R = nums[i + 1: r + 1]\n",
    "        nums[l:i] = self.quicksort(L)  # 产生了一部分，就要把这一部分赋值回去，不然不起作用的\n",
    "        nums[i + 1: r + 1] = self.quicksort(R)\n",
    "        return nums\n",
    "\n",
    "\n",
    "x = Sort()\n",
    "print(x.quicksort([5,1,1,2,0,0]))"
   ]
  },
  {
   "cell_type": "markdown",
   "metadata": {},
   "source": [
    "### 应用"
   ]
  },
  {
   "cell_type": "markdown",
   "metadata": {},
   "source": [
    "#### 总结\n",
    "* 分两类，并使用常数空间的题目。e.g.奇偶排序，稳定空间正负排序\n",
    "* 数组的排序"
   ]
  },
  {
   "cell_type": "markdown",
   "metadata": {},
   "source": [
    "#### 奇偶排序\n",
    "* 905. Sort Array By Parity / https://www.geeksforgeeks.org/segregate-even-odd-numbers-set-3/\n"
   ]
  },
  {
   "cell_type": "markdown",
   "metadata": {},
   "source": [
    "#### 稳定空间，正负排序\n",
    "* https://www.geeksforgeeks.org/move-negative-numbers-beginning-positive-end-constant-extra-space/"
   ]
  },
  {
   "cell_type": "markdown",
   "metadata": {},
   "source": [
    "#### 迭代法实现快排\n",
    "https://www.geeksforgeeks.org/iterative-quick-sort/"
   ]
  },
  {
   "cell_type": "markdown",
   "metadata": {},
   "source": [
    "#### 3-Way 快排"
   ]
  },
  {
   "cell_type": "markdown",
   "metadata": {},
   "source": [
    "#### 链表排序"
   ]
  },
  {
   "cell_type": "markdown",
   "metadata": {
    "pycharm": {
     "name": "#%% md\n"
    }
   },
   "source": [
    "\n",
    "## Bubble sort 气泡排序\n",
    "### 定义\n",
    "### 重点\n",
    "### 时间复杂度\n",
    "\n",
    "\n"
   ]
  },
  {
   "cell_type": "markdown",
   "metadata": {},
   "source": [
    "## Heap sort 堆排序"
   ]
  },
  {
   "cell_type": "markdown",
   "metadata": {},
   "source": [
    "## 插入排序"
   ]
  },
  {
   "cell_type": "markdown",
   "metadata": {},
   "source": [
    "# 基本算法类型 Basic Types of Algorithm "
   ]
  },
  {
   "cell_type": "markdown",
   "metadata": {},
   "source": [
    "## 递归算法 Recursive Algorithms"
   ]
  },
  {
   "cell_type": "markdown",
   "metadata": {},
   "source": [
    "### 基本概念"
   ]
  },
  {
   "cell_type": "markdown",
   "metadata": {},
   "source": [
    "#### 定义\n",
    "* 在其定义中，调用自身的算法。An algorithm that calls itself in its definition.\n",
    "    * 基本情况时,条件语句用于中断递归 **Base case** a conditional statement that is used to break the recursion.\n",
    "    * 递归情况时,条件语句用于触发递归 **Recusive case** a conditional statement that is used to trigger the recursion.  "
   ]
  },
  {
   "cell_type": "markdown",
   "metadata": {},
   "source": [
    "#### 重点\n",
    "* 堆栈级别太深/堆栈溢出 **Stack level too deep** and **stack overflow**\n",
    "    * 如果从递归算法中看到这两种情况，那么就搞砸了。\n",
    "    * 这意味着基本情况永远不会被触发，因为递归有缺陷，或者实例/问题如此之大，以至于耗尽了所有内存\n",
    "    * 正确是使用递归的必要条件:是否会遇到基本条件\n",
    "    * 经常在DFS中出现"
   ]
  },
  {
   "cell_type": "markdown",
   "metadata": {},
   "source": [
    "### 回溯法 Backtracking"
   ]
  },
  {
   "cell_type": "markdown",
   "metadata": {},
   "source": [
    "#### 概念"
   ]
  },
  {
   "cell_type": "markdown",
   "metadata": {},
   "source": [
    "* 回溯法又称试探法，当探索到某一步时，发现原先的选择达不到目标，就退回一步重新选择，这种走不通就退回再走的技术为回溯法。"
   ]
  },
  {
   "cell_type": "markdown",
   "metadata": {},
   "source": [
    "* 回溯法是一种选优搜索法，按选优条件向前搜索，以达到目标。但当探索到某一步时，发现原先选择并不优或达不到目标，就退回一步重新选择，这种走不通就退回再走的技术为回溯法，而满足回溯条件的某个状态的点称为“回溯点”"
   ]
  },
  {
   "cell_type": "markdown",
   "metadata": {},
   "source": [
    "#### 基本思想"
   ]
  },
  {
   "cell_type": "markdown",
   "metadata": {},
   "source": [
    "* 在包含问题的所有解的解空间树中，按照深度优先搜索的策略，从根节点出发深度探索解空间树。当探索到某一结点时，要先判断该节点是否包含问题的解，如果包含，就从该结点出发继续探索下去，如果该节点不包含问题的解，则逐层向其祖先节点回溯。（其实回溯法就是对隐式图的深度优先搜索算法）\n",
    "* 若用回溯法求问题的所有解时，要回溯到根，且根节点的所有可行的子树都要被搜素一遍才结束。\n",
    "* 若使用回溯法求任一个解时，只要搜索到问题的一个解就可以结束。"
   ]
  },
  {
   "cell_type": "markdown",
   "metadata": {},
   "source": [
    "#### 基本步骤\n",
    "1. 针对所给问题，确定问题的解空间：首先应明确定义问题的解空间，问题的解空间至少包含问题的一个最优解\n",
    "* 确定结点的扩展搜索规则\n",
    "* 以 深度优先 方式搜索解空间，并在搜索过程中用剪枝函数避免无效搜索。"
   ]
  },
  {
   "cell_type": "markdown",
   "metadata": {},
   "source": [
    "### 分治法 Divide-conquer algorithm"
   ]
  },
  {
   "cell_type": "markdown",
   "metadata": {},
   "source": [
    "#### 基本概念\n",
    "将一个规模为N的问题分解为K个规模较小的子问题，这些子问题相互独立，且与原问题性质相同。求出子问题的解后进行合并，就可以得到原问题的解。"
   ]
  },
  {
   "cell_type": "markdown",
   "metadata": {},
   "source": [
    "#### 适用情况的特征\n",
    "1. 该问题的规模缩小到一定的程度就可以容易的解决\n",
    " * e.g. 排序规模越小，越容易解决\n",
    "* 可以分解为若干个规模较小的相同问题，即各子问题具有最优解，就能求出整个问题的最优解\n",
    " * 应用分治法的前提，也反映了递归思想的应用\n",
    " * e.g.归并排序把整个分成小部分\n",
    "* 利用该问题分解出的子问题的解可以通过某种固定方式合并为该问题的解\n",
    " * 确定使用分治的判断条件，若不成立，则考虑贪心或DP\n",
    " * e.g.归并排序，两个有序子序列再次合并\n",
    "* 该问题分解出的各个子问题是相互独立的，即子问题之间不包含公共的子子问题\n",
    " * 涉及到分治法的效率，如果子问题不独立，则分治法需要做许多不必要的工作，重复解公共子问题。\n",
    " * 若不满足，则用DP比较好\n",
    " * e.g. DP抢劫问题，dp[i] = max(dp[i-2] + arr[i], dp[i-1])，故子问题不独立，用DP比较好"
   ]
  },
  {
   "cell_type": "markdown",
   "metadata": {},
   "source": [
    "#### 一般步骤\n",
    "* 分解：将要解决的问题划分成若干规模较小的同类问题\n",
    "* 求解：当问题划分得足够小时，用较简单的方法解决，否则递归地解各个子问题\n",
    "* 合并：按原问题的要求，将子问题逐层合并构成原问题的解"
   ]
  },
  {
   "cell_type": "markdown",
   "metadata": {},
   "source": [
    "#### 经典问题\n",
    "1. 二分搜索\n",
    "* 大数整除法\n",
    "* Strassen矩阵乘法\n",
    "* 棋盘覆盖\n",
    "* 归并排序\n",
    "* 快速排序\n",
    "* 线性时间选择\n",
    "* 最接近点对问题\n",
    "* 汉诺塔"
   ]
  },
  {
   "cell_type": "markdown",
   "metadata": {},
   "source": [
    "### 回溯法和分治法的区别\n",
    "* 思想上：\n",
    "    * 回溯：线性递进思想，一步一步走向更多的实例，比如从list的index=0到index=end\n",
    "    * 分治：从整体到局部思想。\n",
    "* 实现上：\n",
    "    * 回溯：\n",
    "        * 结束条件-> i = len(s),即遍历到最后一个数\n",
    "    * 分治：\n",
    "        * 结束条件-> len(arr) == 0/1, 即划分的部分为1个元素或者无元素\n",
    "* 应用范围：\n",
    "    * 回溯：找各种可能性\n",
    "    * 分治：排序"
   ]
  },
  {
   "cell_type": "markdown",
   "metadata": {},
   "source": [
    "## 迭代算法"
   ]
  },
  {
   "cell_type": "markdown",
   "metadata": {},
   "source": [
    "### 定义\n",
    "* 一种算法，被重复且次数有限的调用，每次都是一次迭代。An algorithm is called repeatedly but for a finite number of times, each time being a single iteraton.\n",
    "    * 通常用于数据集的增量移动 move incrementally through a data set."
   ]
  },
  {
   "cell_type": "markdown",
   "metadata": {},
   "source": [
    "## 贪心算法"
   ]
  },
  {
   "cell_type": "markdown",
   "metadata": {},
   "source": [
    "### 定义 \n",
    "* An algorithm that, while excuting, selects only the information that meets a certain criteria.\n",
    "* The general five components, from Wiki:\n",
    "    * A candidate set, from which a solution created.\n",
    "    * A selection funtion, which chooses the best candidate to be added to the solution.\n",
    "    * A feasibility function(可行性), that is used to determine if a candidate can be used to contribute to a solution.\n",
    "    * An objective function, which will assign a value to a soluction, or a partial soluction.\n",
    "    * A soluction fucntion, which will indicate when we have discouvered a complete solution.\n",
    "* Key"
   ]
  },
  {
   "cell_type": "markdown",
   "metadata": {},
   "source": [
    "### 基本概念\n",
    "* 在对问题求解时，总是做出在当前看来最好的选择。即 不从整体上最优加以考虑，它所做出的仅是在某种意义上的局部最优解。  \n",
    "* 贪心算法只对部分问题才能得到整体最优解，选择的贪心策略必须具备无后效性。\n",
    "    * 无后效性：状态 受前不受后"
   ]
  },
  {
   "cell_type": "markdown",
   "metadata": {},
   "source": [
    "### 适用前提\n",
    "使用局部最优策略能产生全局最优解的问题"
   ]
  },
  {
   "cell_type": "markdown",
   "metadata": {},
   "source": [
    "### 基本步骤\n",
    "1. 建立数学模型来描述问题 （找规律？）\n",
    "* 把求解的问题分成若干个子问题 （减少问题规模，设想只有1个，只有2个的情况）\n",
    "* 对每一个子问题求解，得到子问题的局部最优解\n",
    "* 把子问题的局部最优解合成原来解问题的一个解"
   ]
  },
  {
   "cell_type": "markdown",
   "metadata": {},
   "source": [
    "## 动态规划 dynamic plannig"
   ]
  },
  {
   "cell_type": "markdown",
   "metadata": {},
   "source": [
    "### 基本概念\n",
    "将一个问题分解成若干个子问题（阶段），按顺序求解子阶段，前一子问题的解，为后一子问题的求解提供了有用的信息。在求解任一子问题时，列出各种可能的局部解，通过决策保留那些有可能达到最优的局部解，丢弃其他局部解。依次解决各子问题，最后一个子问题就是初始问题的解。"
   ]
  },
  {
   "cell_type": "markdown",
   "metadata": {},
   "source": [
    "### 与分治法的差别\n",
    "适合于用动态规划法求解的问题，经分解后得到的子问题往往不是互相独立的（即下一个子阶段的求解是建立在上一个子阶段的解的基础上，进行进一步的求解）。"
   ]
  },
  {
   "cell_type": "markdown",
   "metadata": {},
   "source": [
    "#### 适用情况的特征\n",
    "需要满足如下三个特征：\n",
    "1. 最优化原理：问题的最优解所包含的子问题的解也是最优的（称该问题具有最优子结构）。\n",
    " * 贪心，分治也满足\n",
    "* 无后效性：状态 受前不受后\n",
    " * 贪心满足，分治无关\n",
    "* 有重叠子问题：子问题之间不独立，一个子问题在下个阶段决策中可能被多次使用到。\n",
    " * 不是适用的必要条件，但若不具有，则DP不具有优势。\n",
    " * 贪心没有子问题，分治法各个子问题独立"
   ]
  },
  {
   "cell_type": "markdown",
   "metadata": {},
   "source": [
    "### 基本步骤"
   ]
  },
  {
   "cell_type": "markdown",
   "metadata": {},
   "source": [
    "#### 设计步骤\n",
    "初始状态 -> 决策1 -> 决策2 -> ... -> 决策n -> 结束状态\n",
    "1. 划分阶段：按照原问题的时间或空间特征，把原问题分为若干个阶段（子问题）。在划分阶段时，注意划分后的阶段（子问题）一定是要有序的或者是可排序的，否则问题就无法求解。\n",
    " * e.g. 原问题为求n阶台阶的所有走法的数量，子问题是求1阶、2阶台阶、...、n-1阶台阶的走法\n",
    "2. 确定状态和状态变量：将问题发展到各个阶段时所处于的各种客观情况用不同的状态表示出来。当然，状态的选择要满足无后效性。\n",
    " * 无后效性：如果在某个阶段上过程的状态已知，则从此阶段以后过程的发展变化仅与此阶段的状态有关，而与过程在此阶段以前的阶段所经历过的状态无关。\n",
    " * e.g. 第i个状态即为i阶台阶的所有走法数量。\n",
    "3. 确定决策并写出状态转移方程：根据相邻两个阶段的状态之间的关系来确定决策方法和状态转移方程。\n",
    " * e.g. dp[i] = dp[i-1] + dp[i-2] (i >= 3)\n",
    "4. 寻找边界条件：给出的状态转移方程是一个递推式，需要一个递推的终止条件或边界条件\n",
    " * e.g. 1阶台阶与2阶台阶的走法。1阶台阶有一种走法，2阶台阶有两种走法，即dp[1] = 1,dp[2] = 2"
   ]
  },
  {
   "cell_type": "markdown",
   "source": [
    "#### 简化步骤\n",
    "1. 分析最优解的性质，并刻画其结构特征\n",
    " * e.g. 抢劫问题，dp[i]的最优解是有两个结构构成的，dp[i-1]和dp[i-2] + arr[i]\n",
    "* 递归的定义最优解（迭代也行？）\n",
    " * e.g. for i in range(len(arr))\n",
    "* 以自底而上，或自顶而下的记忆化方式，计算出最优值\n",
    " * 自底而上,即DP法：建立一个表格，从最小的子问题开始向上求解较大的子问题，把每一个子问题的解全部填入表格中，直到表格中出现原问题的解为止\n",
    " * 自顶而下的记忆化方式，即备忘录法：将递归遇到的子问题的解保存在一个表中，以便下一个递归遇到同样的子问题时快速求解。\n",
    " *　当一个问题的所有子问题都至少要解一次时，用动态规划比用备忘录方法要好，此时，动态规划算法没有任何多余的计算。当子问题空间中的部分问题可不必求解时，用备忘录方法较有利，因为从其控制结构可以看出，该方法只解那些确实需要求解的子问题。\n",
    " * e.g.迭代for完全，求出最优值\n",
    "* 根据计算最优值时得到的信息，构造问题的最优解\n",
    " * e.g. dp[len(arr)-1]的最优值就是问题的最优解？"
   ],
   "metadata": {
    "collapsed": false
   }
  },
  {
   "cell_type": "markdown",
   "metadata": {},
   "source": [
    "* 动态规划三要素\n",
    " 1. 问题的阶段（原问题和子问题）\n",
    " * 每个阶段的状态 (第i个状态代表什么)\n",
    " * 从前一个阶段到后一个阶段之间的递推关系（转移方程）"
   ]
  },
  {
   "cell_type": "markdown",
   "metadata": {
    "pycharm": {
     "name": "#%%\n"
    }
   },
   "source": [
    "* 动态规划三要素\n",
    " 1. 问题的阶段（原问题和子问题）\n",
    " * 每个阶段的状态 (第i个状态代表什么)\n",
    " * 从前一个阶段到后一个阶段之间的递推关系（转移方程）"
   ]
  },
  {
   "cell_type": "markdown",
   "metadata": {},
   "source": [
    "## 分支限界法"
   ]
  },
  {
   "cell_type": "markdown",
   "metadata": {},
   "source": [
    "### 基本概念\n",
    "* 分支限界法的求解目标：找出满足约束条件的一个解，或者在满足约束条件的解中找出使某一目标函数值达到极大或极小的解，即在某种意义下的最优解\n",
    "    回溯法的求解目标：找出T中满足约束条件的所有解"
   ]
  },
  {
   "cell_type": "markdown",
   "metadata": {},
   "source": [
    "### 分支搜索\n",
    "* 所谓‘分支’就是采用 广度优先 的策略，依次搜索E-结点的所有分支，也就是所有相邻节点，抛弃不满足约束条件的结点，其余结点加入活节点表。\n",
    "* 然后从表中选择一个结点作为下一个E-结点，继续搜索"
   ]
  },
  {
   "cell_type": "code",
   "execution_count": null,
   "metadata": {},
   "outputs": [],
   "source": []
  }
 ],
 "metadata": {
  "kernelspec": {
   "display_name": "Python 3",
   "language": "python",
   "name": "python3"
  },
  "language_info": {
   "codemirror_mode": {
    "name": "ipython",
    "version": 3
   },
   "file_extension": ".py",
   "mimetype": "text/x-python",
   "name": "python",
   "nbconvert_exporter": "python",
   "pygments_lexer": "ipython3",
   "version": "3.7.5"
  },
  "pycharm": {
   "stem_cell": {
    "cell_type": "raw",
    "source": [],
    "metadata": {
     "collapsed": false
    }
   }
  },
  "toc": {
   "base_numbering": 1,
   "nav_menu": {},
   "number_sections": true,
   "sideBar": true,
   "skip_h1_title": false,
   "title_cell": "Table of Contents",
   "title_sidebar": "Contents",
   "toc_cell": false,
   "toc_position": {
    "height": "787px",
    "left": "25px",
    "top": "110px",
    "width": "272.325px"
   },
   "toc_section_display": true,
   "toc_window_display": true
  }
 },
 "nbformat": 4,
 "nbformat_minor": 1
}