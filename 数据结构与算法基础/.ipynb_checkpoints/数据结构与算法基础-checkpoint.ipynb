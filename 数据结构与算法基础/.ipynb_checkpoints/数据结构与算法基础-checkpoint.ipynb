{
 "cells": [
  {
   "cell_type": "markdown",
   "metadata": {},
   "source": [
    "# 数据结构基础  "
   ]
  },
  {
   "cell_type": "markdown",
   "metadata": {
    "pycharm": {
     "name": "#%% md\n"
    }
   },
   "source": [
    "\n",
    "## List \n",
    "### 定义\n",
    "* Stores data elements based on an sequential, most commonly 0 based, index. \n",
    "* Based on tuples from set theory. （元组 + 可变的集合 -> 可变的元组）。\n",
    "* They are one of the oldest, most commonly used data structures. \n",
    "\n",
    "### 重点\n",
    "* Advantages: indexing  \n",
    "* Disadvantages: inserting(except append), and deleting(except pop).\n",
    "* Linear data structures, are the most basic. 最基本结构：线性数组.\n",
    "    * Stack 栈 \n",
    "    * Queue 队列 \n",
    "* Non-linear data structures.非线性数据结构\n",
    "    * Graphs 图 [[1,2], [3, 4]]\n",
    "    * Trees  树 中序遍历 [1,[2,4,5],3]\n",
    "\n",
    "### 增删改查排及时间复杂度\n",
    "* Append： O(1)\n",
    "* Insertion: O(N) (l[a:b] = ...) \n",
    "* Pop：O(1)\n",
    "* Delete: O(N) depends on i; O(N) in worst case\n",
    "* Indexing: O(1)\n",
    "* Search: traversal list O(N)\n",
    "* Sort: O(NlogN)\n"
   ]
  },
  {
   "cell_type": "markdown",
   "metadata": {
    "pycharm": {
     "name": "#%% md\n"
    }
   },
   "source": [
    "\n",
    "## Linked list\n",
    "### 定义\n",
    "* Stores data with nodes that point to other nodes. 用节点储存数据并指向其他节点\n",
    "    * 节点的描述：Nodes, at its most basic it has one datum and one reference (another node) 在最基础的情况下，节点拥有一个数据和一个参考（其他节点）\n",
    "    * 链表的描述：A linked list chains nodes together by pointing one node's reference to another. 节点通过指向另一个节点从而使链表连接在一起\n",
    "\n",
    "### 重点 \n",
    "* Advantage: Add and deletion \n",
    "* Disadvantage: indexing and searching. \n",
    "* Doubly linked list has nodes that also references the previous node. 双向链表有两个参考，一个是之前的node，一个是之后的node\n",
    "* Circularly linked list is simple linked list whose tail, the last node, references the head, the first node. 成环链表是由简单的链表首末相连组成\n",
    "* 可以实现栈和队列\n",
    "\n",
    "### 增删改查排及时间复杂度\n",
    "* Add node: O(1)\n",
    "* Deletion: O(1)\n",
    "* indexing: O(N)\n",
    "* Search: traversal linklist O(N)\n",
    "* Sort: O(NlogN)"
   ]
  },
  {
   "cell_type": "markdown",
   "metadata": {},
   "source": [
    "## Stack, Queue and Heap queue(priority queue)\n",
    "### Stack 栈 \n",
    "* Last-In-First-Out (LIFO) concept \n",
    "* append() / pop() \n",
    "* can be made from **list**\n",
    "* can be made from **linklist**, by having the head be the only place for insertion and removal. 可用链表构成,插入：建立新节点，连接到头节点；移除：移除头节点，返回下一个\n",
    "    * 参见 <链表实现stack和Queue>\n",
    "    \n",
    "### Queue 队列 \n",
    "* First-In-First-Out (FIFO) principle \n",
    "* Lists are not efficient to implement a queue 列表不能有效的执行队列\n",
    "    * 故调用容器-双端队列deque(double-end-queue) \n",
    "    * from collections import deque d = deque(iterable) (\"deck\")，If iterable is not specified, the new deque is empty.\n",
    "    * append(x) / appendleft(x) / pop() / popleft() / extend(iterable) / extendleft(iterable) O(1) 双向append or pop, O(1)\n",
    "* can be made from **linklist** that only removes from head and adds to tail 也可用链表构成, 从头部移除，从尾部添加\n",
    "    * 参见 <链表实现stack和Queue>\n",
    "\n",
    "### Heap queue 堆 \n",
    "* 最小值在堆顶   "
   ]
  },
  {
   "cell_type": "code",
   "execution_count": null,
   "metadata": {
    "pycharm": {
     "name": "#%%\n"
    }
   },
   "outputs": [],
   "source": [
    "# stack（list）\n",
    "A= [1,2,3]\n",
    "A.append([4])  # [1, 2, 3, [4]]\n",
    "A.extend([4])  # [1, 2, 3, 4]\n",
    "A.insert(1,4)  # 在i处插入value [1, 4, 2, 3]\n",
    "A.remove(1)  # 除去值为i的数 [4, 3, 2]\n",
    "x = A.pop(1)  # 除去第i个数 [4, 2]\n",
    "x = A.index(4)  # 0 返回序号 A = [3, 1, 5]\n",
    "A.reverse()  # 转置 [5, 1, 3]\n",
    "A.sort(key = True)  # 排序 + 转置 [5, 3, 1]\n",
    "from copy import copy, deepcopy\n",
    "a = copy(A)  # 浅复制\n",
    "a = deepcopy(A)  # 深复制\n",
    "\n",
    "# Queue (deque)\n",
    "from collections import deque\n",
    "B = 'desk'  # iterable\n",
    "d = deque(B) # 转化B为队列d\n",
    "d = deque()  # 建立新队列d\n",
    "d.append('c')\n",
    "d.appendleft('e')  # 'edeskc'\n",
    "d.extend(a)\n",
    "d.extendleft(a)  # 扩展最左边\n",
    "x = d.pop(1) # d.pop(i)\n",
    "d.popleft() #删除最左边的，即先“进”的，无(i)\n",
    "\n",
    "\n",
    "# Heap queue 堆\n",
    "from heapq import heapify, heappop, heappush, heappushpop, heapreplace, nlargest, nsmallest\n",
    "C = []  # 建立新heapq\n",
    "C = [2, 3, 4]\n",
    "heapify(C)  # 转化C为堆\n",
    "heappush(C, [1, 2])  # 添加[1, 2]进C\n",
    "x = heappop(C)\n",
    "heappushpop(C, [1, 2])  # 先添加，再删除顶端的\n",
    "heapreplace(C, [1, 2])  # 先删除顶端的，再添加\n",
    "nlargest(2, C)  # nlargest(n, iterable, key=None) 返回前n个符合k条件的最大值（e.g. k = lambda x: x[0]）  = sorted(iterable, key=key, reverse=True)[:n]\n",
    "nsmallest(2, C)  # nsmallest(n, iterable, key=None) 返回前n个最小值 = sorted(iterable, key=key, reverse= False)[:n]"
   ]
  },
  {
   "cell_type": "markdown",
   "metadata": {
    "pycharm": {
     "name": "#%% md\n"
    }
   },
   "source": [
    "## Hash Table 及 string\n",
    "### 定义\n",
    "* 结构：Stores data with **key value pairs**.\n",
    "* 功能：Hash function accept a key and return an output unique only to that specific key\n",
    "    * This is known as hashing, which is the concept that an input and an output have **a one-to-one correspondence** to map information.\n",
    "    * Hash function has **a unique address** in memory for that data.\n",
    "\n",
    "### 重点\n",
    "* Advantages: insertion, deletion, and searching\n",
    "* Hash collisions(哈希冲突) are when a hash function returns the **same output** for **two distinct inputs**.\n",
    "    * All hash function have its problem\n",
    "    * This is often accommodated(解决) for **having the hash table being very large**\n",
    "* Hashes are important for **dictionary** and **database indexing**.\n",
    "\n",
    "### 增删改查排及空间复杂度\n",
    "* Store：O(1) d[k] = v\n",
    "* Pop: O(1) **d.pop(k)** 删除key对应的pair，并返回value\n",
    "* Pop item: O(1) **d.popitem()** 删除并返回最后一个pair\n",
    "* Delete: O(1) del d[k]\n",
    "* Search: O(1) d[k]\n"
   ]
  },
  {
   "cell_type": "markdown",
   "metadata": {},
   "source": [
    "## Binary Tree"
   ]
  },
  {
   "cell_type": "markdown",
   "metadata": {},
   "source": [
    "### 定义\n",
    "a tree like data structure where every node has at most two children\n",
    "    * There is one left and right child node"
   ]
  },
  {
   "cell_type": "markdown",
   "metadata": {},
   "source": [
    "### 重点\n",
    "* Designed to optimize searching and sorting\n",
    "* A **degenerate tree** is an unbalanced tree, which if entirely one-sided is essentially a linked list. 简并树是母节点只有一个子节点的树，如果完全单侧，则就是链表\n",
    "* They are comparably simple to implement than other data structure.\n",
    "* Used to make **binary search tree**\n",
    "    * A binary tree that uses comparable keys to assign which direction a child is. 使用可比较键来指定孩子的方向的二叉树。\n",
    "    * Left child has a key smaller than its parent node.\n",
    "    * Right child has a key greater than its parent node.\n",
    "    * There can be no duplicate node.\n",
    "    * Because of the above it is more likely to be used as a data stucture than a binary tree."
   ]
  },
  {
   "cell_type": "markdown",
   "metadata": {},
   "source": [
    "### 增删改查排及空间复杂度\n",
    "* Insertion: O(logN)\n",
    "* Indexing: O(logN)\n",
    "* Search: O(logN)"
   ]
  },
  {
   "cell_type": "markdown",
   "metadata": {},
   "source": [
    "# 搜索基础 Search Basics"
   ]
  },
  {
   "cell_type": "markdown",
   "metadata": {},
   "source": [
    "## 宽度优先搜索"
   ]
  },
  {
   "cell_type": "markdown",
   "metadata": {},
   "source": [
    "### 定义\n",
    "An algorithm that search a tree (or graph) by searching levels of the tree firs, starting at the root.\n",
    "### 重点\n",
    "### 复杂度"
   ]
  },
  {
   "cell_type": "markdown",
   "metadata": {},
   "source": [
    "\n",
    "# 高效排序基础 Efficient Sorting Basic\n",
    "* 基本应用：排序类题目\n",
    "    * 核心步骤：比较（每个元素）\n",
    "* 扩展应用：合并类题目（比较过程中，每个元素都遍历到了，故可以实现合并）"
   ]
  },
  {
   "cell_type": "markdown",
   "metadata": {},
   "source": [
    "\n",
    "##  Merge sort 合并排序法\n",
    "\n",
    "### 定义 \n",
    "A comparison based sorting algorithm，流程如下  \n",
    "  * Divide entire dataset into groups of at most two\n",
    "  * Compares each number one at a time, moving the smallest number to left of the pair.\n",
    "  * Once all pairs sorted it, then compares left most elements of the two leftmost pairs to create sorted group of four with the smallest numbers on the left and the largest ones on the right.\n",
    "  * This process is repeated until there in only one set.\n",
    "  * 如图 Merge-Sort.png \n",
    "\n",
    "### 重点\n",
    "* This is one of most basic sorting algorithm.\n",
    "* Know that it divides all the data into small possible sets then compares them.\n",
    "\n",
    "### 复杂度\n",
    "* Time\n",
    "    * Relation: T(n) = 2T(n/2) + O(n)\n",
    "    * Best Case Sort: O(NlogN)\n",
    "    * Average Case Sort: O(NlogN)\n",
    "    * Worst Case Sort: O(NlogN)\n",
    "    * Prove the NlogN\n",
    "        * Recurrence Tree method:\n",
    "            T(n) = 2T(n/2) + O(n) = 2^2T(n/2^2) + 2O(n/2) + O(n) = 2^2T(n/2^2) + 2O(n) = 2^mT(n/2^m) + mO(n);\n",
    "            又因为n/2^m = 1时，m= log(2)n. 故 T(n) = nT(1) + log(2)n * O(n) = n + nlog(2)n = nlog2(n) = nlogn\n",
    "        * Master method\n",
    "            T(n) = 2T(n/2) + O(n)，故为nlogn \n",
    "* Space\n",
    "    * O(N)\n",
    "\n",
    "### 方法核心\n",
    "* 把容器元素分拆成小单位，再依次比较、排列、合并 "
   ]
  },
  {
   "cell_type": "code",
   "execution_count": 8,
   "metadata": {
    "pycharm": {
     "name": "#%%\n"
    }
   },
   "outputs": [
    {
     "data": {
      "text/plain": [
       "[0, 1, 2]"
      ]
     },
     "execution_count": 8,
     "metadata": {},
     "output_type": "execute_result"
    }
   ],
   "source": [
    "'''\n",
    "Merge Sort temple/basic code\n",
    "edge case: list is None / only one element \n",
    "过程 :\n",
    "    MergeSort(arr[], l,  r)\n",
    "    If r > l\n",
    "    1. Find the middle point to divide the array into two halves:   \n",
    "         middle m = (l+r)/2\n",
    "    2. Call mergeSort for first half:   \n",
    "         Call mergeSort(arr, l, m)\n",
    "    3. Call mergeSort for second half:\n",
    "         Call mergeSort(arr, m+1, r)\n",
    "    4. Merge the two halves sorted in step 2 and 3:\n",
    "         Call merge(arr, l, m, r)\n",
    "'''\n",
    "\n",
    "class SortList:\n",
    "    # Merge sort\n",
    "    def mergeSort(self, arr):\n",
    "        if len(arr) == 0 or len(arr) == 1:\n",
    "            return\n",
    "        \n",
    "        \n",
    "        if len(arr) >= 2:\n",
    "            # 普通划分\n",
    "            mid = len(arr) // 2  # find the mid of the array\n",
    "            L = arr[:mid]  # divide the array elements\n",
    "            R = arr[mid:]  # into 2 haves\n",
    "            \n",
    "            # 递归划分\n",
    "            self.mergeSort(L)  # Sorting the first half\n",
    "            self.mergeSort(R)  # Sorting the second half\n",
    "\n",
    "            # 合并， input: 两个已排序的list，L，R.过程：对L，R进行合并排序。output：合并完成后的一个list\n",
    "            i = j = k = 0\n",
    "            while i < len(L) and j < len(R):  # copy data to temp arrays L and R\n",
    "                if L[i] < R[j]:\n",
    "                    arr[k] = L[i]\n",
    "                    i += 1\n",
    "                else:\n",
    "                    arr[k] = R[j]\n",
    "                    j += 1\n",
    "                k += 1\n",
    "\n",
    "            while i < len(L):  # process left data in L part\n",
    "                arr[k] = L[i]\n",
    "                k += 1\n",
    "                i += 1\n",
    "\n",
    "            while j < len(R):  # process right data in R part\n",
    "                arr[k] = R[j]\n",
    "                k += 1\n",
    "                j += 1\n",
    "\n",
    "        return arr\n",
    "            \n",
    "x = SortList() \n",
    "x.mergeSort([2,1,0])"
   ]
  },
  {
   "cell_type": "markdown",
   "metadata": {},
   "source": [
    "  \n",
    "##  Bottom-up Merge sort  自下而上排序法\n",
    "\n",
    "### 定义\n",
    "A comparison based sorting algorithm，\n",
    "  * first merges pairs of adjacent lists of 1 element\n",
    "  * Then merge pairs of adjacent lists of 2 elements\n",
    "  * And next merge pairs of adjacent lists of 4 elements\n",
    "  * And so on. Until the whole list is merged.  \n",
    "\n",
    "\n",
    "### 复杂度\n",
    "* Time\n",
    "    * Relation: T(n) = 2T(n/2) + O(n)\n",
    "    * Best Case Sort: O(NlogN)\n",
    "    * Average Case Sort: O(NlogN)\n",
    "    * Worst Case Sort: O(NlogN)\n",
    "    * Prove the NlogN\n",
    "        * Recurrence Tree method:\n",
    "            T(n) = 2T(n/2) + O(n) = 2^2T(n/2^2) + 2O(n/2) + O(n) = 2^2T(n/2^2) + 2O(n) = 2^mT(n/2^m) + mO(n);\n",
    "            又因为n/2^m = 1时，m= log(2)n. 故 T(n) = nT(1) + log(2)n * O(n) = n + nlog(2)n = nlog2(n) = nlogn\n",
    "        * Master method\n",
    "            T(n) = 2T(n/2) + O(n)，故为nlogn \n",
    "* Space\n",
    "    * O(1) # 随是否新建存储结构而变化"
   ]
  },
  {
   "cell_type": "code",
   "execution_count": 1,
   "metadata": {
    "pycharm": {
     "name": "#%%\n"
    }
   },
   "outputs": [
    {
     "data": {
      "text/plain": [
       "[0, 1, 2]"
      ]
     },
     "execution_count": 1,
     "metadata": {},
     "output_type": "execute_result"
    }
   ],
   "source": [
    "# Bottom-up Merge Sort temple/basic code\n",
    "# edge case: list is None / only one element \n",
    "# 易错点：别忘记while interval < length，subsort求的是段，23.Merge k Sorted list求的是点\n",
    "class SortList:\n",
    "    def mergeSort(self, arr):  # Merge sort by bottom-up merge sort\n",
    "        if len(arr) == 0 or len(arr) == 1:  # edge case\n",
    "            return arr\n",
    "\n",
    "        length = len(arr)\n",
    "        interval = 1\n",
    "        while interval < length:\n",
    "            for i in range(0, length, 2 * interval):  # bottom-up merge sort\n",
    "                arr[i: i + 2 * interval] = self.subsort(arr[i: i + interval], arr[i + interval: i + interval * 2])\n",
    "            interval = interval * 2\n",
    "        return arr\n",
    "\n",
    "    def subsort(self, list1, list2):  # sort two sorted list\n",
    "        if not list1:\n",
    "            return list2\n",
    "        if not list2:\n",
    "            return list1\n",
    "\n",
    "        new_list = []\n",
    "        left_len = len(list1)\n",
    "        right_len = len(list2)\n",
    "        i, j = 0, 0\n",
    "        while i < left_len and j < right_len:\n",
    "            if list1[i] < list2[j]:\n",
    "                new_list.append(list1[i])\n",
    "                i += 1\n",
    "            else:\n",
    "                new_list.append(list2[j])\n",
    "                j += 1\n",
    "\n",
    "        if i != left_len:\n",
    "            new_list.extend(list1[i:left_len])\n",
    "        if j != right_len:\n",
    "            new_list.extend(list2[j:right_len])\n",
    "        return new_list\n",
    "\n",
    "x = SortList() \n",
    "x.mergeSort([2,1,0])"
   ]
  },
  {
   "cell_type": "markdown",
   "metadata": {
    "pycharm": {
     "name": "#%% md\n"
    }
   },
   "source": [
    "### 合并排序及自下而上排序的应用\n",
    "\n",
    "#### 解决方案：  \n",
    "* 明确 基本结构与要求\n",
    "    * 输入 含有数个元素容器\n",
    "    * 输出 格式！！\n",
    "        * 原容器输出,即原容器保持维度不变的输出 e.g.list sort  -> 递归时直接 self.sort(L)\n",
    "        * 新参数输出,即新参数，或者原容器维度改变的输出 e.g. sort linklist, sort list[list] -> 递归时 sub_l = self.sort(L)\n",
    "    * 要求 合并方式排序元素等\n",
    "* 明确 题目类型\n",
    "* 确定 idea （解题算法）\n",
    "* 思考 不同之处\n",
    "* 修改 Method\n",
    "    \n",
    "#### 排序链表，且不要求space complexity - merge sort\n",
    "* 为什么用方法？ \n",
    "    * 要求排序\n",
    "    * 相对于快排，合并排序不需要太多的对链表节点的访问(access)。\n",
    "    （链表储存不是连续分块储存的(continuous block of memory)，不利于节点访问，与list相反）\n",
    "* 时间/空间复杂度\n",
    "    * O(NlogN) / O(N)\n",
    "* 例题： 148. Sort List (linked list).py\n",
    "    * 递归；递归部分返回头节点；每段的完整切割（要next=None）；先确定R头，再确定L尾\n",
    "    \n",
    "#### 排序链表，且using constant space complexity. - bottom-up merge sort\n",
    "* 为什么用这个方法？ \n",
    "    * using constant space complexity.\n",
    "* 时间/空间复杂度\n",
    "    * O(NlogN) / O(1)\n",
    "* 例题： 148. Sort List (linked list).py\n",
    "    * while interval < length + while head1 迭代；\n",
    "    * dummy,fake-tail的使用；\n",
    "    * 独立split函数，input->head,interval ; output -> next head\n",
    "    * 独立merge函数, input->head1,head2; output -> new head, new tail\n",
    "\n",
    "#### 计算转置数的数量 Inversion Count Problem\n",
    "* 为什么用方法？ \n",
    "    * 利用 inv_count = inv_count + (len(L) - i) 的性质\n",
    "* 时间/空间复杂度\n",
    "    * O(NlogN) / O(N)\n",
    "* 例题： \n",
    "    * 775\\. Global and Local Inversions.py\n",
    "    * 例题：Count Inversions in an array.py\n",
    "    \n",
    "#### 合并 K 个排序数组 Merge k sorted arrays\n",
    "\n",
    "#### 3-way Merge Sort\n",
    "\n",
    "#### 外置排序 External Sorting\n",
    "\n",
    "#### 合并链表题 \n",
    "* 为什么用merge sort？\n",
    "    * 要求合并，即排序的扩展 \n",
    "* 23\\. Merge k Sorted Lists.py - MergeSort method\n",
    "    * 基本结构与要求:\n",
    "        * 输入：含有数个元素为link list的head的容器\n",
    "        * 要求：合并并排序所有link list\n",
    "        * 输出：合并后的link list的head\n",
    "    * 明确题目类型： 大合并+小排序类\n",
    "    * idea: Merge Sort\n",
    "    * 不同之处：\n",
    "        * 合并：链表形式合并，生成新部分链表\n",
    "        * 输出：新生成的链表头，而不是原容器\n",
    "    * Method:\n",
    "        * divide lists into groups of at most two\n",
    "        * merge and sort linklist in every groups into one linklist\n",
    "        * merge and sort every two new linklist to create new linklist\n",
    "        * process is repeated until there in only one linklist\n",
    "        \n"
   ]
  },
  {
   "cell_type": "markdown",
   "metadata": {
    "pycharm": {
     "name": "#%% md\n"
    }
   },
   "source": [
    "## Quick sort 快速排序\n",
    "### 定义\n",
    "* A comparision based sorting algorithm （与merge sort相同）\n",
    "    * Divides entire dataset in half by selecting the middle element and putting all smaller elements to the left of the element and larger ones to the right.\n",
    "    * It repeats this process on the left side until it is comparing only two elements at which point the left side is sorted.\n",
    "    * When the left side is finished sorting, it performs the same operation on the right side.  \n",
    "* Computer architecture favors the quick-sort process.\n",
    "### 重点\n",
    "* While it has the same Big O as (or worse in the same cases) many other sorting algorithm, it is often faster in practice than many other sorting algorithms, such as merge sort. 虽然有相同或者更坏的时间复杂度，但是实际中，它要更快，比如比归并快\n",
    "* Know that it halves the data set by the average continuously until all the information is sorted.\n",
    "### 时间复杂度\n",
    "* Best case: O(NlogN)\n",
    "* Average case: O(NlogN)\n",
    "* Worst case: O(N2)"
   ]
  },
  {
   "cell_type": "markdown",
   "metadata": {
    "pycharm": {
     "name": "#%% md\n"
    }
   },
   "source": [
    "\n",
    "## Bubble sort 气泡排序\n",
    "### 定义\n",
    "### 重点\n",
    "### 时间复杂度\n",
    "\n",
    "\n"
   ]
  },
  {
   "cell_type": "markdown",
   "metadata": {},
   "source": [
    "# 基本算法类型 Basic Types of Algorithm "
   ]
  },
  {
   "cell_type": "markdown",
   "metadata": {},
   "source": [
    "## 递归算法"
   ]
  },
  {
   "cell_type": "markdown",
   "metadata": {},
   "source": [
    "## 迭代算法"
   ]
  },
  {
   "cell_type": "markdown",
   "metadata": {},
   "source": [
    "## 贪心算法\n",
    "### 定义 \n",
    "* An algorithm that, while excuting, selects only the information that meets a certain criteria.\n",
    "* The general five components, from Wiki:\n",
    "    * A candidate set, from which a solution created.\n",
    "    * A selection funtion, which chooses the best candidate to be added to the solution.\n",
    "    * A feasibility function(可行性), that is used to determine if a candidate can be used to contribute to a solution.\n",
    "    * An objective function, which will assign a value to a soluction, or a partial soluction.\n",
    "    * A soluction fucntion, which will indicate when we have discouvered a complete solution.\n",
    "* Key"
   ]
  },
  {
   "cell_type": "markdown",
   "metadata": {},
   "source": [
    "## 动态规划 dynamic plannig\n"
   ]
  }
 ],
 "metadata": {
  "kernelspec": {
   "display_name": "Python 3",
   "language": "python",
   "name": "python3"
  },
  "language_info": {
   "codemirror_mode": {
    "name": "ipython",
    "version": 3
   },
   "file_extension": ".py",
   "mimetype": "text/x-python",
   "name": "python",
   "nbconvert_exporter": "python",
   "pygments_lexer": "ipython3",
   "version": "3.7.5"
  },
  "pycharm": {
   "stem_cell": {
    "cell_type": "raw",
    "metadata": {
     "collapsed": false
    },
    "source": []
   }
  },
  "toc": {
   "base_numbering": 1,
   "nav_menu": {},
   "number_sections": true,
   "sideBar": true,
   "skip_h1_title": false,
   "title_cell": "Table of Contents",
   "title_sidebar": "Contents",
   "toc_cell": false,
   "toc_position": {
    "height": "787px",
    "left": "25px",
    "top": "110px",
    "width": "225.594px"
   },
   "toc_section_display": true,
   "toc_window_display": true
  }
 },
 "nbformat": 4,
 "nbformat_minor": 1
}
