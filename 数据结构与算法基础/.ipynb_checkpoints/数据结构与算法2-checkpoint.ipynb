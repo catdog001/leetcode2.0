{
 "cells": [
  {
   "cell_type": "markdown",
   "metadata": {},
   "source": [
    "# 二分搜索 Binary Search"
   ]
  },
  {
   "cell_type": "markdown",
   "metadata": {},
   "source": [
    "## 定义\n",
    "* 前提条件：已经**排序**好的序列\n",
    "* 方法：首先与序列中间的元素进行比较, 如果小于这个元素, 就在当前序列的前半部分继续查找, 如果大于这个元素, 就在当前序列的后半部分继续查找,直到找到相同的元素, 或者所查找的序列范围为空为止."
   ]
  },
  {
   "cell_type": "markdown",
   "metadata": {},
   "source": [
    "## 作用\n",
    "* 面试中如果需要优化O(n)的时间复杂度，一般只能是O(logn)的二分法"
   ]
  },
  {
   "cell_type": "markdown",
   "metadata": {},
   "source": [
    "## 一维模板"
   ]
  },
  {
   "cell_type": "code",
   "execution_count": 2,
   "metadata": {},
   "outputs": [],
   "source": [
    "# 模板1\n",
    "# 有一个Edge的情况就是，L最大可以等于len(array)，R最小可能为-1\n",
    "def binarySearch(arr, target):    \n",
    "    l, r = 0, len(arr) - 1\n",
    "    while l <= r: # l和r互换位置相邻时，返回\n",
    "        mid = l + (r - l) //2  # 是L，不是1；mid对于偶数，是靠左的，即[1,2]中，mid为1\n",
    "        if target == arr[mid]:\n",
    "            return mid\n",
    "        elif target < arr[mid]:\n",
    "            r = mid - 1\n",
    "        elif target > arr[mid]:\n",
    "            l = mid + 1\n",
    "    return -1\n",
    "\n",
    "# 极个别情况下的模板\n",
    "# 针对的是第一个模板的短板：当要access数组边界的数，如果边界的数在运行中出现更改，可能越界。??\n",
    "# 虽然这种情况也可以用Edge Case来写，但太过麻烦。这点我们后面具体说来。\n",
    "def binarySearch(arr, target):\n",
    "    l, r = 0, len(arr) - 1\n",
    "    while l + 1 < r:  # r要比l大2，即中间可以隔一个数，[0,2]不返回；l和r相邻时，返回\n",
    "        mid = l + (r - l) //2\n",
    "        if target == arr[mid]:  # 不仅mid为结果值\n",
    "            l = mid\n",
    "        elif target < arr[mid]:\n",
    "            r = mid\n",
    "        elif target > arr[mid]:\n",
    "            l = mid\n",
    "    \n",
    "    if arr[l] == target:\n",
    "        return l\n",
    "    if arr[r] == target:\n",
    "        return r\n",
    "    return -1\n",
    "     "
   ]
  },
  {
   "cell_type": "markdown",
   "metadata": {},
   "source": [
    "## 二维矩阵模板"
   ]
  },
  {
   "cell_type": "code",
   "execution_count": 4,
   "metadata": {},
   "outputs": [],
   "source": [
    "# 模板1\n",
    "# 二维矩阵的数是从前往后，从上往下，且i行尾< i+1行头的\n",
    "# 当作一维array进行二分搜索\n",
    "def searchMatrix(matrix, target):\n",
    "    row = len(matrix)\n",
    "    columns = len(matrix[0])\n",
    "    \n",
    "    l, r = 0, row * column - 1\n",
    "    while l <= r:\n",
    "        mid = l + (r - l) // 2\n",
    "        midVal = matrix[mid // column][mid % column]  #行，列\n",
    "        if target == midVal:\n",
    "            return True\n",
    "        if target < midVal:\n",
    "            r = mid - 1\n",
    "        else:\n",
    "            l = mid + 1\n",
    "    return False"
   ]
  },
  {
   "cell_type": "code",
   "execution_count": null,
   "metadata": {},
   "outputs": [],
   "source": [
    "# 模板2\n",
    "# 二维矩阵的数是从前往后，从上往下，且每行都是独立增长的\n",
    "# 进行对角线搜索 diagonal search： 从左上到右下遍历i，然后对i的行和列进行二分搜索\n",
    "class Matrix\n",
    "    def searchMatrix(self, matrix, target):\n",
    "        # corner case\n",
    "\n",
    "        for i in range(min(len(matrix), len(matrix[0]))):\n",
    "            r = self.binarySearch(i, matrix, target, 1)  # 1 represent search the row\n",
    "            c = self.binarySearch(i, matrix, target, 0)\n",
    "            if r or c:\n",
    "                return True\n",
    "        return False\n",
    "    \n",
    "    def binarySearch(self, i, matrix, target, tag):  # return True if having target\n",
    "        m = len(matrix)\n",
    "        n = len(matrix[0])\n",
    "        \n",
    "        \n",
    "        l = i\n",
    "        if tag == 1:\n",
    "            r = n - 1  # 别忘记 - 1\n",
    "        else:\n",
    "            r = m - 1\n",
    "        \n",
    "        \n",
    "        while l <= r:\n",
    "            mid  = l + (r - l) // 2\n",
    "            if tag == 1:\n",
    "                midVal = matrix[i][mid]\n",
    "            else:\n",
    "                midVal = matrix[mid][i]\n",
    "            if midVal == target:\n",
    "                return True\n",
    "            elif midVal < target:\n",
    "                l = mid + 1\n",
    "            else:\n",
    "                r = mid - 1\n",
    "        return False"
   ]
  },
  {
   "cell_type": "markdown",
   "metadata": {},
   "source": [
    "## 做题步骤\n",
    "* 简化问题并判断是否可以用bs\n",
    "    * 标准：用sorted或部分sorted序列里，找到满足要求T的一个数i, i是output\n",
    "* 判断类型\n",
    "    * 给出T，或通过其他方式给出判别，找到T -> 类型1/2\n",
    "        * 找到：返回Target值的下标或者Bool函数\n",
    "        * 没找到：\n",
    "            * r,l分别是target的左右两边的数的序号\n",
    "            * l是target插入时应该的序号\n",
    "            * r是小于target的最大的那个数的序号\n",
    "    * 未给出T，找出具有特点的值 -> 类型3\n",
    "* 易错点：\n",
    "    * 当target在nums范围之外时\n",
    "        * r (target < nums[0]) 会小于0\n",
    "        * l(target>nums[-1]) 会大于len(nums) - 1\n",
    "        * 故此时索引nums[l]或nums[r]会报错,故需要提前判断处理一下\n",
    "    * 判断条件要想清楚再写"
   ]
  },
  {
   "cell_type": "markdown",
   "metadata": {},
   "source": [
    "## 题目汇总"
   ]
  },
  {
   "cell_type": "markdown",
   "metadata": {},
   "source": [
    "* Method: binary search + 本binary sort的思想\n",
    "    1. corner case\n",
    "    2. binary search\n",
    "        a.step1\n",
    "        b.step2\n",
    "        c....\n",
    "* 旋转的排序数列\n",
    "    * 结构特点：两个上升序列并列\n",
    "    * 核心：在sorted的部分进行二分查找\n",
    "    * 无重复寻找T  33. Search in Rotated Sorted Array.py \n",
    "        * 左右哪一段sorted，判断target是否在该sorted段中,缩小l/r\n",
    "    * 有重复寻找T  81. Search in Rotated Sorted Array II.py \n",
    "        * 左右哪一段sorted及改段是否头尾数相同，若sorted，如无重复情况；若头尾相同，l += 1,继续寻找sorted段\n",
    "        * time: worst O(N),出现[1,1,1...]情况 \n",
    "    * 无重复找最小值 **(类型3)**  153. Find Minimum in Rotated Sorted Array.py\n",
    "        * 按照趋势找最小值，左半段是否有序都无法缩小范围，故用右半段缩小范围，并且目标值可能就在边界上\n",
    "* 求峰值  **(类型3)**\n",
    "    * 结构特点：上升序列+下降序列\n",
    "    * 核心：答案在nums[i]>nums[i+1]处\n",
    "    * 单峰值找峰值  852. Peak Index in a Mountain Array.py\n",
    "        * 判断nums[i]>nums[i+1]，移动l/r, 返回nums[l],nums[r]最大的序号\n",
    "    * 多峰值找峰值  162. Find Peak Element.py\n",
    "        * 与上题完全相同\n",
    "* 二维矩阵\n",
    "    * 单调递增矩阵找T  74. Search a 2D Matrix.py\n",
    "        * 二维矩阵模板1，当作行来处理\n",
    "    * 每行递增，每列递增矩阵找T  240. Search a 2D Matrix II.py\n",
    "        * 二维矩阵模板2，对角线遍历，二分搜索\n",
    "        * space search reduction tO(m + n)\n",
    "* 平方与根\n",
    "    * 判断T是否是完美平方数  367. Valid Perfect Square.py\n",
    "        * r从half + 1开始\n",
    "    * 求数T的平方根，若不为整数，取整数部分  69. Sqrt(x).py\n",
    "        * 法1：r从half + 1开始，若根不存在，返回r\n",
    "        * 法2：return int(x**(0.5)) \n",
    "* 求T的index\n",
    "    * 求不重复T的index\n",
    "        * 求T的index，若不存在，返回该插入的index  35. Search Insert Position.py\n",
    "            * 存在返回mid，不存在返回l\n",
    "        * 求一个无限大的arr中，求T的index，若不存在返回-1  447 Search in a Big Sorted Array （LintCode）.py\n",
    "            * 先倍增到比T大的数x，再在[0,x-1]中找T\n",
    "    * 求重复T的index\n",
    "        * 求重复数的尾index，若无返回-1  458. Last Position of Target (Lintcode).py\n",
    "            * 返回r, 后if nums[r] = T,则返回r,否则返回-1\n",
    "        * 求重复数的首尾index，若无返回-1  34. Find First and Last Position of Element in Sorted Array.py\n",
    "            * 方法1：判断T是否超范围 + 两个不同的find函数的返回r,l，判断nums[r/l] == T\n",
    "            * 方法2：两个不同的find函数的返回r,l\n",
    "                * 对head，先判断l是否超len(nums) - 1(T大于all nums的情况)，再判断nums[r/l] == T(target在nums存在)，-1(不存在，及target大于nums的情况)\n",
    "                * 对end同理\n",
    "* 求T附近值\n",
    "    * 求离T最近的值\n",
    "        * 求T，若T不存在，求最近且最小的  拉面题\n",
    "            * 判断T是否超范围 + 类型1 + 若不存在，比较r和l谁离T近\n",
    "        * 求T index，若T不存在，求最近的index\n",
    "            * 存在返回index，不存在比较r和l进行返回\n",
    "    * 求离T最近的K个值的index\n",
    "        * 改变r为len(arr) - k - 1;\n",
    "        * 把x看成mid和mid + k的中点，要使得左半边x->arr[mid]比右半边arr[mid+k]->x更小，故进行比较\n",
    "        * 若arr[mid] + arr[mid + k] < 2x 说明arr[mid]区域在x的左边，要前进左边界，故l = mi + 1\n",
    "        * 在相等时，继续缩小右边界;最后返回找到的l值，得到arr[l:l + k]\n",
    "        * Time complexity: O(log(N-K)) binary search + O(K) for res slice\n",
    "    * 求比T大的最小值,若无，则返回letter初值  744. Find Smallest Letter Greater Than Target.py\n",
    "        * 若l在范围内，返回l；否则返回letters初值  \n",
    "* 求arr中和是target的两个数的序号  167. Two Sum II - Input array is sorted.py\n",
    "    * 遍历arr中的i，在[i+1:]中对差值（T-nums[i]）进行二分搜索\n",
    "        * time：O(log(n-1) + log(n-2)+...) = log((n-1)!) < nlogn\n",
    "* 猜数是高还是低\n",
    "    * 由API[mid]的返回值决定边界的范围\n",
    "    * 易错点：API的返回的是计算机值与我值比较的大小关系\n",
    "* 求哪个开始坏了，假设一定有坏的，isBadVersion(mid)作为判断条件  278. First Bad Version.py\n",
    "    * 返回l\n",
    "* 每层递增1，求几次可以到达n  441. Arranging Coins.py\n",
    "    * 设i次后，(1+i)\\*i/2(T)到达或超过n\n",
    "    * 存在返回i，不存在返回r (若不存在，则找到答案是假设是2.5，那么r = 2,l =3,故返回2)"
   ]
  },
  {
   "cell_type": "code",
   "execution_count": null,
   "metadata": {},
   "outputs": [],
   "source": []
  }
 ],
 "metadata": {
  "kernelspec": {
   "display_name": "Python 3",
   "language": "python",
   "name": "python3"
  },
  "language_info": {
   "codemirror_mode": {
    "name": "ipython",
    "version": 3
   },
   "file_extension": ".py",
   "mimetype": "text/x-python",
   "name": "python",
   "nbconvert_exporter": "python",
   "pygments_lexer": "ipython3",
   "version": "3.7.5"
  },
  "toc": {
   "base_numbering": 1,
   "nav_menu": {},
   "number_sections": true,
   "sideBar": true,
   "skip_h1_title": false,
   "title_cell": "Table of Contents",
   "title_sidebar": "Contents",
   "toc_cell": false,
   "toc_position": {},
   "toc_section_display": true,
   "toc_window_display": true
  }
 },
 "nbformat": 4,
 "nbformat_minor": 2
}
