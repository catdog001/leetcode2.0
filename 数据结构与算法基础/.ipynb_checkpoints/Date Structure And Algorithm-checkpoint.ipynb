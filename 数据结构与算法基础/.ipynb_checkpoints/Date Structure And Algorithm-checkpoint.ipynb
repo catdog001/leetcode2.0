{
 "cells": [
  {
   "cell_type": "markdown",
   "metadata": {},
   "source": [
    "# 备考要求\n",
    "* 熟练掌握每种题型对应的brute force和常用方法\n",
    "* 针对leetcode，想清楚某系列题目之间的相关关系，I和II之间区别与联系\n",
    "* 某些特殊方法的数学证明要熟悉\n",
    "* 更多关注“基本”问题而不是超级难题。\n",
    "    * easy 和 median题目\n",
    "* 练习时要特别注意编程。 为每个问题写下可靠的代码并跟踪时间。！！！"
   ]
  },
  {
   "cell_type": "markdown",
   "metadata": {},
   "source": [
    "# 数据结构基础\n",
    "* 打印加入（[UTF8]{ctex}）\n",
    "* 选用LuaLatex"
   ]
  },
  {
   "cell_type": "markdown",
   "metadata": {
    "pycharm": {
     "name": "#%% md\n"
    }
   },
   "source": [
    "\n",
    "## List/Stack 列表/栈"
   ]
  },
  {
   "cell_type": "markdown",
   "metadata": {},
   "source": [
    "### 定义\n",
    "* Stores data elements based on an sequential, most commonly 0 based, index. \n",
    "* Based on tuples from set theory. （元组 + 可变的集合 -> 可变的元组）。\n",
    "* They are one of the oldest, most commonly used data structures. "
   ]
  },
  {
   "cell_type": "markdown",
   "metadata": {},
   "source": [
    "### 常用操作及复杂度\n",
    "* 增 \n",
    "    * list.append(obj) O(1)\n",
    "    * list.extend(seq) O(len(seq)) 用新列表扩展原来的列表\n",
    "        * = listA + listB  O(len(listB)) 用B扩展A\n",
    "    * list.insert(**index, obj**) O(index)\n",
    "* 删 \n",
    "    * b = list.pop()  O(1)\n",
    "    * b = list.pop(i) O(N), O(N-i): list.pop(0):O(N) \n",
    "        * = del list[i]/del list, O(N) depends on i; O(N) in worst case i都为0开始的正序，但pop有返回值，del没有返回值\n",
    "    * list.remove(obj) O(N) 移除列表中某个值的第一个匹配项\n",
    "    * **list.clear() O(1)** 清空列表\n",
    "* 改 \n",
    "    * list[i] = newValue O(1)\n",
    "* 查\n",
    "    * list[i] O(1)\n",
    "    * list[a:b] O(b-a)\n",
    "    * list.index(obj) O(N) 从列表中找出某个值第一个匹配项的索引位置 \n",
    "* 排\n",
    "    * list.sort( key=None, **reverse=False**) O(NlogN)\n",
    "    * list.reverse() O(N) 反向列表中元素\n",
    "    * a = list[::-1] O(N) 反向输出\n",
    "* 其他\n",
    "    * 计数 list.count(obj) O(N) 统计某个元素在列表中出现的次数\n",
    "    * 长度 len(list) **O(1)**\n",
    "    * 构造 list(string or ...) O(len(,,,))\n",
    "    * 判断 check ==, != O(N)\n",
    "    * 包含 x in/not in list O(N)\n",
    "    * 复制 list.copy() O(N) Same as l[:] which is O(N)\n",
    "    * 极值 max(list) / min(list) O(N)\n",
    "    * 迭代 for v in l:  O(N) \n",
    "    * 乘 k * list O(k N), 5 * l is O(N): len(l) * l is O(N**2)\n",
    "    * from copy import copy, deepcopy  \n",
    "     a = copy(A) O(N) 浅复制 \n",
    "     a = deepcopy(A) O(N)  深复制  \n",
    "* 总结：需要对list中每一个元素都需要进行的操作是O(N)"
   ]
  },
  {
   "cell_type": "markdown",
   "metadata": {},
   "source": [
    "### 优缺点和适用情况\n",
    "* 针对每个 DS 和算法，应该问自己：有什么优缺点？我什么时候可以使用它？\n",
    "* 优点: \n",
    "    * append(obj), pop() 作为stack， 从尾部存储和弹出单个变量\n",
    "    * list[i] = newValue, list[i] 作为存储结构，修改里面的元素和索引里面的元素\n",
    "    * len(i) 求一段长度，也等于 j-i + 1\n",
    "    * list.sort() 排序速度很快了\n",
    "* 缺点: \n",
    "    * index(obj) O(N) 不适合查找值为obj的变量\n",
    "    * insert(index, obj)不适合插入增加值\n",
    "    * pop(i)/del list(i) 不适合选择删除\n",
    "* 其他适用情况：\n",
    "    * 构造最基本结构：线性数组 Linear data structures, are the most basic. .\n",
    "        * Stack 栈 - 简单的，按照输入顺序存储数据。\n",
    "    * 构造非线性数据结构 Non-linear data structures.\n",
    "        * Graphs 图 [[1,2], [3, 4]]\n",
    "        * Trees  树 中序遍历 [1,[2,4,5],3]"
   ]
  },
  {
   "cell_type": "markdown",
   "metadata": {},
   "source": [
    "### 常用技巧和算法"
   ]
  },
  {
   "cell_type": "markdown",
   "metadata": {},
   "source": [
    "#### 技巧和算法"
   ]
  },
  {
   "cell_type": "markdown",
   "metadata": {},
   "source": [
    "* Prefix method 前缀和"
   ]
  },
  {
   "cell_type": "markdown",
   "metadata": {},
   "source": [
    "#### 注意要点"
   ]
  },
  {
   "cell_type": "markdown",
   "metadata": {},
   "source": [
    "* 可以从栈优化的情况：\n",
    "    * 求最大/最小长度时，可以直接比较记录max/min"
   ]
  },
  {
   "cell_type": "markdown",
   "metadata": {},
   "source": [
    "## Tuple 元组"
   ]
  },
  {
   "cell_type": "markdown",
   "metadata": {},
   "source": [
    "### 定义\n",
    "* 不可变的list, immutable\n",
    "* t = (1, 2, 3, 4, 5)"
   ]
  },
  {
   "cell_type": "markdown",
   "metadata": {},
   "source": [
    "### 常用操作及复杂度\n",
    "* 增\n",
    "    * t1 + t2 O(len(t2))\n",
    "* 删\n",
    "    * del t 删除整个tuple O(1)\n",
    "* 改 - None\n",
    "* 查\n",
    "    * t[i] O(1)\n",
    "    * t[a:b] O(b-a)\n",
    "    * t.index[obj] O(N)\n",
    "* 排 - None\n",
    "* 其他\n",
    "    * 计数 l.count(obj) O(N)\n",
    "    * 长度 len(t) O(1)\n",
    "    * 构造 tuple(seq) O(N)\n",
    "    * 判断 ==, != O(N)\n",
    "    * 包含 a in/not in t O(N)\n",
    "    * 极值 max/min(t) O(N)\n",
    "    * 迭代 for a in t O(N)\n",
    "    * 乘 k * t O(kN)\n",
    "    * from copy import copy, deepcopy  \n",
    "     a = copy(A) O(N) 浅复制 \n",
    "     a = deepcopy(A) O(N)  深复制 \n",
    "    \n"
   ]
  },
  {
   "cell_type": "markdown",
   "metadata": {},
   "source": [
    "### 优缺点和适用情况\n",
    "* 针对每个 DS 和算法，应该问自己：有什么优缺点？我什么时候可以使用它？\n",
    "* 优点\n",
    "    * t不可变性\n",
    "        * 作为dic的key\n",
    "        * 不可改变的存储结构， 用于性能优化，多线程安全，不需要锁，不担心被恶意修改或者不小心修改。\n",
    "    * t[i] 作为存储结构，索引里面的元素\n",
    "    * len(i) 求一段长度，也等于 j-i + 1\n",
    "* 缺点\n",
    "    * index(obj) O(N) 不适合查找值为obj的变量\n",
    "* 其他适用情况 - 无"
   ]
  },
  {
   "cell_type": "markdown",
   "metadata": {
    "pycharm": {
     "name": "#%% md\n"
    }
   },
   "source": [
    "## Linked list"
   ]
  },
  {
   "cell_type": "markdown",
   "metadata": {},
   "source": [
    "### 定义\n",
    "* Stores data with nodes that point to other nodes. 用节点储存数据并指向其他节点\n",
    "    * 节点的描述：Nodes, at its most basic it has one datum and one reference (another node) 在最基础的情况下，节点拥有一个数据和一个参考（其他节点）\n",
    "    * 链表的描述：A linked list chains nodes together by pointing one node's reference to another. 节点通过指向另一个节点从而使链表连接在一起\n",
    "    * Doubly linked list has nodes that also references the previous node. 双向链表有两个参考，一个是之前的node，一个是之后的node\n",
    "    * Circularly linked list is simple linked list whose tail, the last node, references the head, the first node. 成环链表是由简单的链表首末相连组成"
   ]
  },
  {
   "cell_type": "markdown",
   "metadata": {},
   "source": [
    "### 常用操作及复杂度\n",
    "* 增\n",
    "    * node.next = b O(1) 头/尾增加\n",
    "* 删\n",
    "    * node.next = None O(1) 头/尾删除\n",
    "* 改\n",
    "    * node.val = obj O(1) 头/尾修改值\n",
    "* 查\n",
    "    * while node.val = obj: node = node.next  O(N)\n",
    "* 排\n",
    "    * merge sort: O(NlogN)\n",
    "    * store in list, then list.sort(), then transfer as linkedlist： O(NlogN)"
   ]
  },
  {
   "cell_type": "markdown",
   "metadata": {},
   "source": [
    "### 优缺点及适用情况 \n",
    "* 优点\n",
    "    * 增、删：从头部或者尾部增加或删除node\n",
    "        * 可以实现stack栈和Queue队列\n",
    "    * 修改值 node.val = obj\n",
    "* 缺点\n",
    "    * 查,需要遍历 O(N) \n",
    "* 其他适用情况 - 无"
   ]
  },
  {
   "cell_type": "markdown",
   "metadata": {},
   "source": [
    "### 题目总结"
   ]
  },
  {
   "cell_type": "markdown",
   "metadata": {},
   "source": [
    "#### 技巧和算法"
   ]
  },
  {
   "cell_type": "markdown",
   "metadata": {},
   "source": [
    "* 建立dummy = cur = head\n",
    "    * 原因：head可能为处理对象\n",
    "    * 优点\n",
    "        * 不影响head的判断，可以直接跳过head\n",
    "* two pointer method\n",
    "    * 优点\n",
    "        * 前后段对比\n",
    "        * 判断相邻前后点\n",
    "            * 相互是否数值重复\n",
    "            * 与其他值的大小关系/重复关系\n",
    "        * 返回两个链表的head\n",
    "     * 缺点：\n",
    "        * 容易搞混\n",
    "* slow-fast pointer\n",
    "    * 原因：无法得知长度\n",
    "    * 优点\n",
    "        * 寻找中点\n",
    "        * 寻找负nth点 + dummy, 注意while f.next\n",
    "        * 判断/寻找环\n",
    "     * 缺点/困难点\n",
    "         * 处理奇偶数\n",
    "             * 会跳到奇数重点或偶数下半段起点\n",
    "             * while需要添加f.next的判断，防止跳过了\n",
    "* 转list/set/dic/数字\n",
    "    * 转成list，利用list的性质，对元素进行操作\n",
    "        * 优点：方便，简单\n",
    "        * 缺点：\n",
    "            * 占据空间，空间复杂度为O(N)\n",
    "            * a in list，时间复杂度为O(N)\n",
    "    * 转成set\n",
    "        * 优点：a in set，时间复杂度为O(N)\n",
    "        * 缺点：set.add()，之后set里元素顺序并不是添加顺序\n",
    "    * 转成dic\n",
    "        * 优点：\n",
    "            * a in dic，时间复杂度为O(N)\n",
    "            * 记录node出现次数\n",
    "            * 记录复杂链表的对应关系\n",
    "        * 缺点\n",
    "            * 无切片等操作\n",
    "     * 转成数字\n",
    "         * 优点：算数运算方便\n",
    "         * 缺点：链表和数字相互转换，时间复杂度为O(N)\n",
    "* 转置法\n",
    "    * 优点\n",
    "        * 利于加和\n",
    "        * 利于回文判断\n",
    "        * 利于交叉合并\n",
    "    * 缺点\n",
    "        * head位置容易乱"
   ]
  },
  {
   "cell_type": "markdown",
   "metadata": {},
   "source": [
    "#### 注意要点"
   ]
  },
  {
   "cell_type": "markdown",
   "metadata": {},
   "source": [
    "* while遍历链表：首要记住！head = head.next不要漏了\n",
    "* 切割链表：记着首先备份上一段的结尾节点，while head: **before_tail = head**, head = head.next"
   ]
  },
  {
   "cell_type": "markdown",
   "metadata": {},
   "source": [
    "### 题目类型\n",
    "* 合并与插入\n",
    "    * 链表值相加\n",
    "        * 两链表值相加 2.Add Two Numbers.py\n",
    "            * 转数字,相加\n",
    "            * 直接迭代相加 while l1 or l2 or carry\n",
    "        * 加1到链表值上 369. Plus One Linked List.py\n",
    "            * 转数字,加1 sO(N)\n",
    "            * 链表转置后加1 sO(1)\n",
    "    * 合并链表\n",
    "        * 21. Merge Two Sorted Lists.py\n",
    "            * 转list 合并 sO(N)\n",
    "            * 直接迭代合并 sO(1) while l1 and l2 + if l1 + if l2\n",
    "        * !!23. Merge k Sorted Lists.py\n",
    "            * 从前到后顺序合并 tO(Nk),sO(1)\n",
    "            * 转list,合并 tO(NlogN),N是总node数,sO(N)\n",
    "            * mergeSort tO(Nlogk),s(N)\n",
    "            * 自下而上mergeSort tO(Nlogk),s(1)\n",
    "            * 堆？\n",
    "* 复制\n",
    "    * !复杂链表的复制 138. Copy List with Random Pointer.py\n",
    "        * 先遍历旧链，复制next，同时dic存新旧node地址关系；再遍历旧链，若node有random，则根据dic建立新链的random sO(N)\n",
    "        * 插空复制旧链，再建立next和random，最后分离旧新链 sO(N)，但是减少了dic的使用\n",
    "            * 易错点：建立random和分离时，别忘了head = head.next\n",
    "* 删除\n",
    "    * !删除指定-值-节点 203. Remove Linked List Elements.py\n",
    "        * 转list，遇到指定值删除 sO(N)\n",
    "        * 判断next，跳或不跳 sO(1)\n",
    "        * two pointer + before_head sO(1)\n",
    "    * 删除指定节点\n",
    "        * !删除倒数第n个节点 19. Remove Nth Node From End of List.py\n",
    "            * 转list后，del list[-N] sO(N)\n",
    "            * 转置法，head到n，删除n，再转置 sO(1)\n",
    "            * slow-fast法，建立dummy，间隔n个，head到负n+1，再删除n sO(1)\n",
    "        * 直接指向要删除的节点，无返回 237. Delete Node in a Linked List.py\n",
    "            * 下个节点值赋给本节点，next跳到下下个节点 tO(1)\n",
    "    * 删除重复节点\n",
    "        * 保留本值 83. Remove Duplicates from Sorted List.py\n",
    "            * 转list/dic，如已存在，跳过 tO(N^2/N) sO(N)\n",
    "            * two pointer sO(1)\n",
    "        * !不保留本值 82. Remove Duplicates from Sorted List II.py\n",
    "            * 转list，如已存在，记录并跳过，遇新值时，pop记录值再添加 sO(N)\n",
    "            * 转dic，取value为1的构建 sO(N)\n",
    "            * two pointer + before_head sO(1)\n",
    "* 排列与拆分\n",
    "    * 排序\n",
    "        * ！！插入排序 147. Insertion Sort List.py\n",
    "            * 转list tO(N2) sO(N)\n",
    "            * insertion sort tO(N2) sO(N)\n",
    "        * ！！O(NlogN)排序 148. Sort List (linked list).py\n",
    "            * 转list，sort tO(NlogN) sO(N)\n",
    "            * merge sort tO(NlogN) sO(N)\n",
    "            * 自下而上merge sort sO(1)\n",
    "                1. 用while head 替换 for\n",
    "                2. 每轮 merge之前，每次更新fake_tail和head\n",
    "                3. 每轮 merge中，先cut，后merge，再链接merged linklist，最后更新fake_tail和head\n",
    "    * 旋转\n",
    "        * 后面k位调到前面,保持原顺序(k会大于length) 61. Rotate List.py\n",
    "            * k处理，转list,切片重构 sO(N)\n",
    "            * k处理，two pointer cut，重构 sO(1)\n",
    "    * 全转置\n",
    "        * 206. Reverse Linked List.py\n",
    "            * 转list，list.reverse() tO(N) sO(N)\n",
    "            * 转置法 sO(1)\n",
    "    * 部分转置\n",
    "        * 两两转置 24. Swap Nodes in Pairs.py\n",
    "            * 转list，for interval =2交换值 sO(N)\n",
    "            * 转置法，转置2次，分模块化 sO(1)\n",
    "        * ！!kk个转置 25. Reverse Nodes in k-Group.py\n",
    "            * 转list, for 切片,reverse() sO(N)\n",
    "            * 转置法，转置k次，分模块化，sO(1)\n",
    "        * 转置m到n一部分 92. Reverse Linked List II.py\n",
    "            * 转list，切片，reverse()，赋回原来 sO(N)\n",
    "            * 转置法，转置n-m+1次，sO(1)\n",
    "        * ！后部转置并交叉入前部中 143. Reorder List.py\n",
    "            * 转list，两个list交叉合并， sO(N)\n",
    "            * 转置法，后部转置，与前半部合并 sO(1)\n",
    "        \n",
    "    * 重构\n",
    "        * 小于x+大于x，保持稳定 86. Partition List.py\n",
    "            * 转list，两个list，再extend sO(N)\n",
    "            * two pointer sO(1)\n",
    "        * !奇数位偶数位拆分 328. Odd Even Linked List.py\n",
    "            * 转list，两个list，再extend sO(N)\n",
    "            * two pointer sO(1)\n",
    "    * 拆分\n",
    "        * !k组分割，组差最多为1 725. Split Linked List in Parts.py\n",
    "            * 转list，求node数，求每组数，拆分 sO(N)\n",
    "            * two pointer,求node数，求每组数，拆分 sO(1)\n",
    "* 环\n",
    "    * 判断有环 141. Linked List Cycle.py\n",
    "        * 转set/list，存入node sO(N)\n",
    "        * s-f pointer sO(1)\n",
    "    * 判断+输出环交点 142. Linked List Cycle II.py\n",
    "       * 转set/list,存入node sO(N)\n",
    "       * s-f pointer，找相交，再从起始和相交处开始同时跑 sO(1)\n",
    "    * ! 环链表中插入节点 708. Insert into a Cyclic Sorted List.py\n",
    "        * 转list，记录头位置，append，sort(),再重建 tO(NlogN) sO(N)\n",
    "        * 转list，判断节点位置，四种情况：== head ,< x <, > x <, < x > tO(N),sO(N)\n",
    "        * 转list，记录头位置，二分法插入，再重建 tO(logN) sO(N)\n",
    "        * two pointer, 四种情况 tO(N) sO(1)\n",
    "* 判断结构\n",
    "    * 是否回文 234. Palindrome Linked List.py\n",
    "        * 转list，list[i]与list[-(i+1)]对比 sO(N)\n",
    "        * s-f pointer,two pointer, 转置前面的，再与后面的对比,注意长度奇偶 sO(1)\n",
    "* 判断两链表\n",
    "    * ! list的subsequence是否是链表里的subset, 返回数量 817. Linked List Components.py\n",
    "        * two pointer 遍历链表，node in list tO(N^2)\n",
    "        * two pinter list转set, 遍历链表，node in set tO(N)\n",
    "    * 两链表找出交点 160. Intersection of Two Linked Lists.py\n",
    "        * 转set/list，转一个，遍历另一个进行对比判断 tO(max(len(a,b))) sO(max(len(a,b))) \n",
    "        * 求长度，head到公共长度部分，同时递进，判断nod3 tO(max(len(a,b))) sO(1)"
   ]
  },
  {
   "cell_type": "markdown",
   "metadata": {
    "pycharm": {
     "name": "#%% md\n"
    }
   },
   "source": [
    "## Stack, Queue and Heap queue(priority queue) 栈，队列，堆"
   ]
  },
  {
   "cell_type": "markdown",
   "metadata": {
    "pycharm": {
     "name": "#%% md\n"
    }
   },
   "source": [
    "### Stack 栈\n",
    "#### 定义\n",
    "* Last-In-First-Out (LIFO) concept \n",
    "* append() / pop() \n",
    "* can be made from **list**\n",
    "* can be made from **linklist**, by having the head be the only place for insertion and removal. 可用链表构成,插入：建立新节点，连接到头节点；移除：移除头节点，返回下一个\n",
    "    * 参见 <链表实现stack和Queue>"
   ]
  },
  {
   "cell_type": "markdown",
   "metadata": {},
   "source": [
    "#### 常用操作及复杂度\n",
    "* 同List 列表"
   ]
  },
  {
   "cell_type": "markdown",
   "metadata": {},
   "source": [
    "#### 优缺点和适用情况"
   ]
  },
  {
   "cell_type": "markdown",
   "metadata": {},
   "source": [
    "#### 常用技巧和算法"
   ]
  },
  {
   "cell_type": "code",
   "execution_count": null,
   "metadata": {},
   "outputs": [],
   "source": []
  },
  {
   "cell_type": "markdown",
   "metadata": {},
   "source": [
    "#### "
   ]
  },
  {
   "cell_type": "markdown",
   "metadata": {},
   "source": [
    "### Queue 队列 \n",
    "* First-In-First-Out (FIFO) principle \n",
    "* Lists are not efficient to implement a queue 列表不能有效的执行队列\n",
    "    * 故调用容器-双端队列deque(double-end-queue) \n",
    "    * from collections import deque d = deque(iterable) (\"deck\")，If iterable is not specified, the new deque is empty.\n",
    "    * append(x) / appendleft(x) / pop() / popleft() / extend(iterable) / extendleft(iterable) O(1) 双向append or pop, O(1)\n",
    "* can be made from **linklist** that only removes from head and adds to tail 也可用链表构成, 从头部移除，从尾部添加\n",
    "    * 参见 <链表实现stack和Queue>\n",
    "\n",
    "### Heap queue 堆 \n",
    "* 最小值在堆顶   "
   ]
  },
  {
   "cell_type": "markdown",
   "metadata": {
    "pycharm": {
     "name": "#%% md\n"
    }
   },
   "source": [
    "### 基本函数"
   ]
  },
  {
   "cell_type": "code",
   "execution_count": 2,
   "metadata": {
    "ExecuteTime": {
     "end_time": "2019-12-26T06:10:12.906000Z",
     "start_time": "2019-12-26T06:10:12.887000Z"
    },
    "pycharm": {
     "name": "#%%\n"
    }
   },
   "outputs": [
    {
     "name": "stdout",
     "output_type": "stream",
     "text": [
      "deque([3, 4, 4, 'c', 'e', 4, 4, 3])\n",
      "deque([3, 3, 4, 4, 'c', 'e', 4, 4])\n"
     ]
    }
   ],
   "source": [
    "# Queue (deque) 队列\n",
    "from collections import deque\n",
    "B = 'desk'  # iterable\n",
    "d = deque(B) # 转化B为队列d\n",
    "d = deque()  # 建立新队列d\n",
    "d.append('c')\n",
    "d.appendleft('e')  # 'edeskc'\n",
    "d.extend(a)\n",
    "d.extendleft(a)  # 扩展最左边\n",
    "x = d.pop() # 注意！没有i参数（list有i参数）\n",
    "d.popleft() #删除最左边的，即先“进”的，无(i)\n",
    "d.reverse() # 转置\n",
    "print(d)\n",
    "d.rotate(1) # 向右循环移动 n 步。 如果 n 是负数，就向左循环。e.g把倒数第1个调换到前面\n",
    "print(d)"
   ]
  },
  {
   "cell_type": "code",
   "execution_count": 3,
   "metadata": {
    "ExecuteTime": {
     "end_time": "2019-12-26T06:10:12.926000Z",
     "start_time": "2019-12-26T06:10:12.907000Z"
    },
    "pycharm": {
     "name": "#%%\n"
    }
   },
   "outputs": [
    {
     "data": {
      "text/plain": [
       "[3, 4]"
      ]
     },
     "execution_count": 3,
     "metadata": {},
     "output_type": "execute_result"
    }
   ],
   "source": [
    "# Heap queue 堆\n",
    "from heapq import heapify, heappop, heappush, heappushpop, heapreplace, nlargest, nsmallest\n",
    "# 创建一个堆，可以使用list来初始化为 []\n",
    "C = []  # 建立新heapq\n",
    "# 创建一个堆或者可以通过一个函数 heapify() ，来把一个list转换成堆\n",
    "C = [2, 3, 4]\n",
    "heapify(C)  # 转化C为堆，原地，线性时间内\n",
    "heappush(C, 2)  # 添加2,注意！只能添加值！不能添加list等数据结构，下面的删除也是这样!\n",
    "x = heappop(C)\n",
    "heappushpop(C, 2)  # 先添加，再删除顶端的\n",
    "heapreplace(C, 5)  # 先删除顶端的，再添加\n",
    "nlargest(2, C)  # nlargest(n, iterable, key=None) 返回前n个符合k条件的最大值（e.g. k = lambda x: x[0]）  = sorted(iterable, key=key, reverse=True)[:n]\n",
    "nsmallest(2, C)  # nsmallest(n, iterable, key=None) 返回前n个最小值 = sorted(iterable, key=key, reverse= False)[:n]"
   ]
  },
  {
   "cell_type": "markdown",
   "metadata": {},
   "source": [
    "### 经典应用"
   ]
  },
  {
   "cell_type": "markdown",
   "metadata": {
    "pycharm": {
     "name": "#%% md\n"
    }
   },
   "source": [
    "## Hash Table"
   ]
  },
  {
   "cell_type": "markdown",
   "metadata": {},
   "source": [
    "### 定义\n",
    "* 结构：Stores data with **key value pairs**.\n",
    "* 功能：Hash function accept a key and return an output unique only to that specific key\n",
    "    * This is known as hashing, which is the concept that an input and an output have **a one-to-one correspondence** to map information.\n",
    "    * Hash function has **a unique address** in memory for that data."
   ]
  },
  {
   "cell_type": "markdown",
   "metadata": {},
   "source": [
    "### 重点\n",
    "* 优势: 插入，删除，搜索 insertion, deletion, and searching\n",
    "* Hash collisions(哈希冲突) are when a hash function returns the **same output** for **two distinct inputs**.\n",
    "    * All hash function have its problem\n",
    "    * This is often accommodated(解决) for **having the hash table being very large**\n",
    "* Hashes are important for **dictionary** and **database indexing**."
   ]
  },
  {
   "cell_type": "markdown",
   "metadata": {},
   "source": [
    "### 增删改查排及空间复杂度\n",
    "* Store：O(1) d[k] = v\n",
    "* Pop: O(1) **d.pop(k)** 删除key对应的pair，并返回value\n",
    "* Pop item: O(1) **d.popitem()** 删除并返回最后一个pair\n",
    "* Delete: O(1) del d[k]\n",
    "* Search: O(1) d[k]"
   ]
  },
  {
   "cell_type": "markdown",
   "metadata": {},
   "source": [
    "### 应用\n",
    "* 查找某一value对应的key\n",
    "    * for k, v in dic.items(): if v == a: return k"
   ]
  },
  {
   "cell_type": "markdown",
   "metadata": {},
   "source": [
    "#### hash() 函数"
   ]
  },
  {
   "cell_type": "markdown",
   "metadata": {},
   "source": [
    "#### 应用总结"
   ]
  },
  {
   "cell_type": "markdown",
   "metadata": {},
   "source": [
    "## string 字符串"
   ]
  },
  {
   "cell_type": "markdown",
   "metadata": {},
   "source": [
    "### 定义\n",
    "* subsequence 可以不连续且有序的子序列 / substring 连续但有序的子序列 / the length of the longest palindromes that can be built with those letters 可以不连续，可以无序的子序列"
   ]
  },
  {
   "cell_type": "markdown",
   "metadata": {},
   "source": [
    "### 常用操作\n",
    "* 提取性质\n",
    "    * 计数 string.count()\n",
    "* 修改操作\n",
    "    * 转置\n",
    "        * str = str[::-1]\n",
    "* 增减操作\n",
    "    * 前部填充0 str.zfill(width) \n",
    "        * 返回指定长度的字符串，原字符串右对齐，前面填充0 \n",
    "        * 用于位运算填充bin()结果前面的0\n",
    "    * 删除末尾字符chars str = str.rstrip([chars]). 默认是空格"
   ]
  },
  {
   "cell_type": "markdown",
   "metadata": {},
   "source": [
    "### 常用技巧和算法"
   ]
  },
  {
   "cell_type": "markdown",
   "metadata": {},
   "source": [
    "#### 注意要点\n",
    "* string不支持s[i] = 's'的替换操作\n",
    "* string操作时,如果数据再用,需要及时等于返回值, 因为原始值是不变的\n",
    "    * tmp = tmp.rstrip() "
   ]
  },
  {
   "cell_type": "markdown",
   "metadata": {},
   "source": [
    "## Tree 树 "
   ]
  },
  {
   "cell_type": "markdown",
   "metadata": {},
   "source": [
    "### Binary Tree 二叉树"
   ]
  },
  {
   "cell_type": "markdown",
   "metadata": {},
   "source": [
    "#### 定义\n",
    "* 一个像树一样的数据结构，其中每个节点最多有两个孩子 a tree like data structure where every node has at most two children\n",
    " * 有左右子节点 There is one left and right child node"
   ]
  },
  {
   "cell_type": "markdown",
   "metadata": {},
   "source": [
    "#### 重点\n",
    "* 旨在优化搜索和排序 Designed to optimize searching and sorting\n",
    "* 简并树是母节点只有一个子节点的树，如果完全单侧，则就是链表。A **degenerate tree** is an unbalanced tree, which if entirely one-sided is essentially a linked list. \n",
    "* 它们比其他数据结构更容易实现。They are comparably simple to implement than other data structure.\n",
    "* 二叉搜索树 **binary search tree**\n",
    "    * 使用可比较键来指定孩子的方向。Uses comparable keys to assign which direction a child is. \n",
    "    * 左子节点的键小于其父节点 Left child has a key smaller than its parent node.\n",
    "    * 右子项的键大于其父节点 Right child has a key greater than its parent node.\n",
    "    * 不能有重复的节点 There can be no duplicate node.\n",
    "    * 由于上述原因，它比二叉树更有可能用作数据结构 Because of the above it is more likely to be used as a data stucture than a binary tree."
   ]
  },
  {
   "cell_type": "markdown",
   "metadata": {},
   "source": [
    "#### 增删改查排及空间复杂度\n",
    "* Insertion: O(logN)\n",
    "* Indexing: O(logN)\n",
    "* Search: O(logN)"
   ]
  },
  {
   "cell_type": "markdown",
   "metadata": {},
   "source": [
    "#### 平衡二叉树\n",
    "* 熟悉至少一种类型的平衡二叉树，了解实现方式\n",
    "* 红/黑树\n",
    "* 八角树\n",
    "* AVL树"
   ]
  },
  {
   "cell_type": "markdown",
   "metadata": {},
   "source": [
    "### n元树"
   ]
  },
  {
   "cell_type": "markdown",
   "metadata": {},
   "source": [
    "### tire树"
   ]
  },
  {
   "cell_type": "markdown",
   "metadata": {},
   "source": [
    "### 树遍历法\n",
    "* BFS\n",
    "* DFS\n",
    "* 有序，后序，中序的区别"
   ]
  },
  {
   "cell_type": "markdown",
   "metadata": {},
   "source": [
    "## Graph 图"
   ]
  },
  {
   "cell_type": "markdown",
   "metadata": {},
   "source": [
    "### 表示方法"
   ]
  },
  {
   "cell_type": "markdown",
   "metadata": {},
   "source": [
    "#### 对象和指针\n",
    "* 表示方法\n",
    "* 优缺点"
   ]
  },
  {
   "cell_type": "markdown",
   "metadata": {},
   "source": [
    "#### 矩阵\n",
    "* 表示方法\n",
    "* 优缺点"
   ]
  },
  {
   "cell_type": "markdown",
   "metadata": {},
   "source": [
    "#### 邻接表\n",
    "* 表示方法\n",
    "* 优缺点"
   ]
  },
  {
   "cell_type": "markdown",
   "metadata": {},
   "source": [
    "### 图遍历法\n",
    "#### DFS\n",
    "#### BFS\n",
    "#### 复杂度及时空权衡\n",
    "* 可以降低算法的时间复杂度以换取更大的空间，或减少消耗的空间以换取较慢的执行"
   ]
  },
  {
   "cell_type": "markdown",
   "metadata": {},
   "source": [
    "### 如果有机会，请尝试研究更高级的算法，例如 Dijkstra 和 A*"
   ]
  },
  {
   "cell_type": "markdown",
   "metadata": {},
   "source": [
    "### 代码实现"
   ]
  },
  {
   "cell_type": "markdown",
   "metadata": {},
   "source": [
    "### 应用\n",
    "* 搜索问题\n",
    "* 联通性问题\n",
    "* 环探测问题"
   ]
  },
  {
   "cell_type": "markdown",
   "metadata": {},
   "source": [
    "## NP完全问题"
   ]
  },
  {
   "cell_type": "markdown",
   "metadata": {},
   "source": [
    "### NP-complete的含义"
   ]
  },
  {
   "cell_type": "markdown",
   "metadata": {},
   "source": [
    "### 问题类别\n",
    "当面试官变相询问您时能够识别它们\n",
    "* 旅行推销员\n",
    "* 背包问题"
   ]
  },
  {
   "cell_type": "markdown",
   "metadata": {},
   "source": [
    "## 其他基础知识\n",
    "* 调用函数时，实参改变，形参不改变。即传入的head是不随函数里变换而变化的"
   ]
  },
  {
   "cell_type": "markdown",
   "metadata": {},
   "source": [
    "## 迭代器和生成器\n",
    "* 如何写一个迭代器或生成器\n",
    "https://www.liaoxuefeng.com/wiki/1016959663602400/1017323698112640"
   ]
  },
  {
   "cell_type": "markdown",
   "metadata": {},
   "source": [
    "## 数据结构回顾\n",
    "* 思考各个数据结构之间的区别，e.g.stack栈和heap堆之间的区别"
   ]
  },
  {
   "cell_type": "markdown",
   "metadata": {},
   "source": [
    "# 搜索基础 Search Basics"
   ]
  },
  {
   "cell_type": "markdown",
   "metadata": {},
   "source": [
    "## 宽度优先搜索 Breadth First Search"
   ]
  },
  {
   "cell_type": "markdown",
   "metadata": {},
   "source": [
    "### 定义\n",
    "* 通过从根开始首先搜索树的级别来搜索树（或图）的算法 An algorithm that search a tree (or graph) by searching levels of the tree firs, starting at the root.\n",
    " * 它找到每个级别相同的节点，最经常从左到右移动。\n",
    " * 在执行此操作时，它将跟踪当前级别上节点的子节点\n",
    " * 检查完一个级别后，它将移至下一级别的最左侧节点\n",
    " * 最右下角的节点最后被评估（最深且距离其级别最远的节点）。\n",
    "\n",
    "### 重点\n",
    "* 最适合搜索宽于深的树 Optimal for searching a tree that is **wider than it is deep**.\n",
    "* 当遍历树时，使用队列来存储有关树的信息 Uses a **queque** to store information about the tree while it traverses a tree.\n",
    "    * 因为它使用队列，所以比深度优先搜索要占用更多的内存。 Because it uses a queue it is more memory intensive than depth first serarch.\n",
    "    * 队列使用更多的内存，因为它需要存储指针(?) The queue uses more memory because it needs to stores pointers.\n",
    "    \n",
    "### 复杂度\n",
    "* Search: O(V + E) under the graph is represented by the adjacency list structure\n",
    "* Each edege is labeled twice. E is number of edges 边的数量\n",
    "* Each vertex is labeled twice. V is number of vertices 顶点的数量"
   ]
  },
  {
   "cell_type": "markdown",
   "metadata": {},
   "source": [
    "## 深度优先搜索 Depth First Search"
   ]
  },
  {
   "cell_type": "markdown",
   "metadata": {},
   "source": [
    "### 定义\n",
    "* 一种算法，该算法通过从根开始首先搜索树的深度来搜索树（或图） An algorithm that searches a tree (or graph) by searching depth of the tree first, starting at the root.\n",
    "    * 它沿着一棵树向左走，直到不能走远为止。 It traverses left down a tree until it cannot go futher.\n",
    "    * 一旦到达分支的末尾，它将遍历该分支的右子节点，如果可能的话，再返回右子节点。 Once it reaches the end of a branch, it traverses back up trying the right child of nodes on that branch, and if possible left from the right children.\n",
    "    * 检查完分支后，它移到根的右侧节点，然后尝试在所有子节点上向左移动，直到到达底\n",
    "部 When finished examing a branch, it moves to the node right of the root then tries to go left on all its children until it reaches the bottom.\n",
    "    * 最右边的节点最后被评估（所有祖先右边的节点）。 The right most node is evaluated last(the node that is right of all its ancestors)"
   ]
  },
  {
   "cell_type": "markdown",
   "metadata": {},
   "source": [
    "### 重点\n",
    "* 最适合搜索比宽更深的树 Optimal for searching a tree that is deeper than it is wide\n",
    "* 使用list将节点压入 Uses a stack to push nodes onto:\n",
    "    * 由于堆栈是LIFO，因此它不需要跟踪节点指针，因此与广度优先搜索相比，其内存密集度\n",
    "较低。Becase a stack is LIFO, it does not need to keep track of the nodes pointers and is thereforce less memory intensive than breath than BFS.\n",
    "    * 一旦无法继续前进，它将开始评估list里存储的值 Once it can't go further left it begins evaluating the stack.一旦无法继续前进，它将开始评估堆栈。"
   ]
  },
  {
   "cell_type": "markdown",
   "metadata": {},
   "source": [
    "### 复杂度\n",
    "* Search:  O(V + E) under the graph is represented by the adjacency list structure\n",
    "* Each edege is labeled twice. E is number of edges 边的数量\n",
    "* Each vertex is labeled twice. V is number of vertices 顶点的数量"
   ]
  },
  {
   "cell_type": "markdown",
   "metadata": {},
   "source": [
    "### BFS vs DFS\n",
    "* The simple answer to this question is that it depends on the size and shape of the tree.\n",
    "    * For wide, shallow tree use BFS 宽而浅\n",
    "    * For deep, narrow tree use DFS. 深而窄"
   ]
  },
  {
   "cell_type": "markdown",
   "metadata": {},
   "source": [
    "### 细微差别 Nuances \n",
    "* 因为BFS使用队列来存储有关节点及其子节点的信息，所以它使用的内存可能比计算机上可用的内存更多（这种情况很少存在）。Because BFS uses queue to store information about the node and its children, it could use more memory than is available on your computer.\n",
    "* 如果在非常深的树上使用DFS，则可能会不必要地深入搜索，就需要减枝操作。If using a DFS on a tree that is very deep, you might go unnecessarily deep in the search. \n",
    "* 宽度优先搜索往往是一种循环算法，即用while和for。BFS tends to be a **looping algorithm**.\n",
    "* 深度优先搜索往往是一种递归算法，即用递归算法。DFS tends to be a **recursive algorithm**."
   ]
  },
  {
   "cell_type": "markdown",
   "metadata": {},
   "source": [
    "## 二分搜索 Binary Search"
   ]
  },
  {
   "cell_type": "markdown",
   "metadata": {},
   "source": [
    "\n",
    "# 比较排序 Comparsion Sorting Basic\n",
    "* 基本应用：排序类题目\n",
    "* 扩展应用：合并类题目（比较过程中，每个元素都遍历到了，故可以实现合并）\n",
    "* 至少需要 time complexity: O(NlogN)"
   ]
  },
  {
   "cell_type": "markdown",
   "metadata": {},
   "source": [
    "##  Merge sort 合并排序法"
   ]
  },
  {
   "cell_type": "markdown",
   "metadata": {},
   "source": [
    "### 定义 \n",
    "A comparison based sorting algorithm，流程如下  \n",
    "  * Divide entire dataset into groups of at most two\n",
    "  * Compares each number one at a time, moving the smallest number to left of the pair.\n",
    "  * Once all pairs sorted it, then compares left most elements of the two leftmost pairs to create sorted group of four with the smallest numbers on the left and the largest ones on the right.\n",
    "  * This process is repeated until there in only one set.\n",
    "  * 如图 Merge-Sort.png "
   ]
  },
  {
   "cell_type": "markdown",
   "metadata": {},
   "source": [
    "### 重点\n",
    "* This is one of most basic sorting algorithm.\n",
    "* Know that it divides all the data into small possible sets then compares them."
   ]
  },
  {
   "cell_type": "markdown",
   "metadata": {
    "pycharm": {
     "name": "#%% md\n"
    }
   },
   "source": [
    "### 复杂度\n",
    "* Time\n",
    "    * Relation: T(n) = 2T(n/2) + O(n)\n",
    "    * Best Case Sort: O(NlogN)\n",
    "    * Average Case Sort: O(NlogN)\n",
    "    * Worst Case Sort: O(NlogN)\n",
    "    * Prove the NlogN\n",
    "        * Recurrence Tree method:\n",
    "            T(n) = 2T(n/2) + O(n) = 2^2T(n/2^2) + 2O(n/2) + O(n) = 2^2T(n/2^2) + 2O(n) = 2^mT(n/2^m) + mO(n);\n",
    "            又因为n/2^m = 1时，m= log(2)n. 故 T(n) = nT(1) + log(2)n * O(n) = n + nlog(2)n = nlog2(n) = nlogn\n",
    "        * Master method\n",
    "            T(n) = 2T(n/2) + O(n)，故为nlogn \n",
    "* Space\n",
    "    * O(N)\n",
    "* 发挥性能的应用范围\n",
    "    * data is huge\n",
    "    * data is stored in external storage \n",
    "    * 链表\n",
    "* 稳定性\n",
    "    * 稳定\n",
    "\n",
    "* 原地性 In-place\n",
    "    * 非原地性\n",
    "    * 原地算法定义：（in-place algorithm）基本上不需要 额外辅助的数据结构,然而,允许少量额外的辅助变量来转换数据的算法。当算法运行时，输入的数据通常会被要输出的部分覆盖掉\n",
    "    * 每次merged list，即新产生的arr，都不是原有的arr了，而是小规模的排序数组，故用到了额外辅助的数据结构，不属于原地算法\n"
   ]
  },
  {
   "cell_type": "markdown",
   "metadata": {},
   "source": [
    "### 方法核心\n",
    "* 把容器元素分拆成小单位，再依次比较、排列、合并 \n"
   ]
  },
  {
   "cell_type": "markdown",
   "metadata": {
    "pycharm": {
     "name": "#%% md\n"
    }
   },
   "source": [
    "### 代码模板"
   ]
  },
  {
   "cell_type": "code",
   "execution_count": 4,
   "metadata": {
    "ExecuteTime": {
     "end_time": "2019-12-26T06:10:12.948000Z",
     "start_time": "2019-12-26T06:10:12.929000Z"
    },
    "pycharm": {
     "name": "#%%\n"
    }
   },
   "outputs": [
    {
     "data": {
      "text/plain": [
       "[1, 2, 3, 4, 5, 6, 7, 8, 9]"
      ]
     },
     "execution_count": 4,
     "metadata": {},
     "output_type": "execute_result"
    }
   ],
   "source": [
    "'''\n",
    "Merge Sort temple/basic code\n",
    "edge case: list is None / only one element \n",
    "过程 :\n",
    "    MergeSort(arr[], l,  r)\n",
    "    If r > l\n",
    "    1. Find the middle point to divide the array into two halves:   \n",
    "         middle m = (l+r)/2\n",
    "    2. Call mergeSort for first half:   \n",
    "         Call mergeSort(arr, l, m)\n",
    "    3. Call mergeSort for second half:\n",
    "         Call mergeSort(arr, m+1, r)\n",
    "    4. Merge the two halves sorted in step 2 and 3:\n",
    "         Call merge(arr, l, m, r)\n",
    "'''\n",
    "\n",
    "class SortList:\n",
    "    # Merge sort\n",
    "    def mergeSort(self, arr):\n",
    "        if len(arr) == 0 or len(arr) == 1:\n",
    "            return\n",
    "        \n",
    "        \n",
    "        if len(arr) >= 2:\n",
    "            # 普通划分\n",
    "            mid = len(arr) // 2  # find the mid of the array\n",
    "            L = arr[:mid]  # divide the array elements\n",
    "            R = arr[mid:]  # into 2 haves\n",
    "            \n",
    "            # 递归划分\n",
    "            self.mergeSort(L)  # Sorting the first half\n",
    "            self.mergeSort(R)  # Sorting the second half\n",
    "\n",
    "            # 合并， input: 两个已排序的list，L，R.过程：对L，R进行合并排序。output：合并完成后的一个list\n",
    "            i = j = k = 0\n",
    "            while i < len(L) and j < len(R):  # copy data to temp arrays L and R\n",
    "                if L[i] < R[j]:\n",
    "                    arr[k] = L[i]\n",
    "                    i += 1\n",
    "                else:\n",
    "                    arr[k] = R[j]\n",
    "                    j += 1\n",
    "                k += 1\n",
    "\n",
    "#             while i < len(L):  # process left data in L part\n",
    "#                 arr[k] = L[i]\n",
    "#                 k += 1\n",
    "#                 i += 1\n",
    "            if i < len(L):\n",
    "                arr[k:] = L[i:]\n",
    "            \n",
    "#             while j < len(R):  # process right data in R part\n",
    "#                 arr[k] = R[j]\n",
    "#                 k += 1\n",
    "#                 j += 1\n",
    "            if j < len(R):\n",
    "                arr[k:] = R[j:]\n",
    "\n",
    "        return arr\n",
    "            \n",
    "x = SortList() \n",
    "x.mergeSort([9,8,7,4, 5, 6, 3, 2, 1])"
   ]
  },
  {
   "cell_type": "markdown",
   "metadata": {},
   "source": [
    "  \n",
    "##  自下而上排序法 Bottom-up Merge sort"
   ]
  },
  {
   "cell_type": "markdown",
   "metadata": {},
   "source": [
    "### 定义\n",
    "A comparison based sorting algorithm，\n",
    "  * first merges pairs of adjacent lists of 1 element\n",
    "  * Then merge pairs of adjacent lists of 2 elements\n",
    "  * And next merge pairs of adjacent lists of 4 elements\n",
    "  * And so on. Until the whole list is merged.  "
   ]
  },
  {
   "cell_type": "markdown",
   "metadata": {},
   "source": [
    "### 复杂度及属性\n",
    "* Time\n",
    "    * Relation: T(n) = 2T(n/2) + O(n)\n",
    "    * Best Case Sort: O(NlogN)\n",
    "    * Average Case Sort: O(NlogN)\n",
    "    * Worst Case Sort: O(NlogN)\n",
    "    * Prove the NlogN\n",
    "        * Recurrence Tree method:\n",
    "            T(n) = 2T(n/2) + O(n) = 2^2T(n/2^2) + 2O(n/2) + O(n) = 2^2T(n/2^2) + 2O(n) = 2^mT(n/2^m) + mO(n);\n",
    "            又因为n/2^m = 1时，m= log(2)n. 故 T(n) = nT(1) + log(2)n * O(n) = n + nlog(2)n = nlog2(n) = nlogn\n",
    "        * Master theorem\n",
    "            T(n) = 2T(n/2) + O(n)，故为nlogn \n",
    "* Space\n",
    "    * O(1) # 随是否新建存储结构而变化\n",
    "* 稳定性\n",
    "    * 稳定\n",
    "* 原地性\n",
    "    * 原地"
   ]
  },
  {
   "cell_type": "markdown",
   "metadata": {
    "pycharm": {
     "name": "#%% md\n"
    }
   },
   "source": [
    "### 代码模板"
   ]
  },
  {
   "cell_type": "code",
   "execution_count": 5,
   "metadata": {
    "ExecuteTime": {
     "end_time": "2019-12-26T06:10:12.961000Z",
     "start_time": "2019-12-26T06:10:12.949000Z"
    },
    "pycharm": {
     "name": "#%%\n"
    }
   },
   "outputs": [
    {
     "data": {
      "text/plain": [
       "[0, 1, 2]"
      ]
     },
     "execution_count": 5,
     "metadata": {},
     "output_type": "execute_result"
    }
   ],
   "source": [
    "# Bottom-up Merge Sort temple/basic code\n",
    "# edge case: list is None / only one element \n",
    "# 易错点：别忘记while interval < length，subsort求的是段，23.Merge k Sorted list求的是点\n",
    "class SortList:\n",
    "    def mergeSort(self, arr):  # Merge sort by bottom-up merge sort\n",
    "        if len(arr) == 0 or len(arr) == 1:  # edge case\n",
    "            return arr\n",
    "\n",
    "        length = len(arr)\n",
    "        interval = 1\n",
    "        while interval < length:\n",
    "            for i in range(0, length, 2 * interval):  # bottom-up merge sort\n",
    "                arr[i: i + 2 * interval] = self.subsort(arr[i: i + interval], arr[i + interval: i + interval * 2])\n",
    "            interval = interval * 2\n",
    "        return arr\n",
    "\n",
    "    def subsort(self, list1, list2):  # sort two sorted list\n",
    "        if not list1:\n",
    "            return list2\n",
    "        if not list2:\n",
    "            return list1\n",
    "\n",
    "        new_list = []\n",
    "        left_len = len(list1)\n",
    "        right_len = len(list2)\n",
    "        i, j = 0, 0\n",
    "        while i < left_len and j < right_len:\n",
    "            if list1[i] < list2[j]:\n",
    "                new_list.append(list1[i])\n",
    "                i += 1\n",
    "            else:\n",
    "                new_list.append(list2[j])\n",
    "                j += 1\n",
    "\n",
    "        if i != left_len:\n",
    "            new_list.extend(list1[i:left_len])\n",
    "        if j != right_len:\n",
    "            new_list.extend(list2[j:right_len])\n",
    "        return new_list\n",
    "\n",
    "x = SortList() \n",
    "x.mergeSort([2,1,0])"
   ]
  },
  {
   "cell_type": "markdown",
   "metadata": {},
   "source": [
    "### 应用（合并排序及自上而下排序）"
   ]
  },
  {
   "cell_type": "markdown",
   "metadata": {},
   "source": [
    "#### 擅长的数据类型"
   ]
  },
  {
   "cell_type": "markdown",
   "metadata": {},
   "source": [
    "#### 总结\n",
    "* 链表的排序，包括常数空间，非常数空间\n",
    "* 需要两两比较的题目。e.g.求转置数数量\n",
    "* 合并类型题目。e.g.合并k链表/列表\n",
    "* 外置排序"
   ]
  },
  {
   "cell_type": "markdown",
   "metadata": {
    "pycharm": {
     "name": "#%% md\n"
    }
   },
   "source": [
    "#### 解决方案模板\n",
    "* 明确 基本结构与要求\n",
    "    * 输入 含有数个元素容器\n",
    "    * 输出 格式！！\n",
    "        * 原容器输出,即原容器保持维度不变的输出 e.g.list sort  -> 递归时直接 self.sort(L)\n",
    "        * 新参数输出,即新参数，或者原容器维度改变的输出 e.g. sort linklist, sort list[list] -> 递归时 sub_l = self.sort(L)\n",
    "    * 要求 合并方式排序元素等\n",
    "* 明确 题目类型\n",
    "* 确定 idea （解题算法）\n",
    "* 思考 不同之处\n",
    "* 修改 Method\n",
    "    \n",
    "#### 排序链表，且不要求space complexity - merge sort\n",
    "* 为什么用方法？ \n",
    "    * 要求排序\n",
    "    * 相对于快排，合并排序不需要太多的对链表节点的访问(access)。\n",
    "    （链表储存不是连续分块储存的(continuous block of memory)，不利于节点访问，与list相反）\n",
    "* 时间/空间复杂度\n",
    "    * O(NlogN) / O(N)\n",
    "* 例题： 148. Sort List (linked list).py\n",
    "    * 递归；递归部分返回头节点；每段的完整切割（要next=None）；先确定R头，再确定L尾\n",
    "    \n",
    "#### 排序链表，且using constant space complexity. - bottom-up merge sort\n",
    "* 为什么用这个方法？ \n",
    "    * using constant space complexity.\n",
    "* 时间/空间复杂度\n",
    "    * O(NlogN) / O(1)\n",
    "* 例题： 148. Sort List (linked list).py\n",
    "    * while interval < length + while head1 迭代；\n",
    "    * dummy,fake-tail的使用；\n",
    "    * 独立split函数，input->head,interval ; output -> next head\n",
    "    * 独立merge函数, input->head1,head2; output -> new head, new tail\n",
    "\n",
    "#### 计算转置数的数量 Inversion Count Problem\n",
    "* 为什么用方法？ \n",
    "    * 利用 inv_count = inv_count + (len(L) - i) 的性质\n",
    "* 时间/空间复杂度\n",
    "    * O(NlogN) / O(N)\n",
    "* 例题： \n",
    "    * 775\\. Global and Local Inversions.py\n",
    "    * 例题：Count Inversions in an array.py\n",
    "    \n",
    "#### 合并 K 个排序数组 Merge k sorted arrays\n",
    "\n",
    "#### 3-way Merge Sort\n",
    "\n",
    "#### 外置排序 External Sorting\n",
    "\n",
    "#### 合并链表题 \n",
    "* 为什么用merge sort？\n",
    "    * 要求合并，即排序的扩展 \n",
    "* 23\\. Merge k Sorted Lists.py - MergeSort method\n",
    "    * 基本结构与要求:\n",
    "        * 输入：含有数个元素为link list的head的容器\n",
    "        * 要求：合并并排序所有link list\n",
    "        * 输出：合并后的link list的head\n",
    "    * 明确题目类型： 大合并+小排序类\n",
    "    * idea: Merge Sort\n",
    "    * 不同之处：\n",
    "        * 合并：链表形式合并，生成新部分链表\n",
    "        * 输出：新生成的链表头，而不是原容器\n",
    "    * Method:\n",
    "        * divide lists into groups of at most two\n",
    "        * merge and sort linklist in every groups into one linklist\n",
    "        * merge and sort every two new linklist to create new linklist\n",
    "        * process is repeated until there in only one linklist\n",
    "        \n"
   ]
  },
  {
   "cell_type": "markdown",
   "metadata": {
    "pycharm": {
     "name": "#%% md\n"
    }
   },
   "source": [
    "## 快速排序 Quick sort "
   ]
  },
  {
   "cell_type": "markdown",
   "metadata": {},
   "source": [
    "### 定义\n",
    "* A comparision based sorting algorithm （与merge sort相同）\n",
    "    * Divides entire dataset in half by selecting the middle element and putting all smaller elements to the left of the element and larger ones to the right.\n",
    "    * It repeats this process on the left side until it is comparing only two elements at which point the left side is sorted.\n",
    "    * When the left side is finished sorting, it performs the same operation on the right side.  \n",
    "* Computer architecture favors the quick-sort process."
   ]
  },
  {
   "cell_type": "markdown",
   "metadata": {},
   "source": [
    "### 重点\n",
    "* While it has the same Big O as (or worse in the same cases) many other sorting algorithm, it is often faster in practice than many other sorting algorithms, such as merge sort. 虽然有相同或者更坏的时间复杂度，但是实际中，它要更快，比如比归并快\n",
    "* Know that it halves the data set by the average continuously until all the information is sorted."
   ]
  },
  {
   "cell_type": "markdown",
   "metadata": {
    "pycharm": {
     "name": "#%% md\n"
    }
   },
   "source": [
    "### 复杂度及属性\n",
    "* Time\n",
    "    * Best case: O(NlogN)\n",
    "        * when the partition process always picks the middle element as pivot.\n",
    "        * equal to T(n) = 2T(n/2) + O(n), can be proved by the Master theorem.\n",
    "    * Average case: O(NlogN)\n",
    "        * when partition puts O(n/9) elements in one set and O(9n/10) elements in other set.\n",
    "        *  T(n) = T(n/9) + T(9n/10) + O(n)\n",
    "    * Worst case: O(N2)\n",
    "        *  when the partition process always picks greatest or smallest element as pivot\n",
    "        * equal to T(n) = T(n-1) + O(n)\n",
    "    * Relation: T(n) = T(k) + T(n - k - 1) + O(n)\n",
    "        * T(k), T(n - k - 1) are for recursion calls\n",
    "        * O(n) is for partition process\n",
    "        * k is the number of elements which are smaller than pivot\n",
    "* Space\n",
    "    * O(N)\n",
    "* 发挥性能的应用范围\n",
    "    * most architechtures in most real-world data\n",
    "    * 数组\n",
    "    * implemented in different ways by changing the choice of pivot, so that the worst case rarely occurs for a given type of data.\n",
    "* 稳定性\n",
    "    * 不稳定\n",
    "    * 可以加入索引作为比较参数的之一，即既比较值大小，也比较索引，来实现稳定。\n",
    "* 原地性 In-place\n",
    "    * 属于原地算法 （直接修改输入数据而不是将输入数据复制一份处理之后再覆盖回去）\n",
    "    * 即不考虑递归的情况下，使用的空间为O(1)\n",
    "* 尾递归\n",
    "    * 为尾递归"
   ]
  },
  {
   "cell_type": "markdown",
   "metadata": {},
   "source": [
    "### 方法核心\n",
    "* 把容器元素比较、排列，再进一步在小部分里比较、排列"
   ]
  },
  {
   "cell_type": "markdown",
   "metadata": {
    "pycharm": {
     "name": "#%% md\n"
    }
   },
   "source": [
    "### 代码模板"
   ]
  },
  {
   "cell_type": "code",
   "execution_count": 6,
   "metadata": {
    "ExecuteTime": {
     "end_time": "2019-12-26T06:10:12.972000Z",
     "start_time": "2019-12-26T06:10:12.962000Z"
    },
    "pycharm": {
     "name": "#%%\n"
    }
   },
   "outputs": [
    {
     "name": "stdout",
     "output_type": "stream",
     "text": [
      "[0, 0, 1, 1, 2, 5]\n"
     ]
    }
   ],
   "source": [
    "# 讨论if i < j 和 i += 1 的作用:\n",
    "# 仅不满足x < arr[j]时：\n",
    "#     if一定成立 - 有无都正常\n",
    "#     要寻找比x大的数，而i += 1存在时，直接跳过arr[i],这个等于arr[j]，且明显小于x的数\n",
    "#     而i += 1不存在时，重复 i += 1,再进行之后流程\n",
    "#     故有无 i+= 1都正常\n",
    "# 仅不满足i<j时，即i=j了，ij重合:\n",
    "#     if 存在， i += 1存在\n",
    "#         arr[i] = arr[j] 和 i+=1 都不运行，整个程序运行结束，x赋给arr[i]\n",
    "#     if 存在， i += 1不存在\n",
    "#         arr[i] = arr[j] 不运行，整个程序运行结束，x赋给arr[i]\n",
    "#     if 不存在，i += 1存在\n",
    "#         arr[j]赋给arr[i],i = j，即arr[i]不变，i + 1，\n",
    "#         而下面的又进行了arr[j]赋给arr[i]，整个程序结束，x赋给arr[i+1]\n",
    "#         出错\n",
    "#     if 不存在，i += 1不存在\n",
    "#          arr[j]赋给arr[i],i = j，即arr[i]不变， 整个程序结束，x赋给arr[i]\n",
    "# \n",
    "# \n",
    "# 故正确的是：\n",
    "# if 存在，i += 1存在\n",
    "# if 存在，i += 1不存在\n",
    "# if 不存在，i += 1不存在\n",
    "\n",
    "'''\n",
    "QuickSort 代码模板\n",
    "思路：挖坑填数,从大规模到小规模排序，参见 https://blog.csdn.net/morewindows/article/details/6684558\n",
    "方法：\n",
    "    取一个数作为基准数\n",
    "    划分区间过程，把数列中大于基准数的数放到左区间，把数列中小于基准数的数放在右区间\n",
    "    再对左右区间重复第二步，直到左右区间只有一个数\n",
    "    \n",
    "    choose one value of nums as the pivot\n",
    "    put all smaller elem to the left of the pivot and larger ones to the right\n",
    "    repeat this process on the left and right side until left/right side one has one value \n",
    "\n",
    "易错点：\n",
    "    由于nums有重复数值，故使用pivot < nums[j]，nums[i] <= pivot，其中使用“=”来覆盖所有大小关系，如没有重复数值，=可以去掉\n",
    "    R = nums[i + 1: r + 1], 因为跳过i，故从i+1开始，而不是i开始\n",
    "    nums[l:i] = self.quicksort(L)，因为输入的L和输出都是相当于一个与nums无关的值，故要把返回值与nums联系起来\n",
    "'''\n",
    "class Sort:\n",
    "    def quicksort(self, nums):\n",
    "        if len(nums) == 0 or len(nums) == 1:\n",
    "            return nums\n",
    "\n",
    "        l = 0\n",
    "        r = len(nums) - 1\n",
    "\n",
    "        i = l\n",
    "        j = r\n",
    "        pivot = nums[i]\n",
    "        while i < j:\n",
    "            while i < j and pivot <= nums[j]:\n",
    "                j -= 1\n",
    "            nums[i] = nums[j]\n",
    "            while i < j and nums[i] < pivot:\n",
    "                i += 1\n",
    "            nums[j] = nums[i]\n",
    "        nums[i] = pivot\n",
    "        L = nums[l:i]\n",
    "        R = nums[i + 1: r + 1]\n",
    "        nums[l:i] = self.quicksort(L)  # 产生了一部分，就要把这一部分赋值回去，不然不起作用的\n",
    "        nums[i + 1: r + 1] = self.quicksort(R)\n",
    "        return nums\n",
    "\n",
    "\n",
    "x = Sort()\n",
    "print(x.quicksort([5,1,1,2,0,0]))"
   ]
  },
  {
   "cell_type": "markdown",
   "metadata": {},
   "source": [
    "### 应用"
   ]
  },
  {
   "cell_type": "markdown",
   "metadata": {},
   "source": [
    "#### 擅长的数据类型"
   ]
  },
  {
   "cell_type": "markdown",
   "metadata": {},
   "source": [
    "#### 总结\n",
    "* 分两类，并使用常数空间的题目。e.g.奇偶排序，稳定空间正负排序\n",
    "* 数组的排序"
   ]
  },
  {
   "cell_type": "markdown",
   "metadata": {},
   "source": [
    "#### 奇偶排序\n",
    "* 905. Sort Array By Parity / https://www.geeksforgeeks.org/segregate-even-odd-numbers-set-3/\n"
   ]
  },
  {
   "cell_type": "markdown",
   "metadata": {},
   "source": [
    "#### 稳定空间，正负排序\n",
    "* https://www.geeksforgeeks.org/move-negative-numbers-beginning-positive-end-constant-extra-space/"
   ]
  },
  {
   "cell_type": "markdown",
   "metadata": {},
   "source": [
    "#### 迭代法实现快排\n",
    "https://www.geeksforgeeks.org/iterative-quick-sort/"
   ]
  },
  {
   "cell_type": "markdown",
   "metadata": {},
   "source": [
    "#### 3-Way 快排"
   ]
  },
  {
   "cell_type": "markdown",
   "metadata": {},
   "source": [
    "#### 链表排序"
   ]
  },
  {
   "cell_type": "markdown",
   "metadata": {
    "pycharm": {
     "name": "#%% md\n"
    }
   },
   "source": [
    "## 气泡排序 Bubble sort"
   ]
  },
  {
   "cell_type": "markdown",
   "metadata": {},
   "source": [
    "### 定义\n",
    "* 基于比较的排序算法 A comparison based sorting algorithm\n",
    " * 从头至尾，依次比较arr[i]和arr[i+1], 将较小的元素向左移动 It iterates left to right comparing every couplet, moving the smaller element to the left.\n",
    " * 重复此过程，直到不再将元素移到左侧 It repeats this process until it no longer moves an element to the left."
   ]
  },
  {
   "cell_type": "markdown",
   "metadata": {},
   "source": [
    "### 重点\n",
    "* 尽管实现起来非常简单，但在这三种排序方法中效率最低。 While it is very simple to implement, it is the least efficient of these three sorting methods.\n",
    "* 知道它向右移动一个空间，一次比较两个元素，然后向左缩小将要比较的空间。Know that it moves one space to the right comparing two elements at a time and moving the\n",
    "smaller on to left."
   ]
  },
  {
   "cell_type": "markdown",
   "metadata": {},
   "source": [
    "### 复杂度及属性\n",
    "* Time\n",
    "    * Best case: O(N)\n",
    "    * Average case: O(N^2)\n",
    "    * Worst case: O(N^2)\n",
    "* Space\n",
    "    * O(1)\n",
    "* 稳定性\n",
    "    * 稳定：在排序过程中，元素两两交换时，相同元素的前后顺序并没有改变\n",
    "* 原地性 In-place\n",
    "    * 属于原地算法 （直接修改输入数据而不是将输入数据复制一份处理之后再覆盖回去）\n",
    "    * 使用的空间为O(1)"
   ]
  },
  {
   "cell_type": "markdown",
   "metadata": {
    "pycharm": {
     "name": "#%% md\n"
    }
   },
   "source": [
    "### 代码模板"
   ]
  },
  {
   "cell_type": "code",
   "execution_count": 2,
   "metadata": {
    "ExecuteTime": {
     "end_time": "2019-12-27T03:33:29.624000Z",
     "start_time": "2019-12-27T03:33:29.610000Z"
    },
    "pycharm": {
     "name": "#%%\n"
    }
   },
   "outputs": [
    {
     "name": "stdout",
     "output_type": "stream",
     "text": [
      "[1, 2, 3, 4, 5, 6, 7, 8, 9]\n"
     ]
    }
   ],
   "source": [
    "class Solution:\n",
    "    def bubbleSort(self, arr):\n",
    "        if len(arr) <= 1:\n",
    "            return arr\n",
    "         \n",
    "        for i in range(len(arr)):  # offer index to scale the size for sort\n",
    "            for j in range(len(arr) - i - 1):\n",
    "                if arr[j] > arr[j+1]:\n",
    "                    arr[j], arr[j+1] = arr[j+1], arr[j]  # smaller is ahead of bigger\n",
    "            \n",
    "        return arr\n",
    "x = Solution()\n",
    "print(x.bubbleSort([9, 8, 7, 6, 5, 4, 3, 2, 1]))\n",
    "            "
   ]
  },
  {
   "cell_type": "markdown",
   "metadata": {},
   "source": [
    "## Heap sort 堆排序"
   ]
  },
  {
   "cell_type": "markdown",
   "metadata": {},
   "source": [
    "## 插入排序\n",
    "https://ms2008.github.io/2017/03/23/lua-insertion-sort/"
   ]
  },
  {
   "cell_type": "markdown",
   "metadata": {},
   "source": [
    "## 选择排序\n",
    "https://ms2008.github.io/2017/03/19/lua-selection-sort/"
   ]
  },
  {
   "cell_type": "markdown",
   "metadata": {},
   "source": [
    "# 非比较基础排序 not comparison-based sort"
   ]
  },
  {
   "cell_type": "markdown",
   "metadata": {},
   "source": [
    "## 计数排序 Counting Sort"
   ]
  },
  {
   "cell_type": "markdown",
   "metadata": {},
   "source": [
    "### 基本步骤\n",
    "* 找出待排序的数组中最大和最小的元素\n",
    "* 统计数组中每个值为i的元素出现的次数，存入数组C的第i项\n",
    "* 对所有的计数累加（从C中的第一个元素开始，每一项和前一项相加）\n",
    "* 反向填充目标数组：将每个元素i放在新数组的第C(i)项，每放一个元素就将C(i)减去1"
   ]
  },
  {
   "cell_type": "markdown",
   "metadata": {},
   "source": [
    "### 特点\n",
    "* 只适非负整数排序,数比较小 \n",
    "* Time complexity: O(n), n is numbers of value\n",
    "* Space complexity: 0(k) k is kinds of value  - 线性时间排序"
   ]
  },
  {
   "cell_type": "markdown",
   "metadata": {},
   "source": [
    "## 桶排序 bucket sort"
   ]
  },
  {
   "cell_type": "markdown",
   "metadata": {},
   "source": [
    "### 基本步骤\n",
    "* 根据元素的值，把元素分散到各个桶里（每个桶能够容纳一定范围内的值）\n",
    "* 挨个把每个桶里的元素进行内部排序\n",
    "* 再把元素输出"
   ]
  },
  {
   "cell_type": "markdown",
   "metadata": {},
   "source": [
    "### 特点\n",
    "* Time complexity: O(n+k)，n是元素个数，k是桶个数\n",
    "* 桶可以是树 tree"
   ]
  },
  {
   "cell_type": "markdown",
   "metadata": {},
   "source": [
    "## 基数排序 radix sort"
   ]
  },
  {
   "cell_type": "markdown",
   "metadata": {},
   "source": [
    "### 基本步骤"
   ]
  },
  {
   "cell_type": "markdown",
   "metadata": {},
   "source": [
    "* 从低位到高位，轮流比较每个值的相同位数，没有位的补零，即同时比较几个数的个位，排序，再比较十位\n",
    "* 每个位数的排序是稳定的\n",
    "    * "
   ]
  },
  {
   "cell_type": "markdown",
   "metadata": {},
   "source": [
    "## 希尔排序 shell sort"
   ]
  },
  {
   "cell_type": "markdown",
   "metadata": {},
   "source": [
    "# 排序总结\n",
    "* 在无法进行快速排序的情况下，合并排序可能非常有用 -- >??什么情况下\n",
    "* 在特殊情况下，插入排序或基数排序要比\n",
    "通用的 QuickSort / MergeSort / HeapSort 答案好得多 In exceptional cases insertion-sort or radix-sort are much better than the generic quicksort / mergesort / heapsort answers."
   ]
  },
  {
   "cell_type": "markdown",
   "metadata": {},
   "source": [
    "# 基本算法类型 Basic Types of Algorithm"
   ]
  },
  {
   "cell_type": "markdown",
   "metadata": {},
   "source": [
    "* 整体思路：从上到下，或者从下到上 –> 进一步明确这个概念\n",
    "    * 自上而下：分治等\n",
    "    * 自下而上：DP 等"
   ]
  },
  {
   "cell_type": "markdown",
   "metadata": {},
   "source": [
    "## 递归算法 Recursive Algorithms"
   ]
  },
  {
   "cell_type": "markdown",
   "metadata": {},
   "source": [
    "### 基本概念"
   ]
  },
  {
   "cell_type": "markdown",
   "metadata": {},
   "source": [
    "#### 定义\n",
    "* 在其定义中，调用自身的算法。An algorithm that calls itself in its definition.\n",
    "    * 基本情况时,条件语句用于中断递归 **Base case** a conditional statement that is used to break the recursion.\n",
    "    * 递归情况时,条件语句用于触发递归 **Recusive case** a conditional statement that is used to trigger the recursion.  "
   ]
  },
  {
   "cell_type": "markdown",
   "metadata": {},
   "source": [
    "#### 重点\n",
    "* 堆栈级别太深/堆栈溢出 **Stack level too deep** and **stack overflow**\n",
    "    * 如果从递归算法中看到这两种情况，那么就搞砸了。\n",
    "    * 这意味着基本情况永远不会被触发，因为递归有缺陷，或者实例/问题如此之大，以至于耗尽了所有内存\n",
    "    * 正确是使用递归的必要条件:是否会遇到基本条件\n",
    "    * 经常在DFS中出现"
   ]
  },
  {
   "cell_type": "markdown",
   "metadata": {},
   "source": [
    "### 回溯法 Backtracking (DFS 思想)"
   ]
  },
  {
   "cell_type": "markdown",
   "metadata": {},
   "source": [
    "#### 概念"
   ]
  },
  {
   "cell_type": "markdown",
   "metadata": {},
   "source": [
    "* 回溯法又称试探法，当探索到某一步时，发现原先的选择达不到目标，就退回一步重新选择，这种走不通就退回再走的技术为回溯法。"
   ]
  },
  {
   "cell_type": "markdown",
   "metadata": {},
   "source": [
    "* 回溯法是一种选优搜索法，按选优条件向前搜索，以达到目标。但当探索到某一步时，发现原先选择并不优或达不到目标，就退回一步重新选择，这种走不通就退回再走的技术为回溯法，而满足回溯条件的某个状态的点称为“回溯点”"
   ]
  },
  {
   "cell_type": "markdown",
   "metadata": {},
   "source": [
    "#### 基本思想"
   ]
  },
  {
   "cell_type": "markdown",
   "metadata": {},
   "source": [
    "* 在包含问题的所有解的解空间树中，按照深度优先搜索的策略，从根节点出发深度探索解空间树。当探索到某一结点时，要先判断该节点是否包含问题的解，如果包含，就从该结点出发继续探索下去，如果该节点不包含问题的解，则逐层向其祖先节点回溯。（其实回溯法就是对隐式图的深度优先搜索算法）\n",
    "* 若用回溯法求问题的所有解时，要回溯到根，且根节点的所有可行的子树都要被搜素一遍才结束。\n",
    "* 若使用回溯法求任一个解时，只要搜索到问题的一个解就可以结束。"
   ]
  },
  {
   "cell_type": "markdown",
   "metadata": {},
   "source": [
    "#### 基本步骤\n",
    "1. 针对所给问题，确定问题的解空间：首先应明确定义问题的解空间，问题的解空间至少包含问题的一个最优解\n",
    "* 确定结点的扩展搜索规则\n",
    "* 以 深度优先 方式搜索解空间，并在搜索过程中用剪枝函数避免无效搜索。"
   ]
  },
  {
   "cell_type": "markdown",
   "metadata": {},
   "source": [
    "### 分治法 Divide-conquer algorithm"
   ]
  },
  {
   "cell_type": "markdown",
   "metadata": {},
   "source": [
    "#### 基本概念\n",
    "将一个规模为N的问题分解为K个规模较小的子问题，这些子问题相互独立，且与原问题性质相同。求出子问题的解后进行合并，就可以得到原问题的解。"
   ]
  },
  {
   "cell_type": "markdown",
   "metadata": {},
   "source": [
    "#### 适用情况的特征\n",
    "1. 该问题的规模缩小到一定的程度就可以容易的解决\n",
    " * e.g. 排序规模越小，越容易解决\n",
    "* 可以分解为若干个规模较小的相同问题，即各子问题具有最优解，就能求出整个问题的最优解\n",
    " * 应用分治法的前提，也反映了递归思想的应用\n",
    " * e.g.归并排序把整个分成小部分\n",
    "* 利用该问题分解出的子问题的解可以通过某种固定方式合并为该问题的解\n",
    " * 确定使用分治的判断条件，若不成立，则考虑贪心或DP\n",
    " * e.g.归并排序，两个有序子序列再次合并\n",
    "* 该问题分解出的各个子问题是相互独立的，即子问题之间不包含公共的子子问题\n",
    " * 涉及到分治法的效率，如果子问题不独立，则分治法需要做许多不必要的工作，重复解公共子问题。\n",
    " * 若不满足，则用DP比较好\n",
    " * e.g. DP抢劫问题，dp[i] = max(dp[i-2] + arr[i], dp[i-1])，故子问题不独立，用DP比较好"
   ]
  },
  {
   "cell_type": "markdown",
   "metadata": {},
   "source": [
    "#### 一般步骤\n",
    "* 分解：将要解决的问题划分成若干规模较小的同类问题\n",
    "* 求解：当问题划分得足够小时，用较简单的方法解决，否则递归地解各个子问题\n",
    "* 合并：按原问题的要求，将子问题逐层合并构成原问题的解"
   ]
  },
  {
   "cell_type": "markdown",
   "metadata": {},
   "source": [
    "#### 经典问题\n",
    "1. 二分搜索\n",
    "* 大数整除法\n",
    "* Strassen矩阵乘法\n",
    "* 棋盘覆盖\n",
    "* 归并排序\n",
    "* 快速排序\n",
    "* 线性时间选择\n",
    "* 最接近点对问题\n",
    "* 汉诺塔"
   ]
  },
  {
   "cell_type": "markdown",
   "metadata": {},
   "source": [
    "### 回溯法和分治法的区别\n",
    "* 思想上：\n",
    "    * 回溯：线性递进思想，一步一步走向更多的实例，比如从list的index=0到index=end\n",
    "    * 分治：从整体到局部思想。\n",
    "* 实现上：\n",
    "    * 回溯：\n",
    "        * 结束条件-> i = len(s),即遍历到最后一个数\n",
    "    * 分治：\n",
    "        * 结束条件-> len(arr) == 0/1, 即划分的部分为1个元素或者无元素\n",
    "* 应用范围：\n",
    "    * 回溯：找各种可能性\n",
    "    * 分治：排序"
   ]
  },
  {
   "cell_type": "markdown",
   "metadata": {},
   "source": [
    "## 迭代算法"
   ]
  },
  {
   "cell_type": "markdown",
   "metadata": {},
   "source": [
    "### 定义\n",
    "* 一种算法，被重复且次数有限的调用，每次都是一次迭代。An algorithm is called repeatedly but for a finite number of times, each time being a single iteraton.\n",
    "    * 通常用于数据集的增量移动 move incrementally through a data set."
   ]
  },
  {
   "cell_type": "markdown",
   "metadata": {},
   "source": [
    "## 贪心算法 Greedy Algorithm"
   ]
  },
  {
   "cell_type": "markdown",
   "metadata": {},
   "source": [
    "### 定义 \n",
    "* An algorithm that, while excuting, selects only the information that meets a certain criteria.\n",
    "* The general five components, from Wiki:\n",
    "    * A candidate set, from which a solution created.\n",
    "    * A selection funtion, which chooses the best candidate to be added to the solution.\n",
    "    * A feasibility function(可行性), that is used to determine if a candidate can be used to contribute to a solution.\n",
    "    * An objective function, which will assign a value to a soluction, or a partial soluction.\n",
    "    * A soluction fucntion, which will indicate when we have discouvered a complete solution.\n",
    "* Key"
   ]
  },
  {
   "cell_type": "markdown",
   "metadata": {},
   "source": [
    "### 基本概念\n",
    "* 在对问题求解时，总是做出在当前看来最好的选择。即 不从整体上最优加以考虑，它所做出的仅是在某种意义上的局部最优解。  \n",
    "* 贪心算法只对部分问题才能得到整体最优解，选择的贪心策略必须具备无后效性。\n",
    "    * 无后效性：状态 受前不受后"
   ]
  },
  {
   "cell_type": "markdown",
   "metadata": {},
   "source": [
    "### 适用前提\n",
    "* 使用局部最优策略能产生全局最优解的问题\n",
    "* 实际上，贪心算法适用的情况很少。针对问题时，可以先选择该问题下的几个实际数据进行分析，就可以做出判断。"
   ]
  },
  {
   "cell_type": "markdown",
   "metadata": {},
   "source": [
    "### 基本步骤\n",
    "1. 建立数学模型来描述问题 （找规律？）\n",
    "* 把求解的问题分成若干个子问题 （减少问题规模，设想只有1个，只有2个的情况）\n",
    "* 对每一个子问题求解，得到子问题的局部最优解\n",
    "* 把子问题的局部最优解合成原来解问题的一个解"
   ]
  },
  {
   "cell_type": "markdown",
   "metadata": {},
   "source": [
    "### 实现框架"
   ]
  },
  {
   "cell_type": "markdown",
   "metadata": {},
   "source": [
    "class Solution:  # 以纸币问题举例  \n",
    "    * def Greedy(self, coin, target):\n",
    "        * 寻找最大的可用纸币 # 从问题的某一初始解出发\n",
    "        \n",
    "        * while money < target: # 朝给定总目标前进一步\n",
    "            * 求次大纸币可以用几张 # 利用可行的决策，求出可行解的一个解元素\n",
    "        * 统计所有面值的纸币的数量和，返回  # 由所有解元素合成问题的一个可行解  "
   ]
  },
  {
   "cell_type": "markdown",
   "metadata": {},
   "source": [
    "## 动态规划 dynamic plannig"
   ]
  },
  {
   "cell_type": "markdown",
   "metadata": {},
   "source": [
    "### 基本概念\n",
    "将一个问题分解成若干个子问题（阶段），按顺序求解子阶段，前一子问题的解，为后一子问题的求解提供了有用的信息。在求解任一子问题时，列出各种可能的局部解，通过决策保留那些有可能达到最优的局部解，丢弃其他局部解。依次解决各子问题，最后一个子问题就是初始问题的解。"
   ]
  },
  {
   "cell_type": "markdown",
   "metadata": {
    "pycharm": {
     "name": "#%% md\n"
    }
   },
   "source": [
    "### 与分治法的差别\n",
    "适合于用动态规划法求解的问题，经分解后得到的子问题往往不是互相独立的（即下一个子阶段的求解是建立在上一个子阶段的解的基础上，进行进一步的求解）。"
   ]
  },
  {
   "cell_type": "markdown",
   "metadata": {},
   "source": [
    "### 适用情况的特征\n",
    "需要满足如下三个特征：\n",
    "1. 最优化原理：问题的最优解所包含的子问题的解也是最优的（称该问题具有最优子结构）。\n",
    " * 贪心，分治也满足\n",
    "* 无后效性：状态 受前不受后\n",
    " * 贪心满足，分治无关\n",
    "* 有重叠子问题：子问题之间不独立，一个子问题在下个阶段决策中可能被多次使用到。\n",
    " * 不是适用的必要条件，但若不具有，则DP不具有优势。\n",
    " * 贪心没有子问题，分治法各个子问题独立"
   ]
  },
  {
   "cell_type": "markdown",
   "metadata": {},
   "source": [
    "### 基本步骤"
   ]
  },
  {
   "cell_type": "markdown",
   "metadata": {},
   "source": [
    "#### 设计步骤\n",
    "初始状态 -> 决策1 -> 决策2 -> ... -> 决策n -> 结束状态\n",
    "1. 划分阶段：按照原问题的时间或空间特征，把原问题分为若干个阶段（子问题）。在划分阶段时，注意划分后的阶段（子问题）一定是要有序的或者是可排序的，否则问题就无法求解。\n",
    " * e.g. 原问题为求n阶台阶的所有走法的数量，子问题是求1阶、2阶台阶、...、n-1阶台阶的走法\n",
    "2. 确定状态和状态变量：将问题发展到各个阶段时所处于的各种客观情况用不同的状态表示出来。当然，状态的选择要满足无后效性。\n",
    " * 无后效性：如果在某个阶段上过程的状态已知，则从此阶段以后过程的发展变化仅与此阶段的状态有关，而与过程在此阶段以前的阶段所经历过的状态无关。\n",
    " * e.g. 第i个状态即为i阶台阶的所有走法数量。\n",
    "3. 确定决策并写出状态转移方程：根据相邻两个阶段的状态之间的关系来确定决策方法和状态转移方程。\n",
    " * e.g. dp[i] = dp[i-1] + dp[i-2] (i >= 3)\n",
    "4. 寻找边界条件：给出的状态转移方程是一个递推式，需要一个递推的终止条件或边界条件\n",
    " * e.g. 1阶台阶与2阶台阶的走法。1阶台阶有一种走法，2阶台阶有两种走法，即dp[1] = 1,dp[2] = 2"
   ]
  },
  {
   "cell_type": "markdown",
   "metadata": {
    "pycharm": {
     "name": "#%% md\n"
    }
   },
   "source": [
    "#### 简化步骤\n",
    "1. 分析最优解的性质，并刻画其结构特征\n",
    " * e.g. 抢劫问题，dp[i]的最优解是有两个结构构成的，dp[i-1]和dp[i-2] + arr[i]\n",
    "* 递归的定义最优解（迭代也行？）\n",
    " * e.g. for i in range(len(arr))\n",
    "* 以自底而上，或自顶而下的记忆化方式，计算出最优值\n",
    " * 自底而上,即DP法：建立一个表格，从最小的子问题开始向上求解较大的子问题，把每一个子问题的解全部填入表格中，直到表格中出现原问题的解为止\n",
    " * 自顶而下的记忆化方式，即备忘录法：将递归遇到的子问题的解保存在一个表中，以便下一个递归遇到同样的子问题时快速求解。\n",
    " * 当一个问题的所有子问题都至少要解一次时，用动态规划比用备忘录方法要好，此时，动态规划算法没有任何多余的计算。当子问题空间中的部分问题可不必求解时，用备忘录方法较有利，因为从其控制结构可以看出，该方法只解那些确实需要求解的子问题。\n",
    " * e.g.迭代for完全，求出最优值\n",
    "* 根据计算最优值时得到的信息，构造问题的最优解\n",
    " * e.g. dp[len(arr)-1]的最优值就是问题的最优解？"
   ]
  },
  {
   "cell_type": "markdown",
   "metadata": {},
   "source": [
    "#### 动态规划三要素及决策表\n",
    " 1. 问题的阶段（原问题和子问题）\n",
    " * 每个阶段的状态 (第i个状态代表什么)\n",
    " * 从前一个阶段到后一个阶段之间的递推关系（转移方程）\n",
    "  * 递推关系必须是从次小的问题开始到较大的问题之间的转化\n",
    "  * 整个求解过程就可以用一个最优决策表来描述，最优决策表是一个二维表，其中行表示决策的阶段，列表示问题状态，表格需要填写的数据一般对应此问题的在某个阶段某个状态下的最优值（如最短路径，最长公共子序列，最大价值等），填表的过程就是根据递推关系，从1行1列开始，以行或者列优先的顺序，依次填写表格，最后根据整个表格的数据通过简单的取舍或者运算求得问题的最优解。  f(n,m)=max{f(n-1,m), f(n-1,m-w[n])+P(n,m)}\n",
    "  "
   ]
  },
  {
   "cell_type": "markdown",
   "metadata": {
    "pycharm": {
     "name": "#%% md\n"
    }
   },
   "source": [
    "### 基本框架"
   ]
  },
  {
   "cell_type": "code",
   "execution_count": null,
   "metadata": {
    "pycharm": {
     "name": "#%%\n"
    }
   },
   "outputs": [],
   "source": [
    "class Solution:  # 以楼梯问题举例\n",
    "    def findbest(self, n):\n",
    "        dp = [0]*(n + 1)  # 建立空的dp阵\n",
    "        \n",
    "        for j in range(1, m): # 第一个阶段，e.g. 第1，第2阶的上法\n",
    "            dp[j] = 初始值\n",
    "        \n",
    "        for i in range(3,n):  # 转移方程的转化\n",
    "            dp[i] = dp[i-1] + dp[i-2]\n",
    "        \n",
    "        return dp[n]"
   ]
  },
  {
   "cell_type": "markdown",
   "metadata": {},
   "source": [
    "## 分支限界法 （BFS思想）"
   ]
  },
  {
   "cell_type": "markdown",
   "metadata": {},
   "source": [
    "### 基本概念\n",
    "* 分支限界法的求解目标：找出满足约束条件的一个解，或者在满足约束条件的解中找出使某一目标函数值达到极大或极小的解，即在某种意义下的最优解\n",
    "    * 回溯法的求解目标：找出T中满足约束条件的所有解"
   ]
  },
  {
   "cell_type": "markdown",
   "metadata": {},
   "source": [
    "### 分支搜索算法\n",
    "* 所谓‘分支’就是采用 广度优先 BFS 的策略，依次搜索E-结点的所有分支，也就是所有相邻节点，抛弃不满足约束条件的结点，其余结点加入活节点表。\n",
    "* 然后从表中选择一个结点作为下一个E-结点，继续搜索。选择下一个E-结点的方式不同，则会有几种不同的分支搜索方式\n",
    " 1. FIFO搜索：即先进先出搜索，用队列deque实现\n",
    " * LIFO搜索：即后进先出搜索，用栈（列表）list实现\n",
    " * 优先队列式搜索：即最小值一直在顶端，用优先队列（堆）priority queue/heap 实现"
   ]
  },
  {
   "cell_type": "markdown",
   "metadata": {},
   "source": [
    "### 分支限界搜索算法"
   ]
  },
  {
   "cell_type": "markdown",
   "metadata": {},
   "source": [
    "### 分支限界法（BFS）和 回溯法（DFS）的一些区别\n",
    "* 方法对解空间树的搜索方式\n",
    " * 分支限界法：BFS Breath First Search\n",
    " * 回溯法：DFS Deepth First Search\n",
    "* 存储结点的常用数据结构\n",
    " * 分支限界法：deque\n",
    " * 回溯法：list\n",
    "* 结点存储特性\n",
    " * 分支限界法：每个节点只有一次被遍历的机会，然后找出满足约束条件的一个解或者特定意义下的最优解\n",
    " * 回溯法：所有可行子节点被遍历，放入list中，进行筛选\n",
    "* 常用应用\n",
    " * 分支限界法：\n",
    " * 回溯法："
   ]
  },
  {
   "cell_type": "markdown",
   "metadata": {
    "pycharm": {
     "name": "#%% md\n"
    }
   },
   "source": [
    "### 基本框架"
   ]
  },
  {
   "cell_type": "code",
   "execution_count": 1,
   "metadata": {
    "pycharm": {
     "name": "#%%\n"
    }
   },
   "outputs": [],
   "source": [
    "class Solution:  # 以楼梯问题举例\n",
    "    def findbest(self, n):\n",
    "        dp = [0]*(n + 1)  # 建立空的dp阵\n",
    "        \n",
    "        for j in range(1, m): # 第一个阶段，e.g. 第1，第2阶的上法\n",
    "            dp[j] = 初始值\n",
    "        \n",
    "        for i in range(3,n):  # 转移方程的转化\n",
    "            dp[i] = dp[i-1] + dp[i-2]\n",
    "        \n",
    "        return dp[n]"
   ]
  },
  {
   "cell_type": "markdown",
   "metadata": {},
   "source": [
    "# Big-O 表示法\n",
    "* 了解Big-O表示法\n",
    "* 准备讨论更复杂的算法，比如 Dijkstra 和 A* search algorithm。--> 知道这两个算法的都是查找最短路径的，工作原理，复杂度。不用应用。！！！\n",
    "* 清楚优化的路线\n",
    "    * 最常见的情况是你的解决方案很慢，面试官要求你对其进行优化。\n",
    "    * 假设你有一个 O(n^2) 的方法，为了让它更快，我们可以这样想：  \n",
    "        一般来说，为了提高速度，我们可以选择更好的数据结构/算法，或者使用更多的内存。  \n",
    "        如果我们想使它成为 O(nlogn) ，有几种可用的工具：二分搜索，排序，BST 等等。也许你应该尝试对数组排序，  hash/dic散列是一个选项。另外，DP 是优化递归的好方法。"
   ]
  },
  {
   "cell_type": "markdown",
   "metadata": {},
   "source": [
    "# 数学"
   ]
  },
  {
   "cell_type": "markdown",
   "metadata": {},
   "source": [
    "## 数学函数"
   ]
  },
  {
   "cell_type": "markdown",
   "metadata": {},
   "source": [
    "* 求次方： a**b， a的b次方\n",
    "* 绝对值：abs(a)， a的绝对值\n",
    "### 除法\n",
    "* dividend 被除数，divisor 除数，quotient 商\n",
    "* 求模（除数）和余数 i, j = divmod(x, y)\n",
    "    * i*y + j = x\n",
    "    * 3, 1 = divmod(7, 2)\n",
    "    * 符号相除，是往小了算，再找补回来\n",
    "    * -4, -1 = divmod(7, -2)\n",
    "    * -4, 1 = divmod(-7, 2)"
   ]
  },
  {
   "cell_type": "markdown",
   "metadata": {},
   "source": [
    "## 离散数学\n",
    "* “负责的说，绝对不需要。 尤其对于转专业，目标是找工作的人，坚决要抵制离散数学。把宝贵的时间浪费在那上面必然后悔啊。图论的话，看算法书上的就足够了。”"
   ]
  },
  {
   "cell_type": "markdown",
   "metadata": {},
   "source": [
    "## 排列组合\n",
    "* 代码的实现\n",
    "* https://python3-cookbook.readthedocs.io/zh_CN/latest/c04/p09_iterate_over_combination_or_permutation.html\n",
    "* https://www.youtube.com/watch?v=Hmld7MhFUDk"
   ]
  },
  {
   "cell_type": "markdown",
   "metadata": {},
   "source": [
    "### 两组数的组合\n",
    "* m个a, n个b,求(a,b)有多少种组合.\n",
    "    * m * n 个可能性"
   ]
  },
  {
   "cell_type": "markdown",
   "metadata": {},
   "source": [
    "### 放回抽取\n",
    "* product('ABCD', repeat=2)\n",
    "* AA AB AC AD BA BB BC BD CA CB CC CD DA DB DC DD"
   ]
  },
  {
   "cell_type": "markdown",
   "metadata": {
    "pycharm": {
     "name": "#%% md\n"
    }
   },
   "source": [
    "### 放回不重复抽取\n",
    "* m中取n个,取后放回再取的数量\n",
    "* itertools.combinations_with_replacement() 允许同一个元素被选择多次"
   ]
  },
  {
   "cell_type": "code",
   "execution_count": 17,
   "metadata": {
    "pycharm": {
     "name": "#%%\n"
    }
   },
   "outputs": [
    {
     "name": "stdout",
     "output_type": "stream",
     "text": [
      "All possible Combination:  (1, 1, 1)\n",
      "All possible Combination:  (1, 1, 2)\n",
      "All possible Combination:  (1, 1, 3)\n",
      "All possible Combination:  (1, 2, 2)\n",
      "All possible Combination:  (1, 2, 3)\n",
      "All possible Combination:  (1, 3, 3)\n",
      "All possible Combination:  (2, 2, 2)\n",
      "All possible Combination:  (2, 2, 3)\n",
      "All possible Combination:  (2, 3, 3)\n",
      "All possible Combination:  (3, 3, 3)\n"
     ]
    }
   ],
   "source": [
    "# 输出重复的组合\n",
    "from itertools import combinations_with_replacement\n",
    "class arr:\n",
    "    def findCombRe(self, array):\n",
    "        for elem in combinations_with_replacement(array, 3):\n",
    "            print('All possible Combination: ', elem)\n",
    "\n",
    "x = arr()\n",
    "x.findCombRe([1, 2, 3])"
   ]
  },
  {
   "cell_type": "markdown",
   "metadata": {},
   "source": [
    "### 不放回抽取（排列）"
   ]
  },
  {
   "cell_type": "markdown",
   "metadata": {
    "pycharm": {
     "name": "#%% md\n"
    }
   },
   "source": [
    "* An(m)，n中取m个，排成一列 = n*(n-1)*(n-2)...(n-m+1) = n!/(n-m)!\n",
    "* itertools.permutations(arr,numb)，通过打乱集合中元素排列顺序生成一个元组,元组之间数值可以重复，但顺序不重复\n",
    "* numb可省略"
   ]
  },
  {
   "cell_type": "code",
   "execution_count": 13,
   "metadata": {
    "pycharm": {
     "name": "#%%\n"
    }
   },
   "outputs": [
    {
     "name": "stdout",
     "output_type": "stream",
     "text": [
      "choose 2 value from arry:  (1, 2)\n",
      "choose 2 value from arry:  (1, 3)\n",
      "choose 2 value from arry:  (2, 1)\n",
      "choose 2 value from arry:  (2, 3)\n",
      "choose 2 value from arry:  (3, 1)\n",
      "choose 2 value from arry:  (3, 2)\n",
      "choose all value from arr:  (1, 2, 3)\n",
      "choose all value from arr:  (1, 3, 2)\n",
      "choose all value from arr:  (2, 1, 3)\n",
      "choose all value from arr:  (2, 3, 1)\n",
      "choose all value from arr:  (3, 1, 2)\n",
      "choose all value from arr:  (3, 2, 1)\n"
     ]
    }
   ],
   "source": [
    "# 挨个输出'排列'组合\n",
    "from itertools import permutations\n",
    "class arr:\n",
    "    def findCombination(self,array): # outp: all permutations of arr\n",
    "        for elem in permutations(array,2):\n",
    "            print('choose 2 value from arry: ', elem)\n",
    "        \n",
    "        for elem in permutations(array):\n",
    "            print('choose all value from arr: ', elem)\n",
    "    \n",
    "x = arr()\n",
    "x.findCombination([1,2,3])"
   ]
  },
  {
   "cell_type": "markdown",
   "metadata": {},
   "source": [
    "### 不放回不重复抽取（组合）"
   ]
  },
  {
   "cell_type": "markdown",
   "metadata": {
    "pycharm": {
     "name": "#%% md\n"
    }
   },
   "source": [
    "* Cn(m), m中取n个，并成一组 = n!/m!(n-m)!\n",
    "* 使用 itertools.combinations(arr, numb) 可得到输入集合中元素的所有的组合\n",
    "* numb不可省略\n",
    "* 对于 combinations() 来讲，元组之间，数字不重复，顺序也不重复。 也就是说，组合 ('a', 'b') 跟 ('b', 'a') 其实是一样的(最终只会输出其中一个)"
   ]
  },
  {
   "cell_type": "code",
   "execution_count": 12,
   "metadata": {
    "pycharm": {
     "name": "#%%\n"
    }
   },
   "outputs": [
    {
     "name": "stdout",
     "output_type": "stream",
     "text": [
      "No repeated combimation (1, 2, 3)\n",
      "No repeated 2 value combination (1, 2)\n",
      "No repeated 2 value combination (1, 3)\n",
      "No repeated 2 value combination (2, 3)\n"
     ]
    }
   ],
   "source": [
    "# 输出不重复的组合\n",
    "from itertools import combinations\n",
    "class arr:\n",
    "    def findAllComb(self, array):\n",
    "        for elem in combinations(array, 3):\n",
    "            print('No repeated combimation', elem)\n",
    "        \n",
    "        for elem in combinations(array, 2):\n",
    "            print('No repeated 2 value combination', elem)\n",
    "\n",
    "x = arr()\n",
    "x.findAllComb([1, 2, 3])"
   ]
  },
  {
   "cell_type": "markdown",
   "metadata": {},
   "source": []
  },
  {
   "cell_type": "markdown",
   "metadata": {},
   "source": []
  },
  {
   "cell_type": "markdown",
   "metadata": {},
   "source": [
    "## 概率题"
   ]
  },
  {
   "cell_type": "markdown",
   "metadata": {},
   "source": [
    "## 计数问题"
   ]
  },
  {
   "cell_type": "markdown",
   "metadata": {},
   "source": [
    "## n-choose-k problems\n",
    "* https://medium.com/knerd/why-n-choose-k-a810ebee76d4"
   ]
  },
  {
   "cell_type": "markdown",
   "metadata": {},
   "source": [
    "# 多进制"
   ]
  },
  {
   "cell_type": "markdown",
   "metadata": {},
   "source": [
    "## 数与26个字符的转化\n",
    "* chr(number): chr(97) = a \n",
    "* ord(string): ord('a') = 97"
   ]
  },
  {
   "cell_type": "markdown",
   "metadata": {},
   "source": [
    "## 多进制\n",
    "* 二进制: bin(number) -> string\n",
    "    * bin(2) = 0b10\n",
    "    * 正数\n",
    "        * 二进制表示 bin(8) = 0b1000\n",
    "        * 计算机储存形式/计算形式：补码\n",
    "    * 负数\n",
    "        * 二进制表示 bin(-8) = -0b1000\n",
    "        * 计算机储存形式/计算形式：补码\n",
    "* 八进制：数值前面要加上一个前缀“0”\n",
    "    * a = 017\n",
    "* 十六进制: 数字前面要加上前缀0X或0x\n",
    "    * b = 0xf"
   ]
  },
  {
   "cell_type": "markdown",
   "metadata": {},
   "source": [
    "## 多进制转化为十进制\n",
    "* a = int(string, base = 2/8/...) 把string表示的base多进制转化为十进制\n",
    "    * eg. a = int(bin(2)[2:], 2) -> a = 2.[2:] **去掉前面的Ob**"
   ]
  },
  {
   "cell_type": "markdown",
   "metadata": {},
   "source": [
    "# 二进制位运算 "
   ]
  },
  {
   "cell_type": "markdown",
   "metadata": {},
   "source": [
    "## 数字的二进制表示\n",
    "* python中 int的取值范围\n",
    "    * 32位计算机 **[-2 ** 31, 2 ** 31 - 1] = [ - （1 << 31), 1 << 31 - 1] = [-2147483648, 2147483647（十位数）]**\n",
    "    * 64位计算机 -2 ** 63 - 2 ** 63 -1 = [ - （1 << 63), 1 << 63 - 1]\n",
    "    * 题目通常设定范围为  -2 ** 31 - 2 ** 31 - 1\n",
    "    * 超过范围时,自动转化为长整型,故实际上整数是无上限的\n",
    "\n",
    "* 题目常见定义\n",
    "    * 32-bit signed integers ：32位计算机的int取值范围\n",
    "    * 32 bits unsigned integer无符号整数: C/C++的特性,但整数的内部二进制表示形式（无论有符号还是无符号）都是相同的。\n",
    "        * \\>> 操作时,无需担心前面的符号位,不影响补位等操作\n",
    "            * 涉及内部二进制,故有无符号都一致\n",
    "        * bin操作时,依旧有0b的影响,需要去除\n",
    "            * 设计外部显示的二进制,故有无符号不一致\n",
    "    * 10 ** 9：在2 ** 29到2 ** 30之间。即可以用 >> 0-31&１遍历完毕"
   ]
  },
  {
   "cell_type": "markdown",
   "metadata": {},
   "source": [
    "## 基本运算\n",
    "* 位运算的优先级较低，低于加减乘除，高于赋值，故需要随时带括号"
   ]
  },
  {
   "cell_type": "markdown",
   "metadata": {},
   "source": [
    "### 原码True form，反码One's complement，补码Two's complement\n",
    "* 原码：符号位+数字\n",
    "    * 符号位 0-整数，1-负数\n",
    "    * +7 00000111\n",
    "    * -7 10000111\n",
    "* 反码:\n",
    "    * 正数：原码相同\n",
    "    * 负数：原符号位+原码各位取反\n",
    "    * 获得：~a\n",
    "* 补码\n",
    "    * 正数：与原码相同\n",
    "    * 负数：原符号位 + 原码各位取反 + 末位加1, \n",
    "    * 计算机的储存方法\n",
    "    * 从补码获得原码：补码的补码\n",
    "* 总结\n",
    "    * 由于负数补码较复杂，leetcode的位运算题目都是基于正数的补码"
   ]
  },
  {
   "cell_type": "markdown",
   "metadata": {},
   "source": [
    "### \\<<  左移\n",
    "* n << k, n向左移动k位\n",
    "    * 0b1010 << 2 = 0b101000 = 40  0b1 << 4 = 0b10000 = 16\n",
    "    * 右操作数必须是非负值，其右边空出的位用0填补，高位左移溢出则舍弃该高位\n",
    "* 数学关系：左移相当于*2，只是要注意边界问题\n",
    "    * a << b 相当于 a * 2**b\n",
    "        * **2**5 = 1 << 5**\n",
    "    * 2 = 0b10 << 1 -> 0b100 = 4"
   ]
  },
  {
   "cell_type": "markdown",
   "metadata": {},
   "source": [
    "### \\>>   右移\n",
    "* n >> k，n向右移动k位\n",
    "    * 0b111111 >> 3 = 0b111 = 7  0b1111 >> 1 = 0b111 = 7\n",
    "* 数学关系：右移相当于除以2，只是要注意移位比较多的时候结果会趋近去一个非常小的数，如上面结果中的-1，0。\n",
    "    * 6 = 0b110 >> 1 = 0b11 = 3\n",
    "* 功能\n",
    "    * **取符号位判断正负：a >> 31, 为0，则正数；为-1，则负数**\n",
    "        * 理由：a>>31为a除以2^31，若a为正，结果约等于0，若a为负，结果约等于-1"
   ]
  },
  {
   "cell_type": "markdown",
   "metadata": {},
   "source": [
    "### &  与\n",
    "* 如果两个相应的二进制位都为1，则该位的结果值为1，否则为0\n",
    "* 功能\n",
    "    * 把第n位设0：&n个0\n",
    "        * 把倒数第n位（0开始）变为0；a = b | 0+ （n-1) * 1 = b | ～(1+ (n-1)*0) = b | ~(1 << n)\n",
    "        * 使最后一位为0：a & ~ 1,~ 1 = 111111110 \n",
    "    * 保留n位原值：&n个1，相当于0b0001\n",
    "        * **取最后一位：a >> 0 & 1**\n",
    "        * **取指定后第n位：a >> n - 1 & 1， 记住是n - 1**\n",
    "        * **循环取a的所有位（补码）： for i in range(32): b = a >> i, return b & 1 . 结果从最低1位开始，到第32位**\n",
    "    * 判断某位为0或1：&1\n",
    "         * 若1，为1\n",
    "         * 若0，为0\n",
    "    * **消掉最后一位有效的1： n & n - 1**"
   ]
  },
  {
   "cell_type": "markdown",
   "metadata": {},
   "source": [
    "### |   或 \n",
    "* 两个相应的二进制位中只要有一个为1，该位的结果值为1\n",
    "* 功能\n",
    "    * 把第n位设1 |n个1\n",
    "        * 把倒数第n位（0开始）变为1：a = b|(1+ (n-1)*0) = b\\ 2的n次方 = b \\ 1 << n\n",
    "        * eg. a = b | 10，a的倒数第二位变为1\n",
    "    * 保留n位原值：|n个0"
   ]
  },
  {
   "cell_type": "markdown",
   "metadata": {},
   "source": [
    "### ^   异或 XOR\n",
    "* 若参加运算的两个二进制位值不同为1，相同为0\n",
    "* 结合律 x^y^z = (x^y)^z = x^(y^z)\n",
    "* 交换律 x^y = y^x\n",
    "* 对于任何数 x^x = 0, x^0 = x\n",
    "* **自反性 x^y^y = x^0 = x**\n",
    "    * 实现交换两个值(不常用) a = a ^ b;b = a ^ b;a = a ^ b; -> a = b\n",
    "* 功能\n",
    "    * 保留n位原值：^n个0\n",
    "    * **取反** n位：^n个1\n",
    "    * 判断两数是否相等: a^b = 0则相等\n",
    "    * x^y = z，已知x，z，求y\n",
    "        * x^x^y = y = x^z"
   ]
  },
  {
   "cell_type": "markdown",
   "metadata": {},
   "source": [
    "### ~   取反\n",
    "* 0变1，1变0\n",
    "    * 对数字的补码（计算机中的储存形式）形式进行取反\n",
    "    * 不是对数字的二进制形式进行取反\n",
    "* ~n = -n-1\n",
    "* 15 = 0001111 -> ~15 = 111000 = -16"
   ]
  },
  {
   "cell_type": "markdown",
   "metadata": {},
   "source": [
    "### 运算优先级\n",
    "* 取反 > 乘除 > 加减 > 左移/右移 > 并 > 或/异或 > 比较大小\n",
    "* 分不清就及时加括号"
   ]
  },
  {
   "cell_type": "markdown",
   "metadata": {},
   "source": [
    "## 题目总结"
   ]
  },
  {
   "cell_type": "markdown",
   "metadata": {},
   "source": [
    "### 技巧和算法"
   ]
  },
  {
   "cell_type": "markdown",
   "metadata": {},
   "source": [
    "* 优点\n",
    "    * 时间复杂度低\n",
    "        * 全部遍历32bit 只要 **tO(32) = O(1)**\n",
    "    * 空间复杂度低\n",
    "        * 运算是数数运算，只要 **sO(1)**"
   ]
  },
  {
   "cell_type": "markdown",
   "metadata": {},
   "source": [
    "* 加法\n",
    "    * 不进位情况下, a + b = XOR a^b \n",
    "    * 进位情况下，a + b =( a & b ) << 1\n",
    "求数\n",
    "    * 求01有关数\n",
    "        * 渐进式或置1式求n*1（求长度为n的全1数）\n",
    "            * mask = 1 基底0 res = 0\n",
    "            * for _ range(n): \n",
    "                * res = res | mask # 第二个res是n-1位全是1的数，mask是n位首位为1的数，第1个res是n位全是1的数\n",
    "                * mask = mask << 1\n",
    "            * return res\n",
    "        * 求第右i位为1的数\n",
    "            * 1 << i\n",
    "        * 修改右i位为1 （或置1式）\n",
    "            * 修改res,res = res | 1 << i\n",
    "        * 求全1的最大值(1的最长值)\n",
    "            * (1 << 31) - 1\n",
    "        * 求左边全为1 右边i个0的数\n",
    "            * 求全1的最大值\n",
    "            * 再 m << i,来调整右边为i个0的数量\n",
    "\n",
    "    * 求某位数\n",
    "        * 求某i位数\n",
    "            * **a >> i & 1**，不是a >> i\n",
    "        * 求最后一位数 \n",
    "            * a & 1\n",
    "        * 取所有位\n",
    "            * 左移循环 for i in range(32): n >> i & 1\n",
    "    * 求补法（异或01互转）\n",
    "        * ^1异或求补，即01互转   \n",
    "    * 求绝对值\n",
    "        * 取符号位判断正负 i = a >> 31, i为0，正数；i为-1，负数\n",
    "        * 返回 (a^i) - i\n",
    "            * 若正数，a^i = a，i = 0, 故返回a\n",
    "            * 若负数，a^i = a^(-1) = ~a, ~a - i = ~a - (-1) = ~a + 1\n",
    "* 判断\n",
    "    * 判断奇偶：\n",
    "        * 只需根据最后位是0还是1来决定，0偶数，1奇数\n",
    "        * &1，为1则是1，为奇数，为0则是0，为偶数\n",
    "        * |0，为1则是1，为奇数，为0则是0，为偶数\n",
    "        * ^0，为1则是1，为奇数，为0则是0，为偶数\n",
    "        * ^1, 为0则是1，为奇数，为1则是0，为偶数\n",
    "    * 判断正负\n",
    "        * a>>31， 若0，为正，若-1，为负\n",
    "    * 判断右侧n个是否全为1\n",
    "        * 进一位求交 a & (a + 1)\n",
    "            * 进一位后，n个1变为1 + n个0，此时求交即可\n",
    "            * if == 0，true，全是1\n",
    "            * if != 0, Fasle, 不全是1\n",
    "    * 判断两数不等\n",
    "        * 异或^不为0\n",
    "            * 区分两数：异或结果的二进制位中至少1位是1,设此位为i, 两数的第i位上,一个为1,一个为0,由此区分两个数\n",
    "    * 判断数字a, b的哪些前几位是否相同\n",
    "        * 先获得最长的全为1的数 mask = (1 << 31) - 1\n",
    "        * 再 mask << i,来调整右边为i个0的数量的同时，比较a & mask 和b & mask是否相同。--》 从右到左观察，改变a和b右边i个为0，观察左边31-i个是否相同 -> 若相同，则输出i\n",
    "        * 输出的结果是：i，即右边i个不同，左边31-i个相同；mask为左边31-i个1，右边i个0\n",
    "                mask = (1 << 31) - 1\n",
    "            while (m & mask) != (n & mask):\n",
    "                mask = mask << 1\n",
    "* 消除\n",
    "    * 消偶数次的数, 即求出现奇数次的数值\n",
    "        * 解释：一组数，只有一个值出现奇数次，其余的数出现偶数次，求该数字\n",
    "        * 做法：挨个异或^,输出剩下的结果\n",
    "     * 消去最右1: n & n - 1\n",
    "* 改变\n",
    "    * 交换两数，不用额外变量\n",
    "        * a = a^b, b = a^b, a = a^b -> a = b\n",
    "    * 变换符号：正数变负数，负数变正数\n",
    "        * 取反加1\n",
    "        * a = 5，b = ~a + 1，b = -5\n",
    "    * bin修改\n",
    "        * 基本流程\n",
    "            1. 去掉前面的0b：bin(n)[2:]\n",
    "            * 对剩下的进行操作\n",
    "            * 转回二进制：int(string, 2)\n",
    "* 其他\n",
    "    * 二进制数分布法\n",
    "        * 从0到n的二进制数的01分布跟是否放回的全部子集情况相同\n",
    "        * 故通过该二进制数位是否为一来确定是否放数"
   ]
  },
  {
   "cell_type": "markdown",
   "metadata": {},
   "source": [
    "### 注意要点\n",
    "* 位运算比/运算快，所以可对以下代码进行优化: x=x/2; -> x=x>>1;"
   ]
  },
  {
   "cell_type": "markdown",
   "metadata": {},
   "source": [
    "## 题目类型"
   ]
  },
  {
   "cell_type": "markdown",
   "metadata": {},
   "source": [
    "* 汉明权重\\距离 Hamming Weight\\Distance\n",
    "    * 汉明权重：本字符串中与所用字母的零符号不同的符号数。因此，它等于到相同长度的全零字符串的汉明距离。\n",
    "    * 汉明距离：两个字符串，对应位置不一样的个数\n",
    "    * 在无符号整数中,求1个数 191. Number of 1 Bits.py\n",
    "        * bin(n).count('1') \n",
    "            * 无符号, 故没有前面的0b\n",
    "        * 左移循环取所有位,判断1,累加1次数\n",
    "            * 可以添加 左移结果是否为0的判断,提前终止循环\n",
    "        * 消去最右1,判断结果是否为0, 累计消去次数\n",
    "    * 两个数的汉明距离 461. Hamming Distance.py\n",
    "         * 左移循环取所有位,并比较\n",
    "         * 异或,求1个数(191题)\n",
    "    * !求一组数中，两两个数中的汉明距离的和 477. Total Hamming Distance.py\n",
    "         * 两两求汉明距离,再求和 tO(N**\\2)\n",
    "         * 左移循环取所有位,循环求0个数a和1个数b,a和b的组合数a*b即结果"
   ]
  },
  {
   "cell_type": "markdown",
   "metadata": {},
   "source": [
    "* 只出现一次的数字\n",
    "    * 一组数,一个数只出现1次,其余的数都出现2次,求这个数 136. Single Number.py\n",
    "        * dic保存法 sO(N)\n",
    "        * 异或消偶数次法 sO(1)\n",
    "    * ! 一组数,一个数只出现1次，其余的数都出现**3**次，求这个数 137. Single Number II.py\n",
    "        * dic保存法 sO(N)\n",
    "        * 状态机处理3次的数 sO(1)\n",
    "            * for elem in nums: b = (b ^ elem) & ~a, a = (a ^ elem) & ~b, return b\n",
    "    * !一组数,两个数只出现1次，其余的数都出现2次，求这两个数 260. Single Number III.py\n",
    "        * dic保存法 sO(N)\n",
    "        * 异或消偶数次法,两数不等性质得到i,分两组,分开求两组中的1次数 s(1)"
   ]
  },
  {
   "cell_type": "markdown",
   "metadata": {},
   "source": [
    "* 反转相关问题\n",
    "    * !转置数字的二进制表示 190. Reverse Bits.py\n",
    "        * bin修改, zfill(32)左补零, int转十进制\n",
    "        * 基底0,扫描n,i位1,修改右31-i位为1\n",
    "    * ！求二进制数的补，没有前导0 476. Number Complement.py\n",
    "        * bin修改，01互转\n",
    "        * 异或求补法，渐进式或置1式求n*1\n",
    "* 判断二进制数结构\n",
    "    * ！判断一个数的二进制形式，是不是01相间 693. Binary Number with Alternating Bits.py\n",
    "        * bin修改，判断01相间\n",
    "        * a = n^(n>>1),判断右侧n个是否全为1\n",
    "* 全组合问题\n",
    "    * 求数组中所有可能性的组合 78. Subsets.py\n",
    "        * 回溯法 t(O(N*2**N)) sO(2**N)\n",
    "        * 二进制数分布法 t(O(N*2**N)) sO(2**N)\n",
    "* 数学相关问题\n",
    "    * ！ 不用乘除mod计算商 29. Divide Two Integers.py\n",
    "        * 判断正负号，求abs，计算除数\n",
    "    * ！不用加减计算和 371. Sum of Two Integers.py\n",
    "        * 拆成无进位和进位结果\n",
    "        * 无进位用 sum = a^b\n",
    "        * 进位用 carry = (a & b) << 1\n",
    "        * a = sum % (1 << 32), b = carry % (1 << 32)\n",
    "    * ！&范围内[m, n]的数 201. Bitwise AND of Numbers Range.py\n",
    "        * 逐个&，tO(N)\n",
    "        * 求全1最长值，从低位到高位判断从哪一位开始m和n相同，即求&结果 tO(1)\n",
    "            * 从低位到高位的判断：求左边全为1 右边i个0的数，再与m和n求交判断"
   ]
  },
  {
   "cell_type": "markdown",
   "metadata": {},
   "source": [
    "\n",
    "# 操作系统\n",
    "* 了解流程，线程和并发问题。 \n",
    "* 了解锁，互斥，信号量和监视器以及它们如何工作。\n",
    "* 了解死锁和活锁以及如何避免死锁。 \n",
    "* 知道进程需要什么资源，线程需要什么，上下文切换如何工作，以及操作系统和底层硬件如何启动它。 \n",
    "* 了解有关调度的知识。 https://www.tutorialspoint.com/operating_system/os_process_scheduling_algorithms.htm\n",
    "* 世界正迅速向多核迈进，因此请了解“现代”并发构造的基础。"
   ]
  },
  {
   "cell_type": "markdown",
   "metadata": {},
   "source": [
    "# APIs, OOD"
   ]
  },
  {
   "cell_type": "markdown",
   "metadata": {},
   "source": [
    "* 求二进制某i位数\n",
    "    * **a >> i & 1**，不是a >> i\n",
    "    * 求最后一位数 a & 1"
   ]
  },
  {
   "cell_type": "markdown",
   "metadata": {},
   "source": [
    "* 求出现奇数次的数值\n",
    "    * 解释：一组数，只有一个值出现奇数次，其余的数出现偶数次，求该数字\n",
    "    * 做法：挨个异或^,输出剩下的结果"
   ]
  },
  {
   "cell_type": "markdown",
   "metadata": {},
   "source": [
    "### 作用\n",
    "* 位运算比/运算快，所以可对以下代码进行优化: x=x/2; -> x=x>>1;\n",
    "* 还可利用右移运算符计算a的第b个二进制位是什么: (a>>b)&1;\n",
    "* "
   ]
  },
  {
   "cell_type": "markdown",
   "metadata": {},
   "source": [
    "## 题目类型"
   ]
  },
  {
   "cell_type": "markdown",
   "metadata": {},
   "source": [
    "* 汉明权重\\距离 Hamming Weight\\Distance\n",
    "    * 汉明权重：本字符串中与所用字母的零符号不同的符号数。因此，它等于到相同长度的全零字符串的汉明距离。\n",
    "    * 汉明距离：两个字符串，对应位置不一样的个数"
   ]
  },
  {
   "cell_type": "markdown",
   "metadata": {},
   "source": [
    "\n",
    "# 操作系统\n",
    "* 了解流程，线程和并发问题。 \n",
    "* 了解锁，互斥，信号量和监视器以及它们如何工作。\n",
    "* 了解死锁和活锁以及如何避免死锁。 \n",
    "* 知道进程需要什么资源，线程需要什么，上下文切换如何工作，以及操作系统和底层硬件如何启动它。 \n",
    "* 了解有关调度的知识。 https://www.tutorialspoint.com/operating_system/os_process_scheduling_algorithms.htm\n",
    "* 世界正迅速向多核迈进，因此请了解“现代”并发构造的基础。"
   ]
  },
  {
   "cell_type": "markdown",
   "metadata": {},
   "source": [
    "# APIs, OOD"
   ]
  },
  {
   "cell_type": "markdown",
   "metadata": {},
   "source": [
    "# Google面试官方指南"
   ]
  },
  {
   "cell_type": "markdown",
   "metadata": {},
   "source": [
    "## 电面\n",
    "* 与潜在的同僚或上司面，即专业面试\n",
    "* 持续30-60mins\n",
    "* 使用Google Doc,并建议使用扩音器或者耳机\n",
    "* 面试内容是数据结构和算法\n",
    " * 开放式问题，我来明确问题，设计要求 \n",
    " * 用一种算法来解释这个问题\n",
    " * 写代码.\n",
    "  * 能写多少写多少，先写大框架，然后再完善 ？(write what comes and but then refine it later)\n",
    "  * 需要考虑corner case(和 edge case，二者不同)\n",
    "  * 考虑生产就绪(prodcuton ready) --> 很稳定，可维护的(用类？)，可扩展的（用类？），有记录（注释？）\n",
    " * 优化代码，然后测试并寻找bugs  --> 没有follow up题目？"
   ]
  },
  {
   "cell_type": "markdown",
   "metadata": {},
   "source": [
    "## 现场面试"
   ]
  },
  {
   "cell_type": "markdown",
   "metadata": {},
   "source": [
    "### BQ\n",
    "* 见BQ总结"
   ]
  },
  {
   "cell_type": "markdown",
   "metadata": {},
   "source": [
    "### 写代码"
   ]
  },
  {
   "cell_type": "markdown",
   "metadata": {},
   "source": [
    "#### 内容\n",
    "* 代码技巧\n",
    "* 科技领域的专业知识\n",
    " * 关于工具的知识，关于编程语言的知识 --> ML框架如何使用？Python语言的特性？！！！\n",
    " * 会进行来回讨论，而不是固定某一种想法 --> 交流思路，不仅听面试官的思路，也阐述自己的 ！！！\n",
    " * 会深度的讨论我的方法 --> 思考问题的时候，要深入，找到最优的办法 ！！！"
   ]
  },
  {
   "cell_type": "markdown",
   "metadata": {},
   "source": [
    "#### 过程\n",
    "* 整个过程中，都要无拘束的问面试官问题，来保证完全理解了他们的问题 ！！！\n",
    "* 我们问问题时，也可以自由发问。内容可以包括：团队，文化等。这样利于判断这个工作是否适合我。！！！"
   ]
  },
  {
   "cell_type": "markdown",
   "metadata": {},
   "source": [
    "## BQ准备方法"
   ]
  },
  {
   "cell_type": "markdown",
   "metadata": {},
   "source": [
    "* 可以预测百分之九十的问题, Google 'most common interview question',并列出前20个问题！！！\n",
    "  * 参考 27 Most Common Job Interview Questions and Answers _ Inc.com.pdf\n",
    "* 写答案并熟记：针对列出的每个问题，写出答案，并熟记，能够快速的回答出来。！！！\n",
    "* 有备份方案：针对每个问题，写出三个答案！！！\n",
    " * 针对一个问题，需要不同的，同样优质的答案，这个可以保证第一个面试官不喜欢的时候，第二个可以听到不同的答案。\n",
    "* 针对coding -- 充分的解释：为了让他们理解我的思维过程，故解释我的思路和决定。 -- 针对coding\n",
    " * Google不仅评价技术能力，而且评价我们思考问题和试图解决问题的能力。！！\n",
    " * 要清晰的陈述和确认问题的假设，去明确问题是合理的 --> 即确认问题的corner case等\n",
    "* 事实支持：每一个问题的回答都要有故事/具体做了什么来进行论证。"
   ]
  },
  {
   "cell_type": "markdown",
   "metadata": {},
   "source": [
    "* 针对coding -- 细化并确认问题。\n",
    " * 大部分的问题是开放式的，目的是了解我们对问题的类别和信息了解多少 --> 熟悉DS和算法类别，熟悉题型。\n",
    " * 考察思考思考问题和解决问题的主要方法 --> 把思考问题的过程说出来（idea和method中），并大胆的去问考官来确认问题！！！"
   ]
  },
  {
   "cell_type": "markdown",
   "metadata": {},
   "source": [
    "* 针对coding -- 改进答案过程\n",
    " * 先brute force，后优化方法，并且解释在做什么和为什么这么做 --> 做什么：method，为什么：降低time/space complexity！！！\n",
    " * 大声思考对问题的最初想法 --> 考察对DS和算法的掌握，e.g.某某是一类问题，通常用...来解决"
   ]
  },
  {
   "cell_type": "markdown",
   "metadata": {},
   "source": [
    "* 练习：大声练习面试答案，直到您可以清楚简洁地讲出每个故事"
   ]
  },
  {
   "cell_type": "markdown",
   "metadata": {},
   "source": [
    "## coding的准备方法"
   ]
  },
  {
   "cell_type": "markdown",
   "metadata": {},
   "source": [
    "### Coding练习\n",
    " * 问HR用白板还是Chromebook\n",
    " * 不要太看重小的语法问题，告诉面试官即可 "
   ]
  },
  {
   "cell_type": "markdown",
   "metadata": {},
   "source": [
    "###  Coding\n",
    " * 起码掌握一种编程语言\n",
    " * 知道APIs，OOD(Object Orientated Design),编程。知道如何测试code，想出合适的corner case（包含edge case）！！"
   ]
  },
  {
   "cell_type": "markdown",
   "metadata": {},
   "source": [
    "### 算法\n",
    " * 整体思路：从上到下，或者从下到上 --> 进一步明确这个概念\n",
    "     * 自上而下：递归，分治等\n",
    "     * 自下而上：DP等\n",
    " * 知道复杂度，并知道如何优化，改变（变的更大？同级改变）\n",
    " * 类别\n",
    "    * 排序，搜索，二分搜索 sorting (plus searching, and binary search)\n",
    "    * 分治法 divide-and-conquer\n",
    "    * 动态规划/记忆，简而言之就是动态规划\n",
    "        * Memoization is a term describing an optimization technique where you cache previously computed results, and return the cached result when the same computation is needed again.\n",
    "        * Dynamic programming is a technique for solving problems of recursive nature, iteratively and is applicable when the computations of the subproblems overlap.\n",
    "        * Dynamic programming is typically implemented using tabulation, but can also be implemented using memoization. So as you can see, neither one is a \"subset\" of the other.\n",
    "    * 贪心\n",
    "    * 递归\n",
    "    * 有关特殊数据结构的算法\n",
    "        * 比如链表的特殊算法，slow-fast pointer法等\n",
    " * 了解Big-O表示法，并准备讨论复杂的算法，比如 Dijkstra 和 A* search algorithm。--> 知道这两个算法的都是查找最短路径的，工作原理，复杂度。不用应用。！！！\n",
    " * 在编写代码之前讨论或概述要考虑的算法 --> 与mock的过程一致"
   ]
  },
  {
   "cell_type": "markdown",
   "metadata": {},
   "source": [
    "### 排序\n",
    " * 熟悉常见的排序函数和其擅长的数据输入类型！！！\n",
    "  * 了解每种排序方法的时间/空间复杂度，e.g. 例如，在特殊情况下，插入排序或基数排序要比通用的QuickSort / MergeSort / HeapSort答案好得多。"
   ]
  },
  {
   "cell_type": "markdown",
   "metadata": {},
   "source": [
    "### 数据结构\n",
    " * 掌握尽可能多的数据结构，最常用的如下\n",
    "  * list\n",
    "  * 链表\n",
    "  * stacks 堆栈\n",
    "  * queue 队列\n",
    "  * 哈希集，哈希图，哈希表，字典\n",
    "  * tree/ binary tree\n",
    "  * heap\n",
    "  * graph 图\n",
    " * 您应该了解内在的数据结构，以及每种数据结构倾向于使用哪些算法 ！！！ --> 了解每种数据结构增删查并改的复杂度，和每种数据结构倾向于使用哪种算法。"
   ]
  },
  {
   "cell_type": "markdown",
   "metadata": {},
   "source": [
    "### 数学 ！！！\n",
    " * 一些面试官会问离散数学问题 basic discrete math\n",
    "  * 这个在谷歌很流行，因为counting problem，probability，and other Discrete Math 101 situation surround us.\n",
    " * 在面试之前，花一些时间学习 the essentials of elementary probability theory and combinatorics. \n",
    " * 熟悉 n-choose-k problems and their ilk.熟悉n-choose-k问题及同类的问题。 "
   ]
  },
  {
   "cell_type": "markdown",
   "metadata": {},
   "source": [
    "### 图！！！\n",
    " * 考虑一个问题是否可以用图算法解决\n",
    "  * 例如 距离问题，搜索问题，联通性问题，环探测问题。 distance, search, connectivity, cycle-detection, etc\n",
    " * 表示一个图有三种方法，objects and pointers, matrix, adjacency list 对象和指针，矩阵，邻接表\n",
    "  * 熟悉每种的表示方法 each representation\n",
    "  * 熟悉每种的优缺点 its pros and cons\n",
    " * 知道基本的图遍历方法:DFS 和 BFS\n",
    "  * 知道计算复杂度，及时空权衡 computational complexity, their tradeoffs\n",
    "   * 可以降低算法的时间复杂度以换取更大的空间，或减少消耗的空间以换取较慢的执行\n",
    "  * 知道如何在代码中实现"
   ]
  },
  {
   "cell_type": "markdown",
   "metadata": {},
   "source": [
    "### 递归\n",
    " * 很多问题涉及到递归思想和潜在递归解法\n",
    "  * 使用递归去找到比迭代更优雅的解法。"
   ]
  },
  {
   "cell_type": "markdown",
   "metadata": {},
   "source": [
    "# 面试准备技巧 Interview Preparation Tips"
   ]
  },
  {
   "cell_type": "markdown",
   "metadata": {},
   "source": [
    "## 成功的关键\n",
    "* 在谷歌，我们坚信合作和分享思想。最重要的是：你需要从面试官那得到更多的信息，从而全面的分析和回答问题。"
   ]
  },
  {
   "cell_type": "markdown",
   "metadata": {},
   "source": [
    "## 技巧"
   ]
  },
  {
   "cell_type": "markdown",
   "metadata": {},
   "source": [
    "* 可以问面试官问题\n",
    "* 当被要求给出解决方案时，首先定义问题，及划定范围\n",
    "* 如果不理解，请寻求帮助，或者要求进一步要求细化问题。\n",
    "* 如果需要假设什么，需要检查这个假设是否成立！\n",
    "* 描述解决方案的细节，问题的每个部分都是如何解决的\n",
    "* 总是让面试官知道你在想什么，因为他/她对你的思考过程和解决方案同样会感兴趣。另外，如果你被困住了，他们可能会在他们知道你在做什么时提供提示。\n",
    "* 最后，注意聆听，如果你的面试官试图帮助你，不要错过任何提示！"
   ]
  },
  {
   "cell_type": "markdown",
   "metadata": {},
   "source": [
    "## 技术要求"
   ]
  },
  {
   "cell_type": "markdown",
   "metadata": {},
   "source": [
    "### 算法复杂度\n",
    "* 了解大O"
   ]
  },
  {
   "cell_type": "markdown",
   "metadata": {},
   "source": [
    "### 排序\n",
    "* 知道如何排序\n",
    "* 不做泡沫排序\n",
    "* 知道至少一种nlogn排序算法的细节，最好是两种（例如，快速排序和合并排序）。在无法进行快速排序的情况下，合并排序可能非常有用，因此请查看一下。"
   ]
  },
  {
   "cell_type": "markdown",
   "metadata": {},
   "source": [
    "### 哈希表系列\n",
    "* 可以说是人类已知的最重要的单一数据结构。绝对应该知道它们的工作方式。\n",
    "* 能够在面试中使用哈希表--> 使用dic，以及hash()函数"
   ]
  },
  {
   "cell_type": "markdown",
   "metadata": {},
   "source": [
    "### Tree\n",
    "* 熟悉二叉树，n元树和trie树\n",
    "* 熟悉至少一种类型的平衡二叉树，无论是红色/黑色树，八角树还是AVL树，并了解其实现方式。\n",
    "* 了解树遍历算法：BFS和DFS，并了解有序，后序和中序之间的区别。"
   ]
  },
  {
   "cell_type": "markdown",
   "metadata": {},
   "source": [
    "### Graph\n",
    "* 图对Google很重要\n",
    "* 如果有机会，请尝试研究更高级的算法，例如Dijkstra和A*。"
   ]
  },
  {
   "cell_type": "markdown",
   "metadata": {},
   "source": [
    "### 其他数据结构\n",
    "* 您应该特别了解最著名的NP完全问题类别，例如旅行推销员和背包问题，并且当面试官变相询问您时能够识别它们。找出NP-complete的含义。"
   ]
  },
  {
   "cell_type": "markdown",
   "metadata": {},
   "source": [
    "### 数学\n",
    "* 一些面试官提出基本的离散数学问题。与其他公司相比，这在Google中更为普遍"
   ]
  },
  {
   "cell_type": "markdown",
   "metadata": {},
   "source": [
    "### 操作系统\n",
    "* 了解流程，线程和并发问题。 \n",
    "* 了解锁，互斥，信号量和监视器以及它们如何工作。\n",
    "* 了解死锁和活锁以及如何避免死锁。 \n",
    "* 知道进程需要什么资源，线程需要什么，上下文切换如何工作，以及操作系统和底层硬件如何启动它。 \n",
    "* 了解有关调度的知识。 https://www.tutorialspoint.com/operating_system/os_process_scheduling_algorithms.htm\n",
    "* 世界正迅速向多核迈进，因此请了解“现代”并发构造的基础。"
   ]
  },
  {
   "cell_type": "markdown",
   "metadata": {},
   "source": [
    "# Google面试准备完全指南 Google Interview Preparation For Software Engineer – A Complete Guide"
   ]
  },
  {
   "cell_type": "markdown",
   "metadata": {},
   "source": [
    "## 重点\n",
    "* 问题解决和编程技巧（DS和算法），Googlyness（包含了对技术的热情，好奇心，道德，友善，良好的素质等等）是必备的\n",
    "*  软件工程师或SWE-II（L3）是入门级的全职软件工程师。 在这个级别上，有4或5个现场回合，他们可能会提出设计问题，但通常不会。\n",
    "* 检查Google教育团队发布的技能列表，他们期望潜在的工程师\n",
    "    * https://techdevguide.withgoogle.com/\n",
    "* 面试官受过训练，不会对您的答案做出反应，因此不要期望回答是或否。因此请准备好自己，看看冷酷的面孔。"
   ]
  },
  {
   "cell_type": "markdown",
   "metadata": {},
   "source": [
    "## 让Google注意自己"
   ]
  },
  {
   "cell_type": "markdown",
   "metadata": {},
   "source": [
    "* 单页简历，只包括相关工作。尽可能简短，精确。不要做假。提到项目时，要提到项目的复杂度。\n",
    "    * https://www.geeksforgeeks.org/resume-building-resources-and-tips/\n",
    "* 可以参与 Google Kickstart or Google Code Jam，如果在Google Code Jam中，到达第二轮，可能会被Google Hr练习\n",
    "* 保持Linkedin, Github的更新。\n",
    "    * https://www.youtube.com/watch?v=BYUy1yvjHxE&t=69s"
   ]
  },
  {
   "cell_type": "markdown",
   "metadata": {},
   "source": [
    "## 电面"
   ]
  },
  {
   "cell_type": "markdown",
   "metadata": {},
   "source": [
    "* 平均是两轮\n",
    "* 可能会有两题，写完起码一题\n",
    "* 先brute force，后优化，并考虑时空复杂度\n",
    "* 在 Google Doc上练习，无indentation,syntax highlight and auto-completion.\n",
    "* 大声说出自己的想法，吐字清晰（困难点），告诉idea和method"
   ]
  },
  {
   "cell_type": "markdown",
   "metadata": {},
   "source": [
    "## 现场面试"
   ]
  },
  {
   "cell_type": "markdown",
   "metadata": {},
   "source": [
    "* 4-6轮，包括lunch interviews, lunch不是真正的面试，仅仅是与Google的接触\n",
    "* 每轮持续45min到1hour\n",
    "* 面试内容两种类型：1.技术编程/一般分析问题。2.BQ"
   ]
  },
  {
   "cell_type": "markdown",
   "metadata": {},
   "source": [
    "### 技术编程/一般分析问题 Technical Coding and General Analysis Question"
   ]
  },
  {
   "cell_type": "markdown",
   "metadata": {},
   "source": [
    "* 技术编程是指编程问题，考察使用DS和算法解决真实问题的能力。期待到达最优解\n",
    "* 一般分析问题是指数学、设计、基于观点的问题，目的是考察思维过程和作为员工的工作方式\n",
    "* 建议使用Cracking the Coding Interview，并在如下网站练习\n",
    "    * https://practice.geeksforgeeks.org/explore/?company%5B%5D=Google&page=1\n",
    "    * https://careercup.com/\n",
    "* 其余参考《面试准备技巧》"
   ]
  },
  {
   "cell_type": "markdown",
   "metadata": {},
   "source": [
    "### 系统设计问题"
   ]
  },
  {
   "cell_type": "markdown",
   "metadata": {},
   "source": [
    "* 测试您设计和扩展基于技术的系统（例如设计Gmail，youtube，uber等）的整体能力。\n",
    "* 参考 http://blog.gainlo.co/index.php/category/system-design-interview-questions/\n",
    "* 参考 《Gainlo 面试指南》\n",
    "* L4/L3 OO design quesion 和 系统设计相关的问题。\n",
    "* 在Google中，可扩展性始终很重要。 因此，期望设计问题对于大型系统将是一个模棱两可的现实世界问题。 他们正在寻找思考的过程，以及如何分解事物以最终获得过于富有创意和可扩展性的解决方案。"
   ]
  },
  {
   "cell_type": "markdown",
   "metadata": {},
   "source": [
    "## 程序员要求"
   ]
  },
  {
   "cell_type": "markdown",
   "metadata": {},
   "source": [
    "* “我们不单单寻找解决已知问题的程序员，我们更感兴趣能够解决未知问题的程序员”"
   ]
  },
  {
   "cell_type": "markdown",
   "metadata": {},
   "source": [
    "### 重点\n",
    "* 面试官在接受面试时通常会有一种心态，即如果他/她可以与应聘者一起每天工作，那么请不要在面试时表现出傲慢或自我的迹象。\n",
    "* 面试官将在实施代码时检查您是否使用了合适的数据结构和算法。\n",
    "* 面试官将注意到您如何优化解决方案，有关编程语言选择的知识，编码速度，错过的任何极端情况以及如何分析时间和空间复杂性的方法。\n",
    "* 他们将检查您如何传达您的思维过程以逻辑方式解决特定问题。 \n",
    "* 他们还将检查您是否能够抓住提示并能够继续解决问题。\n",
    "* 候选人是否愿意接受新想法？ 候选人在解决方案上是否灵活？"
   ]
  },
  {
   "cell_type": "markdown",
   "metadata": {},
   "source": [
    "### 面试评估标准\n",
    "* 面试后，所有反馈都是从不同的面试官那里收集的，然后您在一系列不同类别中的评分为1-4，其中包括您的编码经验和分析能力。然后，将此反馈发送给招聘委员会以做出最终决定。"
   ]
  },
  {
   "cell_type": "markdown",
   "metadata": {},
   "source": [
    "### 提示\n",
    "* 在整个面试中学习“大声思考”，否则面试官将不知道您在想什么。向面试官展示您对问题的思考过程以及解决问题所要遵循的方法。\n",
    "* 通过在纸或白板上编写代码进行练习。它会在面试过程中真正为您提供帮助。\n",
    "* 永远不要说你做不到。即使存在您之前从未解决过的问题，或者似乎无法解决的问题，请从不同的角度来不断解决问题，面试官会给您提示。但是，如果您说无法解决问题，那将是一个很大的危险信号，并且您最终可能会被拒绝。\n",
    "* 在跳转到解决方案之前，请务必提出相关问题，以使其更加清晰。在前往解决方案之前，请务必与面试官核对您的假设并清除所有疑问。\n",
    "* 我们强烈建议您不要编写伪代码来设计代码。在45分钟的采访中，您没有时间这样做。"
   ]
  },
  {
   "cell_type": "markdown",
   "metadata": {},
   "source": [
    "### 有用的链接\n",
    "* Google面试准备题目 https://www.geeksforgeeks.org/google-interview-preparation/\n",
    "* 面试经验 https://www.geeksforgeeks.org/tag/google/\n",
    "* code练习 https://www.geeksforgeeks.org/practice-for-cracking-any-coding-interview/"
   ]
  },
  {
   "cell_type": "markdown",
   "metadata": {},
   "source": [
    "# Gainlo 面试指南"
   ]
  },
  {
   "cell_type": "markdown",
   "metadata": {},
   "source": [
    "## 获得面试机会"
   ]
  },
  {
   "cell_type": "markdown",
   "metadata": {},
   "source": [
    "* 时间点很重要\n",
    "* 推荐是关键\n",
    "* 简历：简洁和易懂 - 描述清楚，同时给人们一些复杂的印象"
   ]
  },
  {
   "cell_type": "markdown",
   "metadata": {},
   "source": [
    "## 构建扎实的基础"
   ]
  },
  {
   "cell_type": "markdown",
   "metadata": {},
   "source": [
    "### 最短路径\n",
    "* 把重点放在计算机科学的基础上\n",
    "* 做长远规划\n",
    "* 清晰理解基础知识之后，再尝试面试问题"
   ]
  },
  {
   "cell_type": "markdown",
   "metadata": {},
   "source": [
    "### DS和算法的定义\n",
    "* 清楚每个基本数据结构和算法的定义\n",
    "* 理清概念。e.g.DP与递归之间的区别，stack栈和heap堆之间的区别。\n",
    "* 实现算法。e.g.快速排序，用堆实现找k个最大的数字，BFS/DFS"
   ]
  },
  {
   "cell_type": "markdown",
   "metadata": {},
   "source": [
    "### 优缺点\n",
    "* 清楚每种DS和算法的优缺点，熟悉他们的特征\n",
    "* 针对每个DS和算法，应该问自己：有什么优缺点？我什么时候可以使用它？"
   ]
  },
  {
   "cell_type": "markdown",
   "metadata": {},
   "source": [
    "### 复杂度\n",
    "* 清楚每种DS和算法的复杂度\n",
    "* 清楚优化的路线\n",
    "    * 最常见的情况是你的解决方案很慢，面试官要求你对其进行优化。\n",
    "    * 假设你有一个 O(n^2) 的方法，为了让它更快，我们可以这样想：  \n",
    "        一般来说，为了提高速度，我们可以选择更好的数据结构/算法，或者使用更多的内存。  \n",
    "        如果我们想使它成为 O(nlogn) ，有几种可用的工具：二分搜索，排序，BST 等等。也许你应该尝试对数组排序，  hash/dic散列是一个选项。另外，DP 是优化递归的好方法。"
   ]
  },
  {
   "cell_type": "markdown",
   "metadata": {},
   "source": [
    "### 总结\n",
    "* 我会建议人们逐个查阅所有基本的数据结构/算法。 了解这个概念，弄清楚利弊，并自己实现。 在这一步完成之前，不要急于练习编程问题。"
   ]
  },
  {
   "cell_type": "markdown",
   "metadata": {},
   "source": [
    "## 练习编程问题"
   ]
  },
  {
   "cell_type": "markdown",
   "metadata": {},
   "source": [
    "### 什么时候\n",
    "* 我必须在这里强调多次：在熟悉基本的数据结构/算法之前开始练习编程问题是没有意义的。\n",
    "* 这个想法是，你不需要完成你在网上看到的每一个问题，也不需要浏览所有这些在线资源。80/20 规则说 80% 的结果来自 20% 的原因。 我想帮助你确定你需要关注的 20%。"
   ]
  },
  {
   "cell_type": "markdown",
   "metadata": {},
   "source": [
    "### 提示1：编写足够的代码"
   ]
  },
  {
   "cell_type": "markdown",
   "metadata": {},
   "source": [
    "### 提示2：把想法说出来\n",
    "* 强烈建议把想法说出来，好处是：\n",
    "    * 展示沟通技巧\n",
    "    * 如果你不在正确的路线上，面试官更有可能纠正你\n",
    "    * 这可以帮助你更清楚地理解你的想法，并防止你在想法足够具体之前编写代码"
   ]
  },
  {
   "cell_type": "markdown",
   "metadata": {},
   "source": [
    "### 提示3：控制时间\n",
    "* 在练习编码问题时，有多少人注意速度？很少\n",
    "* 当每个人第一次跟踪时间的时候，它们都会对速度有多慢感到惊讶。人类不善于估计时间\n",
    "* 对于谷歌编程面试，每一个正好 45 分钟。你会打个招呼，并在第一个 5 分钟内介绍自己，最后，你可以再花 5 分钟提问。在剩余的 35 分钟内，你需要完成 2 个编程问题，其中至少有一个需要编写代码\n",
    "    * 在头脑清晰之后编写代码\n",
    "    * 在完成brute force之后，才进行优化\n",
    "    * 不要从头造轮子。比如能用sort()，就不用全部写出sort的代码\n",
    "* 找出速度慢的瓶颈\n",
    "    * 提出正确的方法：如果您提供解决方案的速度很慢，则很可能是您没有足够的练习。\n",
    "    * 编写可靠的代码：如果您发现自己完成编码的速度很慢，那么您应该为每个练习的问题编写可靠的代码。\n",
    "* 与计时器练习\n",
    "* 天真的解决方案优先"
   ]
  },
  {
   "cell_type": "markdown",
   "metadata": {},
   "source": [
    "### 返回到基础知识\n",
    "* 不管你多努力，总是会有更多的无法准备的问题。处理正确的问题是成功的关键。\n",
    "* 一开始，最好涵盖许多不同类型的问题（例如链表，递归，动态规划等） 。不过，以后你应该更专注\n",
    "* 如果你发现自己的弱点是一个特定的领域，例如树问题。通常有两种情况：\n",
    "    * 你的基础不够牢固。换句话说，你对基本的数据结构/算法没有清晰的认识。在这种情况下，不管你练习了多少个问题，你的问题总是在那里。你应该做的，是回顾你的教科书，并解决根本问题。\n",
    "    * 有时候，你只需要多练习。去寻找更多相同类型的问题，并把重点放在这个领域一段时间。这是一个比漫无目的的更有效的方法。"
   ]
  },
  {
   "cell_type": "markdown",
   "metadata": {},
   "source": [
    "### 总结\n",
    "* 你应该挑选在线资源，并在实践中聪明一些\n",
    "* 清楚自己的实力/弱点并做相应的准备。了解你自己而不是漫无目的地工作，这很重要。\n",
    "* 如果我希望从本章中得到一件事情，那就是确定你的 20% 的努力，并尽可能多地关注它"
   ]
  },
  {
   "cell_type": "markdown",
   "metadata": {},
   "source": [
    "## 资深工程师、应届生和实习生"
   ]
  },
  {
   "cell_type": "markdown",
   "metadata": {},
   "source": [
    "### 相似和不同\n",
    "* 实习生的系统设计通常是可选的。但是每个人都需要数据结构，算法和测试。\n",
    "    * 数据结构。候选人应该非常熟悉树，哈希表，栈/队列等所有基本数据结构。一个很好的例子是，如果你正在实现一个 BFS，你应该清楚使用哪个数据结构。\n",
    "    * 算法。如果面试官要求你逐层遍历树，你知道使用哪种算法吗？而且，许多人往往忽视的是时间和空间的复杂性。我想说，如果候选人在分析复杂性方面有困难，我很难给他/她一个好的分数\n",
    "    * 测试。确保代码能够正常工作是非常重要的。有些人甚至是 TDD 的铁杆粉丝。在练习编码问题时，总是问自己如何测试你的解决方案？你会提供哪些测试用例？作为一名面试官，我通常会寻找能够覆盖这些角落案例的候选人，并且能够将代码模块化以便于测试。\n",
    "    * 系统设计。这是高级和低级工程师之间的一大区别。设计一个可扩展和健壮的系统并不是一件容易的事情。我们很快就会在整个章节中讨论这个话题"
   ]
  },
  {
   "cell_type": "markdown",
   "metadata": {},
   "source": [
    "### 应届生和实习生\n",
    "* 专注于数据结构/算法：如果你精通基本的数据结构/算法，你至少完成了 80%。在这个领域花尽可能多的时间和精力\n",
    "* 项目和实习\n",
    "    * 做一些很酷的项目，那真的会很不一样。 如果是课程项目，个人项目或实习，也没有关系\n",
    "    * 花时间准备你的介绍。 找出你想突出显示的项目，并使你的语言清晰易懂。 不要以为面试官具有所有的背景。"
   ]
  },
  {
   "cell_type": "markdown",
   "metadata": {},
   "source": [
    "### 总结\n",
    "* 有时候，资深工程师和学生之间的差异完全在于心态。应届生/实习生对面试太害怕了，因为他们认为他们对软件构建一无所知。 但是，由于期望低，只需要有一个扎实的计算机科学基础"
   ]
  },
  {
   "cell_type": "markdown",
   "metadata": {},
   "source": [
    "## 系统设计面试"
   ]
  },
  {
   "cell_type": "markdown",
   "metadata": {},
   "source": [
    "## 电面"
   ]
  },
  {
   "cell_type": "markdown",
   "metadata": {},
   "source": [
    "### 把它当作现场面试\n",
    "* 有两种类型的电话面试 - 非技术面试和技术面试。非技术性面试通常由人力资源部门进行。谈话主要是关于你的背景和激情\n",
    "* 技术面试是本章我们所关注的内容。除了不是面对面的交流之外，你可以期望它和现场面试完全一样。\n",
    "* 以 Google 电话面试为例。 这大概是 45 分钟，通常会问两个问题。 你一定会为其中的至少一个编写代码。\n",
    "* 在电话面试中不太可能有系统设计问题，所以我的建议只是把它当作现场编程面试。\n",
    "* 如果你认为电话面试技术性较差且较容易，你可能需要调整你的期望。 准备好接受技术性的电话面试。 即使事情变得比预期更容易，这实际上是一件好事。"
   ]
  },
  {
   "cell_type": "markdown",
   "metadata": {},
   "source": [
    "### 熟悉Google Doc/其他代码共享工具\n",
    "* 搜索 Google 或 Glassdoor，或只是询问招聘人员。你也应该检查是否需要编译。经验法则是去除尽可能多的意想不到的事情\n",
    "* 像往常一样练习编程问题，但在特定工具上编写代码。有时可能需要一些时间才能适应，例如谷歌面试官喜欢分享 Google Doc，没有缩进，自动不全或高亮显示。\n",
    "* 细节真的很重要。干净而易读的代码可以真正令面试官感到震惊。"
   ]
  },
  {
   "cell_type": "markdown",
   "metadata": {},
   "source": [
    "### 把想法说出来\n",
    "* 在电话面试中，把想法说出来更为重要。 每个人都知道手机屏幕上的沟通不太顺畅，但是很少有人真正做出改进。\n",
    "* 最大的好处就是减少不必要的误会。如果我知道他在想什么，当事情不正确时，我一定会提供帮助。另外，最终的代码只是我们评估的一部分，讨论过程和候选人如何分析问题同样重要。\n",
    "* 谈论的几个方面：\n",
    "    * 谈谈你的整体策略。 你想从一些例子开始吗？ 你是否正在解决问题的一个简单版本？ 你打算使用动态规划吗？--》Idea + Method\n",
    "    * 你关心什么？ 你是否担心使用太多的内存或算法太慢？--> 优化Time or Space\n",
    "    * 你将在以后解决什么问题？ 例如，你知道当前的算法不处理一个特定的情况，提前提到这一点。--> 目前算法的缺点！！！\n",
    "    * 你卡在什么上了？ 当你发现自己没有取得进展时，说清楚你的问题。--> 说出自己的困难"
   ]
  },
  {
   "cell_type": "markdown",
   "metadata": {},
   "source": [
    "### 沟通技巧\n",
    "* 慢慢说，说清楚。！！！\n",
    "    * 当人们紧张时，人们倾向于说得更快，因为这通常是第一次技术性面试。通常，当我难以理解候选人的时候，给我的印象是他脑子里不清楚。只要放慢速度，不要急于求成。 这也可以让你听起来更有信心。\n",
    "* 使用速记来帮助。\n",
    "    * 这是一个面对面讨论的“技巧”。突出重点。例如，如果你的解决方案包含三个步骤，只需列出概要。实际上，用一些文字来减少不必要的来回讨论，最终可以节省你的时间\n",
    "* 找一个安静的环境。\n",
    "    * 你会惊讶于有多少人在恶劣的环境中进行了电话面试。背景噪音，信号差和意外中断是我遇到的三件事情。有时候会让我发疯。\n",
    "* 每天练习这些技巧"
   ]
  },
  {
   "cell_type": "markdown",
   "metadata": {},
   "source": [
    "### 不要作弊\n",
    "* 面试官能够比预期更容易发现作弊行为"
   ]
  },
  {
   "cell_type": "markdown",
   "metadata": {},
   "source": [
    "### 总结\n",
    "* 尽早练习沟通"
   ]
  },
  {
   "cell_type": "markdown",
   "metadata": {},
   "source": [
    "## 现场面试"
   ]
  },
  {
   "cell_type": "markdown",
   "metadata": {},
   "source": [
    "### 现场面试流程\n",
    "* 总共进行四次技术性面试（通常是上午两个，下午两个）。在午餐时间有一个“午餐面试”，但这不是一个真正的面试，因为你没有被评估，这只是一个与 Google 员工聚会的机会\n",
    "* 四个编程面试中，至少有一个是系统设计面试\n",
    "* 面试结束后，每位面试官都会写下一份报告，其中包含了 45 分钟的所有细节和讨论，包括你的代码。该报告可以非常详细地说明，在每个部分花费了多少时间，并且在提示之后你的反应将被包括在内。招聘委员会将根据所有这些报告进行招聘决策"
   ]
  },
  {
   "cell_type": "markdown",
   "metadata": {},
   "source": [
    "### 电话面试 VS 现场面试\n",
    "* 面对面交流意味着整个过程可以更加顺畅，但同时很多人更容易紧张。\n",
    "* 问题稍微困难一些。"
   ]
  },
  {
   "cell_type": "markdown",
   "metadata": {},
   "source": [
    "### “问题比我想象的要容易得多”\n",
    "* 总的来说，onsite只是稍微困难一点。 许多面试官仍然会问如 2-sum 的问题，来获得候选人的最初想法\n",
    "* 谷歌面试中最困难的部分（与其他公司一样） 不是提出解决方案。 很多人可以在一定程度上解决这个问题。 但要获得好成绩，你需要：\n",
    "    1. 拿出最佳的解决方案\n",
    "    * 编程干净和无错的代码\n",
    "    * 在时间限制下完成这两件事情\n",
    "* 第二点和第三点是最具挑战性的部分，大多数候选人由于这两个原因而失败。 许多人声称问题比他们想象的要容易得多，但他们仍然没有快速地提供无错代码。\n",
    "* 从面试官的角度来看，提出没有人能解决的问题是没有意义的。 为了评估候选人，我们需要看到分析过程，代码以及他/她能够多快解决问题。\n",
    "* 我的任务：\n",
    "    * 更多关注“基本”问题而不是超级难题。\n",
    "        * 只要在 Glassdoor 上对 Uber 面试问题进行一点搜索，就可以了解哪些类型的问题很受欢迎。 你很快就会意识到，他们并不像大多数人所想的那样艰难\n",
    "    * 练习时要特别注意编程。 为每个问题写下可靠的代码并跟踪时间。！！！"
   ]
  },
  {
   "cell_type": "markdown",
   "metadata": {},
   "source": [
    "### 白板\n",
    "* 写之前要仔细考虑。事先要有清醒的想法。\n",
    "* 工整的写作。"
   ]
  },
  {
   "cell_type": "markdown",
   "metadata": {},
   "source": [
    "### 沟通\n",
    "* 整个面试是一个讨论过程，在现场面试中更是如此。\n",
    "    * 这与考试完全不同，因为你需要与面试官保持沟通。把这个过程当作一个正常的讨论，与你们的同事在一起讨论同样的问题。\n",
    "* 把想法说出来。谈论你脑海中的任何事情，在讨论之前你不需要有任何具体的想法。--> 有什么说什么，idea + method\n",
    "* 随意谈谈你卡在了什么地方。\n",
    "    * 面试官真的很乐意通过给你提示或告诉你你不是在正确的方向来帮助你。不要担心暴露你的弱点，即使你不承认也不会有任何进展。相反，放宽心态，面试过程将会更加愉快。"
   ]
  },
  {
   "cell_type": "markdown",
   "metadata": {},
   "source": [
    "### 总结\n",
    "* 面试前你一定需要很多练习"
   ]
  },
  {
   "cell_type": "markdown",
   "metadata": {},
   "source": [
    "## 非技术问题\n",
    "* 一般来说，非技术性问题只占面试的一小部分。 然而，如果面试官抓住任何危险信号，它可以“杀掉”你。 一个例子是文化适应。"
   ]
  },
  {
   "cell_type": "markdown",
   "metadata": {},
   "source": [
    "### 面试官在寻找什么\n",
    "* 总体印象\n",
    "    * 我想和这个人一起工作吗？这确实是一个非常主观的问题，但通过与候选人交谈和讨论，面试官可以得到一些想法。\n",
    "* 文化适应\n",
    "    * 每个公司都有自己的文化，评估候选人是否合适是非常重要的。每种文化都有其优点和缺点，因此都是关于匹配（就像约会一样）。\n",
    "* 加分和危险信号\n",
    "    * 编程问题永远不能涵盖一个人的每一个方面。通过讨论过去的经验，候选人感兴趣的领域，面试官实际上是寻找任何加分或危险信号。"
   ]
  },
  {
   "cell_type": "markdown",
   "metadata": {},
   "source": [
    "### 自我介绍\n",
    "* “介绍你自己”可能是唯一确定的问题，没有理由不准备。\n",
    "    * 在好的和不好的介绍之间没有明确的界限，但事先做好一些准备工作肯定会对你有好处。事实上，这不会占用你太多的时间。\n",
    "* 黄金法则是清晰简明。\n",
    "    * 首先，列出你真正想要在你的介绍中突出显示的几点（少于三点）。这可能是你过去的项目之一，或者你赢得的一些编程比赛。其次，在 1-2 分钟内压缩所有这些\n",
    "    * 不需要覆盖尽可能多的细节。如果面试官想知道更多，他们会问。一个常见的错误是过度推销自己。长时间的介绍不仅会让面试官厌烦，而且会缩短你的编程问题的时间\n",
    "* 常见的错误是我所说的“太模糊”。\n",
    "    * 往往不是因为候选人沟通不好，而是因为介绍有很多细节，没有相关的背景的人不能理解。找到一个对你的工作不太了解的工程师朋友，测试他/她是否能理解你的介绍。\n",
    "* 相关性。\n",
    "    * 强烈建议对每个公司有不同的介绍。你想表明你能胜任这个职位，因为你有相关的经验。这绝对不是必需的，但是如果你有的话会是一个加分。如果你以前的所有项目都是完全不相关的（例如，你在硬件上工作，但是在寻找一个软件的职位） ，那么就把它保持简洁。"
   ]
  },
  {
   "cell_type": "markdown",
   "metadata": {},
   "source": [
    "### 文化适应\n",
    "* 每个公司，无论多大，都有一定的规范和信念，每个人都遵循。这不是一个强迫人们以同样的方式行事的具体规则，也不是人们从不行动的口号。这就是为什么文化是定义它的最好的术语\n",
    "    *  Facebook 的“行动迅速和打破常规”。核心的信念是尽早测试，来避免过度工程。你可以通过 Google 深入了解这一点。\n",
    "* 关键在于面试官有责任评估候选人是否真正符合这种文化。这并不容易，但从所有的讨论中，人们仍然可以得到一些想法。\n",
    "    * 例如，在系统设计面试中，面试官肯定知道你是否倾向于过度工程\n",
    "    * Airbnb。通常情况下，你将有一个完全集中于文化适应的简短面试。你会被问到你的产品经验，为什么你想加入 Airbnb，你也可以谈论你的职业目标。如果你不是真的相信 Airbnb 的使命，只是瞄准加薪，我怀疑你是否会得到录用。"
   ]
  },
  {
   "cell_type": "markdown",
   "metadata": {},
   "source": [
    "### 双向选择\n",
    "* 你不需要适应文化，你应该评估文化\n",
    "    * 最大的误解是认为面试是考试。但是，我认为这是一个双向的选择。面试过程中，考生应同时对面试官和公司进行评估。在与公司工作的人交谈之后，你可能会有完全不同的印象。\n",
    "* 在文化适应方面，我认为更好的解释是评估公司是否真的适合你。\n",
    "    * 如果你不相信它的价值，你不需要显着地调整自己来适应公司。但是，你至少应该调查和了解它的文化。\n",
    "* 很多人不了解他们正在面试的公司。\n",
    "    * 对我来说，就像你在和一个女孩约会而不知道她的背景。这就是“为什么加入我们”应该是一个非常简单而直接的问题。如果你知道公司是否适合你，你应该可以在几秒钟内回答。如果你不相信公司的使命，也许你本来不应该申请。"
   ]
  },
  {
   "cell_type": "markdown",
   "metadata": {},
   "source": [
    "### 给面试官的问题\n",
    "* 建议问一下。 好处是你会更加了解面试官和公司。而且，向公司展示你的兴趣总是一个好兆头\n",
    "* 不要认为这个过程是增加机会的一种方式，尽管可能是。 一个更好的方法就是询问你脑海中关于公司的任何问题，而且把其他事情考虑好\n",
    "* 不要问你的面试表现/结果。"
   ]
  },
  {
   "cell_type": "markdown",
   "metadata": {},
   "source": [
    "### 总结\n",
    "* 尽管非技术性问题可能成为面试的重要部分，但事实是，大多数人往往会过度担心。\n",
    "* 大多数时候，你只需要做你自己。 如果他们觉得你在文化方面不太合适，那可能不是什么坏事，因为它比加入公司好得多，一切都不像你想象的那样。\n",
    "* 在面试之前，你绝对可以准备好非技术性的问题，但是要专注于技术性问题，这是面试的核心"
   ]
  },
  {
   "cell_type": "markdown",
   "metadata": {},
   "source": [
    "## 非谷歌的面试"
   ]
  },
  {
   "cell_type": "markdown",
   "metadata": {},
   "source": [
    "### 惊人的相似\n",
    "* “Google 风格面试”是迄今为止的最佳解决方案"
   ]
  },
  {
   "cell_type": "markdown",
   "metadata": {},
   "source": [
    "### 扎实的基础\n",
    "* 具有类似的面试流程意味着扎实的基础比以往更重要。\n",
    "* 完全错误的策略是在第一天跳进编程问题。 \n",
    "* 另一方面，如果你从一开始就把注意力集中在基础上，无论你正在准备哪家公司，你都会处于有利地位。 这种复合效应不能再重要"
   ]
  },
  {
   "cell_type": "markdown",
   "metadata": {},
   "source": [
    "### 持之以恒\n",
    "* 尽早开始准备，并把整个过程当做自我提升而不是通过测试的一种方法。"
   ]
  },
  {
   "cell_type": "markdown",
   "metadata": {},
   "source": [
    "### 公司特定的准备\n",
    "* 公司可能仍然有一些特定类型的面试。一个例子就是亚马逊在第一轮面试中通常会有一个编程测试。我的建议很简单 - 不要太担心。\n",
    "* 我建议人们仍然按照他们的初步准备计划。总是需要着重于基础和练习编程问题。如果没有掌握基本的数据结构和算法，你将无法通过在线编程测试。\n",
    "* 在面试之前（也许提前一周） ，你可以做一些公司特定的准备。强烈建议使用 Glassdoor，你可以找到目标公司最近提出的大量问题。换句话说，你应该在准备的最后一步做这个，或多或少你会发现公司之间的差异。"
   ]
  },
  {
   "cell_type": "markdown",
   "metadata": {},
   "source": [
    "### 总结\n",
    "* 一定是专注于“基础”。 大多数人往往目光短浅，大部分时间花在“细枝末节”上。 如果没有扎实的基础，你或许能够偶然地解决一个问题，但是你永远无法解决所有问题"
   ]
  }
 ],
 "metadata": {
  "kernelspec": {
   "display_name": "Python 3",
   "language": "python",
   "name": "python3"
  },
  "language_info": {
   "codemirror_mode": {
    "name": "ipython",
    "version": 3
   },
   "file_extension": ".py",
   "mimetype": "text/x-python",
   "name": "python",
   "nbconvert_exporter": "python",
   "pygments_lexer": "ipython3",
   "version": "3.7.6"
  },
  "pycharm": {
   "stem_cell": {
    "cell_type": "raw",
    "metadata": {
     "collapsed": false
    },
    "source": []
   }
  },
  "toc": {
   "base_numbering": 1,
   "nav_menu": {},
   "number_sections": true,
   "sideBar": true,
   "skip_h1_title": false,
   "title_cell": "Table of Contents",
   "title_sidebar": "Contents",
   "toc_cell": false,
   "toc_position": {
    "height": "787px",
    "left": "260px",
    "top": "134px",
    "width": "237.4px"
   },
   "toc_section_display": true,
   "toc_window_display": true
  }
 },
 "nbformat": 4,
 "nbformat_minor": 1
}
