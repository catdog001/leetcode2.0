{
 "cells": [
  {
   "cell_type": "markdown",
   "metadata": {
    "collapsed": true,
    "pycharm": {
     "name": "#%% md\n"
    }
   },
   "source": [
    "1. 态度：不卑不亢，有自信  \n",
    "\n",
    "2. 重复题目，确认要求：\n",
    "    * 具体步骤：\n",
    "        * 确认sample input/output\n",
    "        * edge case:\n",
    "            * 输入：内容状态（无货，1个货，重复，顺序,'空1重序'）+ 取值范围(正负0，整数)\n",
    "                * LinkedList：改变node数值，有序无序\n",
    "                * 二叉树：值是什么类型的\n",
    "            * 输出：'空1重序' 输入情况的结果/条件不满足，输出原输入数/结果数字重复怎么输出\n",
    "        * 明确： 注重time complexity or space complexity?\n",
    "    * 面试官提问环节：\n",
    "        * 先把自己会的说出来，再求教于面试官补充\n",
    "        * 与面试环交流有歧义，要及时纠正，不要就坡下驴\n",
    "\n",
    "3. 写出数据结构和算法，解释\n",
    "    * 整体步骤：\n",
    "        * 暴力+优化的层次分析\n",
    "            * linklist：list法 + two pointer法等\n",
    "    * 具体步骤：\n",
    "        * 写出idea及method(如有必要，请画图)\n",
    "            * idea：方法名 brute force / two pointer / change next pointer\n",
    "            * method：\n",
    "                * 包含定义好的变量名的，traversal/recursion等过程名的过程表述。e.g. traversal the linklist to save node val in node_list\n",
    "                * 用case1 case2 case3表示各个条件情况\n",
    "                * 要简单一些。eg.只要说traverse/scan index即可，不用说from i to j,\n",
    "        * 给出space/time complexity\n",
    "            * 对于dic等space comp，要具体分析。由于题目条件，可能存在只有有限个(2个等)，故此时sO(2) = sO(1),而不是通常的O(N)\n",
    "    * tips：\n",
    "        * 为了保险，用for i in range(len(x)), 而不是 for elem in list\n",
    "        * 如果发现edge case不完全，要写到2部分，不要在本部分插入\n",
    "\n",
    "4. code之前：\n",
    "    * 'should I implement it in code? or you want me to continue to optimize it?'\n",
    "    * 'we have ... minutes. It seems that I can finish it in time.'\n",
    "\n",
    "5. right coding\n",
    "    * 具体步骤：\n",
    "        * 强调需要使用class，并对class和function命名，加功能注释及特殊输入格式的提醒\n",
    "        * 写出框架，再擦掉即可：\n",
    "                def func(self,input): #inp：XXX， outp：numb of string...\n",
    "                    res = 0\n",
    "                    方框\n",
    "                return res\n",
    "        * 变量名定义要有意义，不要后补: temp/ans/res\n",
    "        * 书写代码，并同时书写注释：\n",
    "            * 对复杂操作和无法一目了然目的的代码，再行尾添加描述代码目的的注释\n",
    "            * 不要描述代码，比如traversal i from 1 to 19\n",
    "            * 针对‘method’中列出的case，针对性的注释case1/case2/case3即可\n",
    "    * 状态:\n",
    "        * 写代码时不要自言自语，想什么就跟考官交流，说我要做什么什么了\n",
    "    * tips：\n",
    "        * 发现method不完全，需要添加内容时：同时添加method和code\n",
    "        * 遇到特别大的数进行运算时，可以说“当使用python时，可以避免像c++那样的数据溢出问题（overflow）”\n",
    "        * 求list中的长度，j-i即可\n",
    "\n",
    "6. 跑test case\n",
    "    * 具体步骤：\n",
    "        * 先跑面试官的case\n",
    "            * 先验主函数，再验证helper function\n",
    "            * test要清晰的隔绝开，不乱\n",
    "        * 再跑自己的case\n",
    "    * 题目类型test：\n",
    "        * 链表：画图指示箭头 + table\n",
    "        * array: 分为两个部分，总结果表示各个关键变量的值，用table表示；小结果写在code的右边，即写即擦，展现具体的计算过程\n",
    "7. 发音和书写\n",
    "    * 发音：慢而清晰\n",
    "    * 书写：行距适中，头要对其，字不要太小，缩进4个空格，行距可以小！！！\n",
    "\n",
    "8. 考官交流\n",
    "    * 问了必答，比如在idea区域问space comp时，也必须要回答，虽然不清楚具体的结果，也要说我预计xxx，下面可能会有改变\n",
    "    * 不会做时，考官会给与提示，此时要做到：\n",
    "        * 及时跟进自己的想法，明白他说的细节\n",
    "        * 他说完后，要整理明白这段所有的思路，并叙述出来，与他交流。\n",
    "    * following up没时间写时，可以只讲思路，怎么做就行。等面试结束后，可以查面试官邮箱，把具体方法发到他邮箱里。\n",
    "\n",
    "\n"
   ]
  }
 ],
 "metadata": {
  "kernelspec": {
   "display_name": "Python 3",
   "language": "python",
   "name": "python3"
  },
  "language_info": {
   "codemirror_mode": {
    "name": "ipython",
    "version": 2
   },
   "file_extension": ".py",
   "mimetype": "text/x-python",
   "name": "python",
   "nbconvert_exporter": "python",
   "pygments_lexer": "ipython2",
   "version": "2.7.6"
  },
  "pycharm": {
   "stem_cell": {
    "cell_type": "raw",
    "source": [],
    "metadata": {
     "collapsed": false
    }
   }
  }
 },
 "nbformat": 4,
 "nbformat_minor": 0
}