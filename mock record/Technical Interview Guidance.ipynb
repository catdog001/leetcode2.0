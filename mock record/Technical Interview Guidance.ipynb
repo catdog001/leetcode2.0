{
 "cells": [
  {
   "cell_type": "markdown",
   "metadata": {
    "collapsed": true,
    "pycharm": {
     "name": "#%% md\n"
    }
   },
   "source": [
    "# 总体\n",
    "* 态度：不卑不亢，有自信，不要说自己的发音不好，这题很困难等。\n",
    "    * 面试官在接受面试时通常会有一种心态，即如果他/她可以与应聘者一起每天工作，那么请不要在面试时表现出傲慢或自我的迹象。。\n",
    "* 发音：慢而清晰。只要放慢速度，不要急于求成。这也可以让你听起来更有信心。\n",
    "* 书写：行距适中，头要对其，字要始终，工整，缩进4个空格，行距适中"
   ]
  },
  {
   "cell_type": "markdown",
   "metadata": {},
   "source": [
    "# BQ问题\n",
    "* 背熟练，眼睛要对上，自然\n",
    "* 简明回答，诱导对方进一步提问"
   ]
  },
  {
   "cell_type": "markdown",
   "metadata": {},
   "source": [
    "# 确认题目要求\n",
    "* 具体步骤：\n",
    "    * 复述定义问题.\n",
    "        * 问题结构：API是什么样的，需要自己写结构吗，确定数据的结构类型，取值范围\n",
    "            * 链表有几个环等\n",
    "        * target: 确定问题目标\n",
    "        * 如果不理解题目，请寻求帮助，或者要求进一步要求细化问题\n",
    "    * 确认corner case: (corner case包含edge case)\n",
    "        * 横行 corner case： input       output\n",
    "        * 横行          '空1重序'       xxx\n",
    "        * LinkedList：改变node数值，有序无序\n",
    "        * 二叉树：值是什么类型的\n",
    "        * Python用None，Java用Null\n",
    "    * 明确： \n",
    "        * 注重time complexity or space complexity?\n",
    "        * 如果问题过于复杂，耗时，给出大概的时间，及是否能完成。问可否简化"
   ]
  },
  {
   "cell_type": "markdown",
   "metadata": {},
   "source": [
    "# 写出数据结构和算法，解释\n",
    "* 整体步骤：\n",
    "    * 暴力+优化的层次分析\n",
    "        * linklist：list法 + two pointer法等\n",
    "* 具体步骤：\n",
    "    * 提出可以尝试某一种idea (brute force or others)，说要思考，并解释简要原因\n",
    "    * 写出idea及method(如有必要，请画图)\n",
    "        * idea：方法名 brute force / two pointer / change next pointer\n",
    "        * method：\n",
    "            * 解释的时候用例子更易懂\n",
    "            * 包含定义好的变量名的，traversal/recursion等过程名的过程表述。e.g. traversal the linklist to save node val in node_list\n",
    "            * 用case1 case2 case3表示各个条件情况\n",
    "            * 要简单一些。eg.只要说traverse/scan index即可，不用说from i to j,\n",
    "    * 给出space/time complexity\n",
    "        * 主动给出\n",
    "        * 对于dic等space comp，要具体分析。由于题目条件，可能存在只有有限个(2个等)，故此时sO(2) = sO(1),而不是通常的O(N)\n",
    "* 交流：\n",
    "    * 注意聆听，如果你的面试官试图帮助你，不要错过任何提示！\n",
    "    * 与面试环交流有歧义，要及时纠正，不要就坡下驴\n",
    "* tips：\n",
    "    * 先想清楚，再写\n",
    "    * 注意编号的清晰\n",
    "    * 如果发现corner case不完全，要写到2部分，不要在本部分插入\n",
    "    * 变量名用骆驼命名法 mySolution,避免使用下划线new_head"
   ]
  },
  {
   "cell_type": "markdown",
   "metadata": {},
   "source": [
    "# code之前：\n",
    "* 'should I implement it in code? or you want me to continue to optimize it?'\n",
    "* 'we have ... minutes. It seems that I can finish it in time.'"
   ]
  },
  {
   "cell_type": "markdown",
   "metadata": {},
   "source": [
    "# right coding\n",
    "* 具体步骤：\n",
    "    * class和function命名，加功能注释及特殊输入格式的提醒，不用说理由，基础语法不用说\n",
    "    * 写出框架，再擦掉即可：\n",
    "            def func(self,input): #inp：XXX， outp：numb of string...\n",
    "                res = 0\n",
    "                方框\n",
    "            return res\n",
    "    * 书写代码，并同时书写注释：\n",
    "        * 要严苛的写在行尾，对齐，不要写在行中间\n",
    "        * 对复杂操作和无法一目了然目的的代码，在行尾添加描述代码目的的注释\n",
    "        * 不要描述代码，比如traversal i from 1 to 19\n",
    "        * 针对‘method’中列出的case，针对性的注释case1/case2/case3即可\n",
    "* 交流:\n",
    "    * 简要交流目前在写什么，不要不说话\n",
    "* tips：\n",
    "    * 只要写代码就行了，不要问有无听懂。此处考察代码能力。\n",
    "    * 变量名定义用骆驼命名法，要有意义，不要后补: temp/ans/res。不要用new\n",
    "    * 各部分功能清晰划分时，最好用不同的函数分块去写。先写主函数，再写分块函数\n",
    "    * 发现method不完全，需要添加内容时：同时添加method和code\n",
    "    * 求list中的长度，j-i即可\n",
    "    * 保证书写出代码的有效性，e.g.a.next.next,要保证a.next的有效，故在判断条件中要书写出来"
   ]
  },
  {
   "cell_type": "markdown",
   "metadata": {},
   "source": [
    "# 跑test case\n",
    "* 具体步骤：\n",
    "    1. 跑corner case \n",
    "    * 跑面试官的case\n",
    "        * 先验主函数，再验证helper function\n",
    "        * test要清晰的隔绝开，不乱\n",
    "    * 再跑自己的case\n",
    "* 格式: 前后风格格式要统一，要易懂\n",
    "* 题目类型test：\n",
    "    * 链表：画图指示箭头 + table\n",
    "    * array: 分为两个部分，总结果表示各个关键变量的值，用table表示；小结果写在code的右边，即写即擦，展现具体的计算过程"
   ]
  },
  {
   "cell_type": "markdown",
   "metadata": {},
   "source": [
    "# 考官交流\n",
    "* 问了必答，比如在idea区域问space comp时，也必须要回答，虽然不清楚具体的结果，也要说我预计xxx，下面可能会有改变\n",
    "* 当你发现自己没有取得进展时，说清楚你的问题, 考官会给与提示，此时要做到：\n",
    "    * 及时跟进自己的想法，明白他说的细节\n",
    "    * 他说完后，要整理明白这段所有的思路，并叙述出来，与他交流。\n",
    "    * 永远不要说你做不到。即使存在您之前从未解决过的问题，或者似乎无法解决的问题，请从不同的角度来不断解决问题，面试官会给您提示。但是，如果您说无法解决问题，那将是一个很大的危险信号，并且您最终可能会被拒绝。\n",
    "* following up没时间写时，可以只讲思路，怎么做就行。等面试结束后，可以查面试官邮箱，把具体方法发到他邮箱里。\n",
    "* 整个过程中，都要无拘束的问面试官问题，来保证完全理解了他们的问题！！！\n",
    "* 我们问问题时，也可以自由发问。内容可以包括：团队，文化等。这样利于判断这个工作是\n",
    "否适合我。"
   ]
  },
  {
   "cell_type": "markdown",
   "metadata": {},
   "source": [
    "# 电面特殊之处\n",
    "* 使用 Google Doc, 并建议使用扩音器或者耳机\n",
    "* 大声说出自己的想法，吐字清晰（困难点），告诉 idea 和 method\n",
    "* 能写多少写多少，先写函数头，然后写return，再填充里面的代码 (write what comes and but then refne it later)\n",
    "* 考虑生产就绪 (prodcuton ready) –> 很稳定，可维护的 (代码分功能写成不同的函数)，可扩展的（用类），有记录（注释）\n",
    "* 在电话面试中不太可能有系统设计问题，所以我的建议只是把它当作现场编程面试\n",
    "* 找一个安静的环境"
   ]
  }
 ],
 "metadata": {
  "kernelspec": {
   "display_name": "Python 3",
   "language": "python",
   "name": "python3"
  },
  "language_info": {
   "codemirror_mode": {
    "name": "ipython",
    "version": 3
   },
   "file_extension": ".py",
   "mimetype": "text/x-python",
   "name": "python",
   "nbconvert_exporter": "python",
   "pygments_lexer": "ipython3",
   "version": "3.7.5"
  },
  "pycharm": {
   "stem_cell": {
    "cell_type": "raw",
    "metadata": {
     "collapsed": false
    },
    "source": []
   }
  },
  "toc": {
   "base_numbering": 1,
   "nav_menu": {},
   "number_sections": true,
   "sideBar": true,
   "skip_h1_title": false,
   "title_cell": "Table of Contents",
   "title_sidebar": "Contents",
   "toc_cell": false,
   "toc_position": {
    "height": "calc(100% - 180px)",
    "left": "10px",
    "top": "150px",
    "width": "165px"
   },
   "toc_section_display": true,
   "toc_window_display": true
  }
 },
 "nbformat": 4,
 "nbformat_minor": 1
}
